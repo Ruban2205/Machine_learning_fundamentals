{
  "nbformat": 4,
  "nbformat_minor": 0,
  "metadata": {
    "colab": {
      "provenance": []
    },
    "kernelspec": {
      "name": "python3",
      "display_name": "Python 3"
    },
    "language_info": {
      "name": "python"
    }
  },
  "cells": [
    {
      "cell_type": "markdown",
      "source": [
        "# **Data preprocessing**"
      ],
      "metadata": {
        "id": "ol1P0Qo8PZ5z"
      }
    },
    {
      "cell_type": "markdown",
      "source": [
        "Visit for more details: https://github.com/Ruban2205/Machine_learning_fundamentals"
      ],
      "metadata": {
        "id": "3y_OMBdpe5WI"
      }
    },
    {
      "cell_type": "markdown",
      "source": [
        "### **Data Preprocessing Concepts**\n",
        "\n",
        "- Data reading and Displaying\n",
        "\n",
        "- Null values Imputation (Mean, Median, Mode, Dropna, fillna) \n",
        "\n",
        "- Duplicate data dropping \n",
        "\n",
        "- OneHotEncoder \n",
        "\n",
        "- LabelEncoder\n",
        "\n",
        "- KNN Imputer\n",
        "\n",
        "- Z-Score\n",
        "\n",
        "- Binarizer \n",
        "\n",
        "- Min-Max Scalar\n",
        " \n",
        "- Standard Scalar\n",
        "\n",
        "- LDA, PCA\n",
        "\n",
        "- SelectPercentile, chi2, SelectKBest, VarianceThreshold\n",
        "\n",
        "- Correlation (Highest +ve and -ve) \n",
        "\n",
        "- Feature Selection \n",
        "\n",
        "- Plotting"
      ],
      "metadata": {
        "id": "UBvm3HhNVCdw"
      }
    },
    {
      "cell_type": "code",
      "source": [
        "# Data preprocessing libraries \n",
        "\n",
        "import pandas as pd \n",
        "import numpy as np \n",
        "import matplotlib.pyplot as plt\n",
        "import seaborn as sns \n",
        "\n",
        "from sklearn.preprocessing import LabelEncoder, OneHotEncoder, Binarizer\n",
        "from sklearn.preprocessing import StandardScaler, MinMaxScaler\n",
        "from sklearn.metrics import z_scores\n",
        "from sklearn.impute import KNNImputer\n",
        "from sklearn.discriminant_analysis import LinearDiscriminantAnalysis\n",
        "from sklearn.decomposition import PCA\n",
        "from sklearn.feature_selection import SelectKBest, chi2, mutual_info_classif, VarianceThreshold\n",
        "from sklearn.model_selection import train_test_split"
      ],
      "metadata": {
        "id": "n88NIb30Tjnx"
      },
      "execution_count": null,
      "outputs": []
    },
    {
      "cell_type": "markdown",
      "source": [
        "**1) Data reading and displaying**"
      ],
      "metadata": {
        "id": "JXShYwmNPfVX"
      }
    },
    {
      "cell_type": "code",
      "execution_count": null,
      "metadata": {
        "colab": {
          "base_uri": "https://localhost:8080/",
          "height": 270
        },
        "id": "bv8W0quSPR4K",
        "outputId": "eb0f6655-a0a7-40b7-84be-c8998ec5d1a4"
      },
      "outputs": [
        {
          "output_type": "execute_result",
          "data": {
            "text/plain": [
              "   Price  Age  Mfg_Month  Mfg_Year     KM Fuel_Type  HP  Met_Color  Automatic  \\\n",
              "0  12950   23         10      2002  46986    Diesel  90          1          0   \n",
              "1  12950   23         10      2002  72937    Diesel  90          1          0   \n",
              "2  12950   24          9      2002  41711    Diesel  90          1          0   \n",
              "3  13950   26          7      2002  48000    Diesel  90          0          0   \n",
              "4  17950   30          3      2002  38500    Diesel  90          0          0   \n",
              "\n",
              "     cc  Doors Gears  Quarterly_Tax  Weight  Mfr_Guarantee  BOVAG_Guarantee  \\\n",
              "0  2000    3.0  Five            210    1165            0.0                1   \n",
              "1  2000    3.0  Five            210    1165            0.0                1   \n",
              "2  2000    3.0  Five            210    1165            1.0                1   \n",
              "3  2000    3.0  Five            210    1165            1.0                1   \n",
              "4  2000    3.0  Five            210    1170            1.0                1   \n",
              "\n",
              "   Guarantee_Period  \n",
              "0                 3  \n",
              "1                 3  \n",
              "2                 3  \n",
              "3                 4  \n",
              "4                 5  "
            ],
            "text/html": [
              "\n",
              "  <div id=\"df-0021b96e-034d-4b31-aba0-16dd93e55568\">\n",
              "    <div class=\"colab-df-container\">\n",
              "      <div>\n",
              "<style scoped>\n",
              "    .dataframe tbody tr th:only-of-type {\n",
              "        vertical-align: middle;\n",
              "    }\n",
              "\n",
              "    .dataframe tbody tr th {\n",
              "        vertical-align: top;\n",
              "    }\n",
              "\n",
              "    .dataframe thead th {\n",
              "        text-align: right;\n",
              "    }\n",
              "</style>\n",
              "<table border=\"1\" class=\"dataframe\">\n",
              "  <thead>\n",
              "    <tr style=\"text-align: right;\">\n",
              "      <th></th>\n",
              "      <th>Price</th>\n",
              "      <th>Age</th>\n",
              "      <th>Mfg_Month</th>\n",
              "      <th>Mfg_Year</th>\n",
              "      <th>KM</th>\n",
              "      <th>Fuel_Type</th>\n",
              "      <th>HP</th>\n",
              "      <th>Met_Color</th>\n",
              "      <th>Automatic</th>\n",
              "      <th>cc</th>\n",
              "      <th>Doors</th>\n",
              "      <th>Gears</th>\n",
              "      <th>Quarterly_Tax</th>\n",
              "      <th>Weight</th>\n",
              "      <th>Mfr_Guarantee</th>\n",
              "      <th>BOVAG_Guarantee</th>\n",
              "      <th>Guarantee_Period</th>\n",
              "    </tr>\n",
              "  </thead>\n",
              "  <tbody>\n",
              "    <tr>\n",
              "      <th>0</th>\n",
              "      <td>12950</td>\n",
              "      <td>23</td>\n",
              "      <td>10</td>\n",
              "      <td>2002</td>\n",
              "      <td>46986</td>\n",
              "      <td>Diesel</td>\n",
              "      <td>90</td>\n",
              "      <td>1</td>\n",
              "      <td>0</td>\n",
              "      <td>2000</td>\n",
              "      <td>3.0</td>\n",
              "      <td>Five</td>\n",
              "      <td>210</td>\n",
              "      <td>1165</td>\n",
              "      <td>0.0</td>\n",
              "      <td>1</td>\n",
              "      <td>3</td>\n",
              "    </tr>\n",
              "    <tr>\n",
              "      <th>1</th>\n",
              "      <td>12950</td>\n",
              "      <td>23</td>\n",
              "      <td>10</td>\n",
              "      <td>2002</td>\n",
              "      <td>72937</td>\n",
              "      <td>Diesel</td>\n",
              "      <td>90</td>\n",
              "      <td>1</td>\n",
              "      <td>0</td>\n",
              "      <td>2000</td>\n",
              "      <td>3.0</td>\n",
              "      <td>Five</td>\n",
              "      <td>210</td>\n",
              "      <td>1165</td>\n",
              "      <td>0.0</td>\n",
              "      <td>1</td>\n",
              "      <td>3</td>\n",
              "    </tr>\n",
              "    <tr>\n",
              "      <th>2</th>\n",
              "      <td>12950</td>\n",
              "      <td>24</td>\n",
              "      <td>9</td>\n",
              "      <td>2002</td>\n",
              "      <td>41711</td>\n",
              "      <td>Diesel</td>\n",
              "      <td>90</td>\n",
              "      <td>1</td>\n",
              "      <td>0</td>\n",
              "      <td>2000</td>\n",
              "      <td>3.0</td>\n",
              "      <td>Five</td>\n",
              "      <td>210</td>\n",
              "      <td>1165</td>\n",
              "      <td>1.0</td>\n",
              "      <td>1</td>\n",
              "      <td>3</td>\n",
              "    </tr>\n",
              "    <tr>\n",
              "      <th>3</th>\n",
              "      <td>13950</td>\n",
              "      <td>26</td>\n",
              "      <td>7</td>\n",
              "      <td>2002</td>\n",
              "      <td>48000</td>\n",
              "      <td>Diesel</td>\n",
              "      <td>90</td>\n",
              "      <td>0</td>\n",
              "      <td>0</td>\n",
              "      <td>2000</td>\n",
              "      <td>3.0</td>\n",
              "      <td>Five</td>\n",
              "      <td>210</td>\n",
              "      <td>1165</td>\n",
              "      <td>1.0</td>\n",
              "      <td>1</td>\n",
              "      <td>4</td>\n",
              "    </tr>\n",
              "    <tr>\n",
              "      <th>4</th>\n",
              "      <td>17950</td>\n",
              "      <td>30</td>\n",
              "      <td>3</td>\n",
              "      <td>2002</td>\n",
              "      <td>38500</td>\n",
              "      <td>Diesel</td>\n",
              "      <td>90</td>\n",
              "      <td>0</td>\n",
              "      <td>0</td>\n",
              "      <td>2000</td>\n",
              "      <td>3.0</td>\n",
              "      <td>Five</td>\n",
              "      <td>210</td>\n",
              "      <td>1170</td>\n",
              "      <td>1.0</td>\n",
              "      <td>1</td>\n",
              "      <td>5</td>\n",
              "    </tr>\n",
              "  </tbody>\n",
              "</table>\n",
              "</div>\n",
              "      <button class=\"colab-df-convert\" onclick=\"convertToInteractive('df-0021b96e-034d-4b31-aba0-16dd93e55568')\"\n",
              "              title=\"Convert this dataframe to an interactive table.\"\n",
              "              style=\"display:none;\">\n",
              "        \n",
              "  <svg xmlns=\"http://www.w3.org/2000/svg\" height=\"24px\"viewBox=\"0 0 24 24\"\n",
              "       width=\"24px\">\n",
              "    <path d=\"M0 0h24v24H0V0z\" fill=\"none\"/>\n",
              "    <path d=\"M18.56 5.44l.94 2.06.94-2.06 2.06-.94-2.06-.94-.94-2.06-.94 2.06-2.06.94zm-11 1L8.5 8.5l.94-2.06 2.06-.94-2.06-.94L8.5 2.5l-.94 2.06-2.06.94zm10 10l.94 2.06.94-2.06 2.06-.94-2.06-.94-.94-2.06-.94 2.06-2.06.94z\"/><path d=\"M17.41 7.96l-1.37-1.37c-.4-.4-.92-.59-1.43-.59-.52 0-1.04.2-1.43.59L10.3 9.45l-7.72 7.72c-.78.78-.78 2.05 0 2.83L4 21.41c.39.39.9.59 1.41.59.51 0 1.02-.2 1.41-.59l7.78-7.78 2.81-2.81c.8-.78.8-2.07 0-2.86zM5.41 20L4 18.59l7.72-7.72 1.47 1.35L5.41 20z\"/>\n",
              "  </svg>\n",
              "      </button>\n",
              "      \n",
              "  <style>\n",
              "    .colab-df-container {\n",
              "      display:flex;\n",
              "      flex-wrap:wrap;\n",
              "      gap: 12px;\n",
              "    }\n",
              "\n",
              "    .colab-df-convert {\n",
              "      background-color: #E8F0FE;\n",
              "      border: none;\n",
              "      border-radius: 50%;\n",
              "      cursor: pointer;\n",
              "      display: none;\n",
              "      fill: #1967D2;\n",
              "      height: 32px;\n",
              "      padding: 0 0 0 0;\n",
              "      width: 32px;\n",
              "    }\n",
              "\n",
              "    .colab-df-convert:hover {\n",
              "      background-color: #E2EBFA;\n",
              "      box-shadow: 0px 1px 2px rgba(60, 64, 67, 0.3), 0px 1px 3px 1px rgba(60, 64, 67, 0.15);\n",
              "      fill: #174EA6;\n",
              "    }\n",
              "\n",
              "    [theme=dark] .colab-df-convert {\n",
              "      background-color: #3B4455;\n",
              "      fill: #D2E3FC;\n",
              "    }\n",
              "\n",
              "    [theme=dark] .colab-df-convert:hover {\n",
              "      background-color: #434B5C;\n",
              "      box-shadow: 0px 1px 3px 1px rgba(0, 0, 0, 0.15);\n",
              "      filter: drop-shadow(0px 1px 2px rgba(0, 0, 0, 0.3));\n",
              "      fill: #FFFFFF;\n",
              "    }\n",
              "  </style>\n",
              "\n",
              "      <script>\n",
              "        const buttonEl =\n",
              "          document.querySelector('#df-0021b96e-034d-4b31-aba0-16dd93e55568 button.colab-df-convert');\n",
              "        buttonEl.style.display =\n",
              "          google.colab.kernel.accessAllowed ? 'block' : 'none';\n",
              "\n",
              "        async function convertToInteractive(key) {\n",
              "          const element = document.querySelector('#df-0021b96e-034d-4b31-aba0-16dd93e55568');\n",
              "          const dataTable =\n",
              "            await google.colab.kernel.invokeFunction('convertToInteractive',\n",
              "                                                     [key], {});\n",
              "          if (!dataTable) return;\n",
              "\n",
              "          const docLinkHtml = 'Like what you see? Visit the ' +\n",
              "            '<a target=\"_blank\" href=https://colab.research.google.com/notebooks/data_table.ipynb>data table notebook</a>'\n",
              "            + ' to learn more about interactive tables.';\n",
              "          element.innerHTML = '';\n",
              "          dataTable['output_type'] = 'display_data';\n",
              "          await google.colab.output.renderOutput(dataTable, element);\n",
              "          const docLink = document.createElement('div');\n",
              "          docLink.innerHTML = docLinkHtml;\n",
              "          element.appendChild(docLink);\n",
              "        }\n",
              "      </script>\n",
              "    </div>\n",
              "  </div>\n",
              "  "
            ]
          },
          "metadata": {},
          "execution_count": 186
        }
      ],
      "source": [
        "import pandas as pd\n",
        "\n",
        "data = pd.read_csv(\"Toyato.csv\")\n",
        "data.head()"
      ]
    },
    {
      "cell_type": "markdown",
      "source": [
        "**2) Null values Imputation (Mean, Median, Mode, Dropna, fillna)**"
      ],
      "metadata": {
        "id": "bH4qDUkiQeba"
      }
    },
    {
      "cell_type": "code",
      "source": [
        "# Calculating the percentage of null data\n",
        "\n",
        "null_percent = (data.isna().sum() / len(data)) * 100\n",
        "null_percent[null_percent > 0]"
      ],
      "metadata": {
        "colab": {
          "base_uri": "https://localhost:8080/"
        },
        "id": "LBk5S-knQVzk",
        "outputId": "e9edcca2-a549-4df4-dad8-ce667b7dbba0"
      },
      "execution_count": null,
      "outputs": [
        {
          "output_type": "execute_result",
          "data": {
            "text/plain": [
              "Doors            12.0\n",
              "Mfr_Guarantee    46.0\n",
              "dtype: float64"
            ]
          },
          "metadata": {},
          "execution_count": 187
        }
      ]
    },
    {
      "cell_type": "code",
      "source": [
        "# Calculating the mean of Each data\n",
        "\n",
        "data.mean()"
      ],
      "metadata": {
        "colab": {
          "base_uri": "https://localhost:8080/"
        },
        "id": "4o50uk3_UAkO",
        "outputId": "e2f750c6-e35f-4aa3-e06b-a72403709444"
      },
      "execution_count": null,
      "outputs": [
        {
          "output_type": "stream",
          "name": "stderr",
          "text": [
            "<ipython-input-188-a49944042583>:3: FutureWarning: The default value of numeric_only in DataFrame.mean is deprecated. In a future version, it will default to False. In addition, specifying 'numeric_only=None' is deprecated. Select only valid columns or specify the value of numeric_only to silence this warning.\n",
            "  data.mean()\n"
          ]
        },
        {
          "output_type": "execute_result",
          "data": {
            "text/plain": [
              "Price               15100.100000\n",
              "Age                    26.280000\n",
              "Mfg_Month               6.720000\n",
              "Mfg_Year             2002.000000\n",
              "KM                  45948.100000\n",
              "HP                    113.060000\n",
              "Met_Color               0.600000\n",
              "Automatic               0.020000\n",
              "cc                   1694.000000\n",
              "Doors                   3.272727\n",
              "Quarterly_Tax         124.940000\n",
              "Weight               1150.800000\n",
              "Mfr_Guarantee           0.555556\n",
              "BOVAG_Guarantee         0.940000\n",
              "Guarantee_Period        4.260000\n",
              "dtype: float64"
            ]
          },
          "metadata": {},
          "execution_count": 188
        }
      ]
    },
    {
      "cell_type": "code",
      "source": [
        "# Calculating the median for the data\n",
        "\n",
        "data.median()"
      ],
      "metadata": {
        "colab": {
          "base_uri": "https://localhost:8080/"
        },
        "id": "XPKvZ5QAXZ8o",
        "outputId": "5bfce749-dffd-43a2-9737-523eb6b17be0"
      },
      "execution_count": null,
      "outputs": [
        {
          "output_type": "stream",
          "name": "stderr",
          "text": [
            "<ipython-input-189-45dfbade5d44>:3: FutureWarning: The default value of numeric_only in DataFrame.median is deprecated. In a future version, it will default to False. In addition, specifying 'numeric_only=None' is deprecated. Select only valid columns or specify the value of numeric_only to silence this warning.\n",
            "  data.median()\n"
          ]
        },
        {
          "output_type": "execute_result",
          "data": {
            "text/plain": [
              "Price               14950.0\n",
              "Age                    27.0\n",
              "Mfg_Month               6.0\n",
              "Mfg_Year             2002.0\n",
              "KM                  41563.0\n",
              "HP                     97.0\n",
              "Met_Color               1.0\n",
              "Automatic               0.0\n",
              "cc                   1600.0\n",
              "Doors                   3.0\n",
              "Quarterly_Tax          85.0\n",
              "Weight               1120.0\n",
              "Mfr_Guarantee           1.0\n",
              "BOVAG_Guarantee         1.0\n",
              "Guarantee_Period        3.0\n",
              "dtype: float64"
            ]
          },
          "metadata": {},
          "execution_count": 189
        }
      ]
    },
    {
      "cell_type": "code",
      "source": [
        "# Calculating the mode of the data\n",
        "\n",
        "data.mode()"
      ],
      "metadata": {
        "colab": {
          "base_uri": "https://localhost:8080/",
          "height": 176
        },
        "id": "DVEq4p_mXf_K",
        "outputId": "effc3ba4-16bd-49bc-d4b2-a953759be015"
      },
      "execution_count": null,
      "outputs": [
        {
          "output_type": "execute_result",
          "data": {
            "text/plain": [
              "     Price   Age  Mfg_Month  Mfg_Year       KM Fuel_Type  HP  Met_Color  \\\n",
              "0  12950.0  22.0       11.0    2002.0  72215.0    Petrol  90        1.0   \n",
              "1      NaN   NaN        NaN       NaN      NaN       NaN  97        NaN   \n",
              "\n",
              "   Automatic    cc  Doors Gears  Quarterly_Tax  Weight  Mfr_Guarantee  \\\n",
              "0        0.0  1400    3.0  Five           85.0  1100.0            1.0   \n",
              "1        NaN  2000    NaN   NaN            NaN     NaN            NaN   \n",
              "\n",
              "   BOVAG_Guarantee  Guarantee_Period  \n",
              "0              1.0               3.0  \n",
              "1              NaN               NaN  "
            ],
            "text/html": [
              "\n",
              "  <div id=\"df-3b811b41-21f5-4154-95c1-d17a997a1a8d\">\n",
              "    <div class=\"colab-df-container\">\n",
              "      <div>\n",
              "<style scoped>\n",
              "    .dataframe tbody tr th:only-of-type {\n",
              "        vertical-align: middle;\n",
              "    }\n",
              "\n",
              "    .dataframe tbody tr th {\n",
              "        vertical-align: top;\n",
              "    }\n",
              "\n",
              "    .dataframe thead th {\n",
              "        text-align: right;\n",
              "    }\n",
              "</style>\n",
              "<table border=\"1\" class=\"dataframe\">\n",
              "  <thead>\n",
              "    <tr style=\"text-align: right;\">\n",
              "      <th></th>\n",
              "      <th>Price</th>\n",
              "      <th>Age</th>\n",
              "      <th>Mfg_Month</th>\n",
              "      <th>Mfg_Year</th>\n",
              "      <th>KM</th>\n",
              "      <th>Fuel_Type</th>\n",
              "      <th>HP</th>\n",
              "      <th>Met_Color</th>\n",
              "      <th>Automatic</th>\n",
              "      <th>cc</th>\n",
              "      <th>Doors</th>\n",
              "      <th>Gears</th>\n",
              "      <th>Quarterly_Tax</th>\n",
              "      <th>Weight</th>\n",
              "      <th>Mfr_Guarantee</th>\n",
              "      <th>BOVAG_Guarantee</th>\n",
              "      <th>Guarantee_Period</th>\n",
              "    </tr>\n",
              "  </thead>\n",
              "  <tbody>\n",
              "    <tr>\n",
              "      <th>0</th>\n",
              "      <td>12950.0</td>\n",
              "      <td>22.0</td>\n",
              "      <td>11.0</td>\n",
              "      <td>2002.0</td>\n",
              "      <td>72215.0</td>\n",
              "      <td>Petrol</td>\n",
              "      <td>90</td>\n",
              "      <td>1.0</td>\n",
              "      <td>0.0</td>\n",
              "      <td>1400</td>\n",
              "      <td>3.0</td>\n",
              "      <td>Five</td>\n",
              "      <td>85.0</td>\n",
              "      <td>1100.0</td>\n",
              "      <td>1.0</td>\n",
              "      <td>1.0</td>\n",
              "      <td>3.0</td>\n",
              "    </tr>\n",
              "    <tr>\n",
              "      <th>1</th>\n",
              "      <td>NaN</td>\n",
              "      <td>NaN</td>\n",
              "      <td>NaN</td>\n",
              "      <td>NaN</td>\n",
              "      <td>NaN</td>\n",
              "      <td>NaN</td>\n",
              "      <td>97</td>\n",
              "      <td>NaN</td>\n",
              "      <td>NaN</td>\n",
              "      <td>2000</td>\n",
              "      <td>NaN</td>\n",
              "      <td>NaN</td>\n",
              "      <td>NaN</td>\n",
              "      <td>NaN</td>\n",
              "      <td>NaN</td>\n",
              "      <td>NaN</td>\n",
              "      <td>NaN</td>\n",
              "    </tr>\n",
              "  </tbody>\n",
              "</table>\n",
              "</div>\n",
              "      <button class=\"colab-df-convert\" onclick=\"convertToInteractive('df-3b811b41-21f5-4154-95c1-d17a997a1a8d')\"\n",
              "              title=\"Convert this dataframe to an interactive table.\"\n",
              "              style=\"display:none;\">\n",
              "        \n",
              "  <svg xmlns=\"http://www.w3.org/2000/svg\" height=\"24px\"viewBox=\"0 0 24 24\"\n",
              "       width=\"24px\">\n",
              "    <path d=\"M0 0h24v24H0V0z\" fill=\"none\"/>\n",
              "    <path d=\"M18.56 5.44l.94 2.06.94-2.06 2.06-.94-2.06-.94-.94-2.06-.94 2.06-2.06.94zm-11 1L8.5 8.5l.94-2.06 2.06-.94-2.06-.94L8.5 2.5l-.94 2.06-2.06.94zm10 10l.94 2.06.94-2.06 2.06-.94-2.06-.94-.94-2.06-.94 2.06-2.06.94z\"/><path d=\"M17.41 7.96l-1.37-1.37c-.4-.4-.92-.59-1.43-.59-.52 0-1.04.2-1.43.59L10.3 9.45l-7.72 7.72c-.78.78-.78 2.05 0 2.83L4 21.41c.39.39.9.59 1.41.59.51 0 1.02-.2 1.41-.59l7.78-7.78 2.81-2.81c.8-.78.8-2.07 0-2.86zM5.41 20L4 18.59l7.72-7.72 1.47 1.35L5.41 20z\"/>\n",
              "  </svg>\n",
              "      </button>\n",
              "      \n",
              "  <style>\n",
              "    .colab-df-container {\n",
              "      display:flex;\n",
              "      flex-wrap:wrap;\n",
              "      gap: 12px;\n",
              "    }\n",
              "\n",
              "    .colab-df-convert {\n",
              "      background-color: #E8F0FE;\n",
              "      border: none;\n",
              "      border-radius: 50%;\n",
              "      cursor: pointer;\n",
              "      display: none;\n",
              "      fill: #1967D2;\n",
              "      height: 32px;\n",
              "      padding: 0 0 0 0;\n",
              "      width: 32px;\n",
              "    }\n",
              "\n",
              "    .colab-df-convert:hover {\n",
              "      background-color: #E2EBFA;\n",
              "      box-shadow: 0px 1px 2px rgba(60, 64, 67, 0.3), 0px 1px 3px 1px rgba(60, 64, 67, 0.15);\n",
              "      fill: #174EA6;\n",
              "    }\n",
              "\n",
              "    [theme=dark] .colab-df-convert {\n",
              "      background-color: #3B4455;\n",
              "      fill: #D2E3FC;\n",
              "    }\n",
              "\n",
              "    [theme=dark] .colab-df-convert:hover {\n",
              "      background-color: #434B5C;\n",
              "      box-shadow: 0px 1px 3px 1px rgba(0, 0, 0, 0.15);\n",
              "      filter: drop-shadow(0px 1px 2px rgba(0, 0, 0, 0.3));\n",
              "      fill: #FFFFFF;\n",
              "    }\n",
              "  </style>\n",
              "\n",
              "      <script>\n",
              "        const buttonEl =\n",
              "          document.querySelector('#df-3b811b41-21f5-4154-95c1-d17a997a1a8d button.colab-df-convert');\n",
              "        buttonEl.style.display =\n",
              "          google.colab.kernel.accessAllowed ? 'block' : 'none';\n",
              "\n",
              "        async function convertToInteractive(key) {\n",
              "          const element = document.querySelector('#df-3b811b41-21f5-4154-95c1-d17a997a1a8d');\n",
              "          const dataTable =\n",
              "            await google.colab.kernel.invokeFunction('convertToInteractive',\n",
              "                                                     [key], {});\n",
              "          if (!dataTable) return;\n",
              "\n",
              "          const docLinkHtml = 'Like what you see? Visit the ' +\n",
              "            '<a target=\"_blank\" href=https://colab.research.google.com/notebooks/data_table.ipynb>data table notebook</a>'\n",
              "            + ' to learn more about interactive tables.';\n",
              "          element.innerHTML = '';\n",
              "          dataTable['output_type'] = 'display_data';\n",
              "          await google.colab.output.renderOutput(dataTable, element);\n",
              "          const docLink = document.createElement('div');\n",
              "          docLink.innerHTML = docLinkHtml;\n",
              "          element.appendChild(docLink);\n",
              "        }\n",
              "      </script>\n",
              "    </div>\n",
              "  </div>\n",
              "  "
            ]
          },
          "metadata": {},
          "execution_count": 190
        }
      ]
    },
    {
      "cell_type": "code",
      "source": [
        "# Syntax to calculate the Mean, Median and Mode for a dataset. \n",
        "# data['Doors'].mean().sum()\n",
        "# data['Doors'].median().sum()\n",
        "# data['Doors'].mode().sum()"
      ],
      "metadata": {
        "id": "tNyIiSWRXoBI"
      },
      "execution_count": null,
      "outputs": []
    },
    {
      "cell_type": "code",
      "source": [
        "# Filling the null values for the column Doors\n",
        "\n",
        "data2 = data.copy()\n",
        "data2['Doors'].fillna(data2['Doors'].mean, inplace=True)\n",
        "data2.isna().sum()"
      ],
      "metadata": {
        "colab": {
          "base_uri": "https://localhost:8080/"
        },
        "id": "W_OkkgqOSisc",
        "outputId": "a0da1e66-7d70-4232-9456-36ce6d3b756a"
      },
      "execution_count": null,
      "outputs": [
        {
          "output_type": "execute_result",
          "data": {
            "text/plain": [
              "Price                0\n",
              "Age                  0\n",
              "Mfg_Month            0\n",
              "Mfg_Year             0\n",
              "KM                   0\n",
              "Fuel_Type            0\n",
              "HP                   0\n",
              "Met_Color            0\n",
              "Automatic            0\n",
              "cc                   0\n",
              "Doors                0\n",
              "Gears                0\n",
              "Quarterly_Tax        0\n",
              "Weight               0\n",
              "Mfr_Guarantee       23\n",
              "BOVAG_Guarantee      0\n",
              "Guarantee_Period     0\n",
              "dtype: int64"
            ]
          },
          "metadata": {},
          "execution_count": 192
        }
      ]
    },
    {
      "cell_type": "code",
      "source": [
        "# Dropping the null values in Doors Column\n",
        "\n",
        "doors_drop = data.copy()\n",
        "doors_drop['Doors'].dropna(inplace=True)\n",
        "doors_drop.isna().sum()"
      ],
      "metadata": {
        "colab": {
          "base_uri": "https://localhost:8080/"
        },
        "id": "CC1sHRX9ZQz2",
        "outputId": "4a905440-0f91-44c1-c229-7a9154112870"
      },
      "execution_count": null,
      "outputs": [
        {
          "output_type": "execute_result",
          "data": {
            "text/plain": [
              "Price               0\n",
              "Age                 0\n",
              "Mfg_Month           0\n",
              "Mfg_Year            0\n",
              "KM                  0\n",
              "Fuel_Type           0\n",
              "HP                  0\n",
              "Met_Color           0\n",
              "Automatic           0\n",
              "cc                  0\n",
              "Doors               0\n",
              "Gears               0\n",
              "Quarterly_Tax       0\n",
              "Weight              0\n",
              "Mfr_Guarantee       0\n",
              "BOVAG_Guarantee     0\n",
              "Guarantee_Period    0\n",
              "dtype: int64"
            ]
          },
          "metadata": {},
          "execution_count": 274
        }
      ]
    },
    {
      "cell_type": "code",
      "source": [
        "# Filling the null values for the column Mfr_Gurantee\n",
        "\n",
        "data3 = data.copy()\n",
        "data3['Mfr_Guarantee'].fillna(data3['Mfr_Guarantee'].mean, inplace=True)\n",
        "data3.isna().sum()"
      ],
      "metadata": {
        "colab": {
          "base_uri": "https://localhost:8080/"
        },
        "id": "o6gI-fGDVXd5",
        "outputId": "97047353-87a2-4632-806d-a1a6db2fd15c"
      },
      "execution_count": null,
      "outputs": [
        {
          "output_type": "execute_result",
          "data": {
            "text/plain": [
              "Price               0\n",
              "Age                 0\n",
              "Mfg_Month           0\n",
              "Mfg_Year            0\n",
              "KM                  0\n",
              "Fuel_Type           0\n",
              "HP                  0\n",
              "Met_Color           0\n",
              "Automatic           0\n",
              "cc                  0\n",
              "Doors               6\n",
              "Gears               0\n",
              "Quarterly_Tax       0\n",
              "Weight              0\n",
              "Mfr_Guarantee       0\n",
              "BOVAG_Guarantee     0\n",
              "Guarantee_Period    0\n",
              "dtype: int64"
            ]
          },
          "metadata": {},
          "execution_count": 193
        }
      ]
    },
    {
      "cell_type": "markdown",
      "source": [
        "**3) Duplicate Data Dropping**"
      ],
      "metadata": {
        "id": "7dPcOw40X9jG"
      }
    },
    {
      "cell_type": "code",
      "source": [
        "# To Find the sum of duplicated data\n",
        "\n",
        "duplicated_data = data.duplicated().sum()\n",
        "print(duplicated_data)"
      ],
      "metadata": {
        "colab": {
          "base_uri": "https://localhost:8080/"
        },
        "id": "cCgdy6DCWV5m",
        "outputId": "f91ddd5b-1310-42c1-9129-b61290f18948"
      },
      "execution_count": null,
      "outputs": [
        {
          "output_type": "stream",
          "name": "stdout",
          "text": [
            "0\n"
          ]
        }
      ]
    },
    {
      "cell_type": "code",
      "source": [
        "data2.shape"
      ],
      "metadata": {
        "colab": {
          "base_uri": "https://localhost:8080/"
        },
        "id": "CncoC-adZIQZ",
        "outputId": "8eed04d0-e3be-4e41-cf73-3a66c9de9e5c"
      },
      "execution_count": null,
      "outputs": [
        {
          "output_type": "execute_result",
          "data": {
            "text/plain": [
              "(50, 17)"
            ]
          },
          "metadata": {},
          "execution_count": 195
        }
      ]
    },
    {
      "cell_type": "code",
      "source": [
        "# To Drop the duplicated data\n",
        "\n",
        "data4 = data2.copy()\n",
        "data4.drop_duplicates(inplace=True)\n",
        "\n",
        "data4.duplicated().sum()"
      ],
      "metadata": {
        "colab": {
          "base_uri": "https://localhost:8080/"
        },
        "id": "WzQUKMR2YfnD",
        "outputId": "d2916d3e-d2ac-4c4d-bbae-d516b322e520"
      },
      "execution_count": null,
      "outputs": [
        {
          "output_type": "execute_result",
          "data": {
            "text/plain": [
              "0"
            ]
          },
          "metadata": {},
          "execution_count": 196
        }
      ]
    },
    {
      "cell_type": "markdown",
      "source": [
        "**4) One Hot Encoder**"
      ],
      "metadata": {
        "id": "o2dasJQPZS8q"
      }
    },
    {
      "cell_type": "code",
      "source": [
        "from sklearn.preprocessing import LabelEncoder, OneHotEncoder\n",
        "import numpy as np "
      ],
      "metadata": {
        "id": "L_tvAtDzY8tX"
      },
      "execution_count": null,
      "outputs": []
    },
    {
      "cell_type": "code",
      "source": [
        "# Taking the categorical values from the dataset \n",
        "\n",
        "categorical_data = data.select_dtypes(include=np.object_)\n",
        "categorical_data.head()"
      ],
      "metadata": {
        "colab": {
          "base_uri": "https://localhost:8080/",
          "height": 206
        },
        "id": "ZvHdqVCfa0RW",
        "outputId": "e228ff68-232e-4c8d-9a2a-5b95372ecd02"
      },
      "execution_count": null,
      "outputs": [
        {
          "output_type": "execute_result",
          "data": {
            "text/plain": [
              "  Fuel_Type Gears\n",
              "0    Diesel  Five\n",
              "1    Diesel  Five\n",
              "2    Diesel  Five\n",
              "3    Diesel  Five\n",
              "4    Diesel  Five"
            ],
            "text/html": [
              "\n",
              "  <div id=\"df-ad95a698-9e05-4579-be2a-a51080293013\">\n",
              "    <div class=\"colab-df-container\">\n",
              "      <div>\n",
              "<style scoped>\n",
              "    .dataframe tbody tr th:only-of-type {\n",
              "        vertical-align: middle;\n",
              "    }\n",
              "\n",
              "    .dataframe tbody tr th {\n",
              "        vertical-align: top;\n",
              "    }\n",
              "\n",
              "    .dataframe thead th {\n",
              "        text-align: right;\n",
              "    }\n",
              "</style>\n",
              "<table border=\"1\" class=\"dataframe\">\n",
              "  <thead>\n",
              "    <tr style=\"text-align: right;\">\n",
              "      <th></th>\n",
              "      <th>Fuel_Type</th>\n",
              "      <th>Gears</th>\n",
              "    </tr>\n",
              "  </thead>\n",
              "  <tbody>\n",
              "    <tr>\n",
              "      <th>0</th>\n",
              "      <td>Diesel</td>\n",
              "      <td>Five</td>\n",
              "    </tr>\n",
              "    <tr>\n",
              "      <th>1</th>\n",
              "      <td>Diesel</td>\n",
              "      <td>Five</td>\n",
              "    </tr>\n",
              "    <tr>\n",
              "      <th>2</th>\n",
              "      <td>Diesel</td>\n",
              "      <td>Five</td>\n",
              "    </tr>\n",
              "    <tr>\n",
              "      <th>3</th>\n",
              "      <td>Diesel</td>\n",
              "      <td>Five</td>\n",
              "    </tr>\n",
              "    <tr>\n",
              "      <th>4</th>\n",
              "      <td>Diesel</td>\n",
              "      <td>Five</td>\n",
              "    </tr>\n",
              "  </tbody>\n",
              "</table>\n",
              "</div>\n",
              "      <button class=\"colab-df-convert\" onclick=\"convertToInteractive('df-ad95a698-9e05-4579-be2a-a51080293013')\"\n",
              "              title=\"Convert this dataframe to an interactive table.\"\n",
              "              style=\"display:none;\">\n",
              "        \n",
              "  <svg xmlns=\"http://www.w3.org/2000/svg\" height=\"24px\"viewBox=\"0 0 24 24\"\n",
              "       width=\"24px\">\n",
              "    <path d=\"M0 0h24v24H0V0z\" fill=\"none\"/>\n",
              "    <path d=\"M18.56 5.44l.94 2.06.94-2.06 2.06-.94-2.06-.94-.94-2.06-.94 2.06-2.06.94zm-11 1L8.5 8.5l.94-2.06 2.06-.94-2.06-.94L8.5 2.5l-.94 2.06-2.06.94zm10 10l.94 2.06.94-2.06 2.06-.94-2.06-.94-.94-2.06-.94 2.06-2.06.94z\"/><path d=\"M17.41 7.96l-1.37-1.37c-.4-.4-.92-.59-1.43-.59-.52 0-1.04.2-1.43.59L10.3 9.45l-7.72 7.72c-.78.78-.78 2.05 0 2.83L4 21.41c.39.39.9.59 1.41.59.51 0 1.02-.2 1.41-.59l7.78-7.78 2.81-2.81c.8-.78.8-2.07 0-2.86zM5.41 20L4 18.59l7.72-7.72 1.47 1.35L5.41 20z\"/>\n",
              "  </svg>\n",
              "      </button>\n",
              "      \n",
              "  <style>\n",
              "    .colab-df-container {\n",
              "      display:flex;\n",
              "      flex-wrap:wrap;\n",
              "      gap: 12px;\n",
              "    }\n",
              "\n",
              "    .colab-df-convert {\n",
              "      background-color: #E8F0FE;\n",
              "      border: none;\n",
              "      border-radius: 50%;\n",
              "      cursor: pointer;\n",
              "      display: none;\n",
              "      fill: #1967D2;\n",
              "      height: 32px;\n",
              "      padding: 0 0 0 0;\n",
              "      width: 32px;\n",
              "    }\n",
              "\n",
              "    .colab-df-convert:hover {\n",
              "      background-color: #E2EBFA;\n",
              "      box-shadow: 0px 1px 2px rgba(60, 64, 67, 0.3), 0px 1px 3px 1px rgba(60, 64, 67, 0.15);\n",
              "      fill: #174EA6;\n",
              "    }\n",
              "\n",
              "    [theme=dark] .colab-df-convert {\n",
              "      background-color: #3B4455;\n",
              "      fill: #D2E3FC;\n",
              "    }\n",
              "\n",
              "    [theme=dark] .colab-df-convert:hover {\n",
              "      background-color: #434B5C;\n",
              "      box-shadow: 0px 1px 3px 1px rgba(0, 0, 0, 0.15);\n",
              "      filter: drop-shadow(0px 1px 2px rgba(0, 0, 0, 0.3));\n",
              "      fill: #FFFFFF;\n",
              "    }\n",
              "  </style>\n",
              "\n",
              "      <script>\n",
              "        const buttonEl =\n",
              "          document.querySelector('#df-ad95a698-9e05-4579-be2a-a51080293013 button.colab-df-convert');\n",
              "        buttonEl.style.display =\n",
              "          google.colab.kernel.accessAllowed ? 'block' : 'none';\n",
              "\n",
              "        async function convertToInteractive(key) {\n",
              "          const element = document.querySelector('#df-ad95a698-9e05-4579-be2a-a51080293013');\n",
              "          const dataTable =\n",
              "            await google.colab.kernel.invokeFunction('convertToInteractive',\n",
              "                                                     [key], {});\n",
              "          if (!dataTable) return;\n",
              "\n",
              "          const docLinkHtml = 'Like what you see? Visit the ' +\n",
              "            '<a target=\"_blank\" href=https://colab.research.google.com/notebooks/data_table.ipynb>data table notebook</a>'\n",
              "            + ' to learn more about interactive tables.';\n",
              "          element.innerHTML = '';\n",
              "          dataTable['output_type'] = 'display_data';\n",
              "          await google.colab.output.renderOutput(dataTable, element);\n",
              "          const docLink = document.createElement('div');\n",
              "          docLink.innerHTML = docLinkHtml;\n",
              "          element.appendChild(docLink);\n",
              "        }\n",
              "      </script>\n",
              "    </div>\n",
              "  </div>\n",
              "  "
            ]
          },
          "metadata": {},
          "execution_count": 198
        }
      ]
    },
    {
      "cell_type": "code",
      "source": [
        "labels = data4[['Fuel_Type']]"
      ],
      "metadata": {
        "id": "T6vOB6EudOiT"
      },
      "execution_count": null,
      "outputs": []
    },
    {
      "cell_type": "code",
      "source": [
        "# One Hot encoder\n",
        "from sklearn.preprocessing import OneHotEncoder\n",
        "\n",
        "encoder = OneHotEncoder()\n",
        "encoded_labels = encoder.fit_transform(labels)\n",
        "print(encoded_labels)"
      ],
      "metadata": {
        "colab": {
          "base_uri": "https://localhost:8080/"
        },
        "id": "OJbTQ_wAbHsd",
        "outputId": "6c1e9631-a912-4890-e28d-c03c3179b91f"
      },
      "execution_count": null,
      "outputs": [
        {
          "output_type": "stream",
          "name": "stdout",
          "text": [
            "  (0, 0)\t1.0\n",
            "  (1, 0)\t1.0\n",
            "  (2, 0)\t1.0\n",
            "  (3, 0)\t1.0\n",
            "  (4, 0)\t1.0\n",
            "  (5, 0)\t1.0\n",
            "  (6, 0)\t1.0\n",
            "  (7, 0)\t1.0\n",
            "  (8, 1)\t1.0\n",
            "  (9, 0)\t1.0\n",
            "  (10, 1)\t1.0\n",
            "  (11, 1)\t1.0\n",
            "  (12, 1)\t1.0\n",
            "  (13, 1)\t1.0\n",
            "  (14, 1)\t1.0\n",
            "  (15, 1)\t1.0\n",
            "  (16, 1)\t1.0\n",
            "  (17, 1)\t1.0\n",
            "  (18, 1)\t1.0\n",
            "  (19, 1)\t1.0\n",
            "  (20, 1)\t1.0\n",
            "  (21, 1)\t1.0\n",
            "  (22, 1)\t1.0\n",
            "  (23, 1)\t1.0\n",
            "  (24, 1)\t1.0\n",
            "  (25, 1)\t1.0\n",
            "  (26, 1)\t1.0\n",
            "  (27, 1)\t1.0\n",
            "  (28, 1)\t1.0\n",
            "  (29, 1)\t1.0\n",
            "  (30, 1)\t1.0\n",
            "  (31, 1)\t1.0\n",
            "  (32, 1)\t1.0\n",
            "  (33, 1)\t1.0\n",
            "  (34, 1)\t1.0\n",
            "  (35, 1)\t1.0\n",
            "  (36, 1)\t1.0\n",
            "  (37, 1)\t1.0\n",
            "  (38, 1)\t1.0\n",
            "  (39, 1)\t1.0\n",
            "  (40, 1)\t1.0\n",
            "  (41, 1)\t1.0\n",
            "  (42, 1)\t1.0\n",
            "  (43, 0)\t1.0\n",
            "  (44, 0)\t1.0\n",
            "  (45, 0)\t1.0\n",
            "  (46, 0)\t1.0\n",
            "  (47, 1)\t1.0\n",
            "  (48, 0)\t1.0\n",
            "  (49, 0)\t1.0\n"
          ]
        }
      ]
    },
    {
      "cell_type": "markdown",
      "source": [
        "**5) Label Encoder**"
      ],
      "metadata": {
        "id": "5_lt5z9wf5DU"
      }
    },
    {
      "cell_type": "code",
      "source": [
        "# Label Encoder \n",
        "from sklearn.preprocessing import LabelEncoder\n",
        "\n",
        "encoder = LabelEncoder()\n",
        "encoded_labels = encoder.fit_transform(labels)\n",
        "print(encoded_labels)"
      ],
      "metadata": {
        "colab": {
          "base_uri": "https://localhost:8080/"
        },
        "id": "jJ-qNnrQeEeM",
        "outputId": "0929e384-1ad9-420e-9aa7-dfb843c72c2a"
      },
      "execution_count": null,
      "outputs": [
        {
          "output_type": "stream",
          "name": "stdout",
          "text": [
            "[0 0 0 0 0 0 0 0 1 0 1 1 1 1 1 1 1 1 1 1 1 1 1 1 1 1 1 1 1 1 1 1 1 1 1 1 1\n",
            " 1 1 1 1 1 1 0 0 0 0 1 0 0]\n"
          ]
        },
        {
          "output_type": "stream",
          "name": "stderr",
          "text": [
            "/usr/local/lib/python3.9/dist-packages/sklearn/preprocessing/_label.py:116: DataConversionWarning: A column-vector y was passed when a 1d array was expected. Please change the shape of y to (n_samples, ), for example using ravel().\n",
            "  y = column_or_1d(y, warn=True)\n"
          ]
        }
      ]
    },
    {
      "cell_type": "markdown",
      "source": [
        "**6) KNN Imputer**"
      ],
      "metadata": {
        "id": "K6tSeXTHfyOL"
      }
    },
    {
      "cell_type": "code",
      "source": [
        "numerical_data = data2.select_dtypes(include = np.number)\n",
        "numerical_data.head()"
      ],
      "metadata": {
        "colab": {
          "base_uri": "https://localhost:8080/",
          "height": 270
        },
        "id": "J_1BQWOJkwpu",
        "outputId": "1d33feaf-124a-4124-ea30-22976661034e"
      },
      "execution_count": null,
      "outputs": [
        {
          "output_type": "execute_result",
          "data": {
            "text/plain": [
              "   Price  Age  Mfg_Month  Mfg_Year     KM  HP  Met_Color  Automatic    cc  \\\n",
              "0  12950   23         10      2002  46986  90          1          0  2000   \n",
              "1  12950   23         10      2002  72937  90          1          0  2000   \n",
              "2  12950   24          9      2002  41711  90          1          0  2000   \n",
              "3  13950   26          7      2002  48000  90          0          0  2000   \n",
              "4  17950   30          3      2002  38500  90          0          0  2000   \n",
              "\n",
              "   Quarterly_Tax  Weight  Mfr_Guarantee  BOVAG_Guarantee  Guarantee_Period  \n",
              "0            210    1165            0.0                1                 3  \n",
              "1            210    1165            0.0                1                 3  \n",
              "2            210    1165            1.0                1                 3  \n",
              "3            210    1165            1.0                1                 4  \n",
              "4            210    1170            1.0                1                 5  "
            ],
            "text/html": [
              "\n",
              "  <div id=\"df-004ab2fb-5f11-480b-867a-fae32e9f84ae\">\n",
              "    <div class=\"colab-df-container\">\n",
              "      <div>\n",
              "<style scoped>\n",
              "    .dataframe tbody tr th:only-of-type {\n",
              "        vertical-align: middle;\n",
              "    }\n",
              "\n",
              "    .dataframe tbody tr th {\n",
              "        vertical-align: top;\n",
              "    }\n",
              "\n",
              "    .dataframe thead th {\n",
              "        text-align: right;\n",
              "    }\n",
              "</style>\n",
              "<table border=\"1\" class=\"dataframe\">\n",
              "  <thead>\n",
              "    <tr style=\"text-align: right;\">\n",
              "      <th></th>\n",
              "      <th>Price</th>\n",
              "      <th>Age</th>\n",
              "      <th>Mfg_Month</th>\n",
              "      <th>Mfg_Year</th>\n",
              "      <th>KM</th>\n",
              "      <th>HP</th>\n",
              "      <th>Met_Color</th>\n",
              "      <th>Automatic</th>\n",
              "      <th>cc</th>\n",
              "      <th>Quarterly_Tax</th>\n",
              "      <th>Weight</th>\n",
              "      <th>Mfr_Guarantee</th>\n",
              "      <th>BOVAG_Guarantee</th>\n",
              "      <th>Guarantee_Period</th>\n",
              "    </tr>\n",
              "  </thead>\n",
              "  <tbody>\n",
              "    <tr>\n",
              "      <th>0</th>\n",
              "      <td>12950</td>\n",
              "      <td>23</td>\n",
              "      <td>10</td>\n",
              "      <td>2002</td>\n",
              "      <td>46986</td>\n",
              "      <td>90</td>\n",
              "      <td>1</td>\n",
              "      <td>0</td>\n",
              "      <td>2000</td>\n",
              "      <td>210</td>\n",
              "      <td>1165</td>\n",
              "      <td>0.0</td>\n",
              "      <td>1</td>\n",
              "      <td>3</td>\n",
              "    </tr>\n",
              "    <tr>\n",
              "      <th>1</th>\n",
              "      <td>12950</td>\n",
              "      <td>23</td>\n",
              "      <td>10</td>\n",
              "      <td>2002</td>\n",
              "      <td>72937</td>\n",
              "      <td>90</td>\n",
              "      <td>1</td>\n",
              "      <td>0</td>\n",
              "      <td>2000</td>\n",
              "      <td>210</td>\n",
              "      <td>1165</td>\n",
              "      <td>0.0</td>\n",
              "      <td>1</td>\n",
              "      <td>3</td>\n",
              "    </tr>\n",
              "    <tr>\n",
              "      <th>2</th>\n",
              "      <td>12950</td>\n",
              "      <td>24</td>\n",
              "      <td>9</td>\n",
              "      <td>2002</td>\n",
              "      <td>41711</td>\n",
              "      <td>90</td>\n",
              "      <td>1</td>\n",
              "      <td>0</td>\n",
              "      <td>2000</td>\n",
              "      <td>210</td>\n",
              "      <td>1165</td>\n",
              "      <td>1.0</td>\n",
              "      <td>1</td>\n",
              "      <td>3</td>\n",
              "    </tr>\n",
              "    <tr>\n",
              "      <th>3</th>\n",
              "      <td>13950</td>\n",
              "      <td>26</td>\n",
              "      <td>7</td>\n",
              "      <td>2002</td>\n",
              "      <td>48000</td>\n",
              "      <td>90</td>\n",
              "      <td>0</td>\n",
              "      <td>0</td>\n",
              "      <td>2000</td>\n",
              "      <td>210</td>\n",
              "      <td>1165</td>\n",
              "      <td>1.0</td>\n",
              "      <td>1</td>\n",
              "      <td>4</td>\n",
              "    </tr>\n",
              "    <tr>\n",
              "      <th>4</th>\n",
              "      <td>17950</td>\n",
              "      <td>30</td>\n",
              "      <td>3</td>\n",
              "      <td>2002</td>\n",
              "      <td>38500</td>\n",
              "      <td>90</td>\n",
              "      <td>0</td>\n",
              "      <td>0</td>\n",
              "      <td>2000</td>\n",
              "      <td>210</td>\n",
              "      <td>1170</td>\n",
              "      <td>1.0</td>\n",
              "      <td>1</td>\n",
              "      <td>5</td>\n",
              "    </tr>\n",
              "  </tbody>\n",
              "</table>\n",
              "</div>\n",
              "      <button class=\"colab-df-convert\" onclick=\"convertToInteractive('df-004ab2fb-5f11-480b-867a-fae32e9f84ae')\"\n",
              "              title=\"Convert this dataframe to an interactive table.\"\n",
              "              style=\"display:none;\">\n",
              "        \n",
              "  <svg xmlns=\"http://www.w3.org/2000/svg\" height=\"24px\"viewBox=\"0 0 24 24\"\n",
              "       width=\"24px\">\n",
              "    <path d=\"M0 0h24v24H0V0z\" fill=\"none\"/>\n",
              "    <path d=\"M18.56 5.44l.94 2.06.94-2.06 2.06-.94-2.06-.94-.94-2.06-.94 2.06-2.06.94zm-11 1L8.5 8.5l.94-2.06 2.06-.94-2.06-.94L8.5 2.5l-.94 2.06-2.06.94zm10 10l.94 2.06.94-2.06 2.06-.94-2.06-.94-.94-2.06-.94 2.06-2.06.94z\"/><path d=\"M17.41 7.96l-1.37-1.37c-.4-.4-.92-.59-1.43-.59-.52 0-1.04.2-1.43.59L10.3 9.45l-7.72 7.72c-.78.78-.78 2.05 0 2.83L4 21.41c.39.39.9.59 1.41.59.51 0 1.02-.2 1.41-.59l7.78-7.78 2.81-2.81c.8-.78.8-2.07 0-2.86zM5.41 20L4 18.59l7.72-7.72 1.47 1.35L5.41 20z\"/>\n",
              "  </svg>\n",
              "      </button>\n",
              "      \n",
              "  <style>\n",
              "    .colab-df-container {\n",
              "      display:flex;\n",
              "      flex-wrap:wrap;\n",
              "      gap: 12px;\n",
              "    }\n",
              "\n",
              "    .colab-df-convert {\n",
              "      background-color: #E8F0FE;\n",
              "      border: none;\n",
              "      border-radius: 50%;\n",
              "      cursor: pointer;\n",
              "      display: none;\n",
              "      fill: #1967D2;\n",
              "      height: 32px;\n",
              "      padding: 0 0 0 0;\n",
              "      width: 32px;\n",
              "    }\n",
              "\n",
              "    .colab-df-convert:hover {\n",
              "      background-color: #E2EBFA;\n",
              "      box-shadow: 0px 1px 2px rgba(60, 64, 67, 0.3), 0px 1px 3px 1px rgba(60, 64, 67, 0.15);\n",
              "      fill: #174EA6;\n",
              "    }\n",
              "\n",
              "    [theme=dark] .colab-df-convert {\n",
              "      background-color: #3B4455;\n",
              "      fill: #D2E3FC;\n",
              "    }\n",
              "\n",
              "    [theme=dark] .colab-df-convert:hover {\n",
              "      background-color: #434B5C;\n",
              "      box-shadow: 0px 1px 3px 1px rgba(0, 0, 0, 0.15);\n",
              "      filter: drop-shadow(0px 1px 2px rgba(0, 0, 0, 0.3));\n",
              "      fill: #FFFFFF;\n",
              "    }\n",
              "  </style>\n",
              "\n",
              "      <script>\n",
              "        const buttonEl =\n",
              "          document.querySelector('#df-004ab2fb-5f11-480b-867a-fae32e9f84ae button.colab-df-convert');\n",
              "        buttonEl.style.display =\n",
              "          google.colab.kernel.accessAllowed ? 'block' : 'none';\n",
              "\n",
              "        async function convertToInteractive(key) {\n",
              "          const element = document.querySelector('#df-004ab2fb-5f11-480b-867a-fae32e9f84ae');\n",
              "          const dataTable =\n",
              "            await google.colab.kernel.invokeFunction('convertToInteractive',\n",
              "                                                     [key], {});\n",
              "          if (!dataTable) return;\n",
              "\n",
              "          const docLinkHtml = 'Like what you see? Visit the ' +\n",
              "            '<a target=\"_blank\" href=https://colab.research.google.com/notebooks/data_table.ipynb>data table notebook</a>'\n",
              "            + ' to learn more about interactive tables.';\n",
              "          element.innerHTML = '';\n",
              "          dataTable['output_type'] = 'display_data';\n",
              "          await google.colab.output.renderOutput(dataTable, element);\n",
              "          const docLink = document.createElement('div');\n",
              "          docLink.innerHTML = docLinkHtml;\n",
              "          element.appendChild(docLink);\n",
              "        }\n",
              "      </script>\n",
              "    </div>\n",
              "  </div>\n",
              "  "
            ]
          },
          "metadata": {},
          "execution_count": 202
        }
      ]
    },
    {
      "cell_type": "code",
      "source": [
        "from sklearn.impute import KNNImputer\n",
        "\n",
        "KNN = KNNImputer(n_neighbors=2)\n",
        "\n",
        "KNN.fit_transform(numerical_data)"
      ],
      "metadata": {
        "colab": {
          "base_uri": "https://localhost:8080/"
        },
        "id": "E81Yj45Bfh2J",
        "outputId": "b69c36f9-d03c-4868-fe77-5bd55c645b16"
      },
      "execution_count": null,
      "outputs": [
        {
          "output_type": "execute_result",
          "data": {
            "text/plain": [
              "array([[1.29500e+04, 2.30000e+01, 1.00000e+01, 2.00200e+03, 4.69860e+04,\n",
              "        9.00000e+01, 1.00000e+00, 0.00000e+00, 2.00000e+03, 2.10000e+02,\n",
              "        1.16500e+03, 0.00000e+00, 1.00000e+00, 3.00000e+00],\n",
              "       [1.29500e+04, 2.30000e+01, 1.00000e+01, 2.00200e+03, 7.29370e+04,\n",
              "        9.00000e+01, 1.00000e+00, 0.00000e+00, 2.00000e+03, 2.10000e+02,\n",
              "        1.16500e+03, 0.00000e+00, 1.00000e+00, 3.00000e+00],\n",
              "       [1.29500e+04, 2.40000e+01, 9.00000e+00, 2.00200e+03, 4.17110e+04,\n",
              "        9.00000e+01, 1.00000e+00, 0.00000e+00, 2.00000e+03, 2.10000e+02,\n",
              "        1.16500e+03, 1.00000e+00, 1.00000e+00, 3.00000e+00],\n",
              "       [1.39500e+04, 2.60000e+01, 7.00000e+00, 2.00200e+03, 4.80000e+04,\n",
              "        9.00000e+01, 0.00000e+00, 0.00000e+00, 2.00000e+03, 2.10000e+02,\n",
              "        1.16500e+03, 1.00000e+00, 1.00000e+00, 4.00000e+00],\n",
              "       [1.79500e+04, 3.00000e+01, 3.00000e+00, 2.00200e+03, 3.85000e+04,\n",
              "        9.00000e+01, 0.00000e+00, 0.00000e+00, 2.00000e+03, 2.10000e+02,\n",
              "        1.17000e+03, 1.00000e+00, 1.00000e+00, 5.00000e+00],\n",
              "       [2.20000e+04, 3.20000e+01, 1.00000e+00, 2.00200e+03, 6.10000e+04,\n",
              "        9.00000e+01, 0.00000e+00, 0.00000e+00, 2.00000e+03, 2.10000e+02,\n",
              "        1.17000e+03, 0.00000e+00, 1.00000e+00, 3.00000e+00],\n",
              "       [1.49500e+04, 2.70000e+01, 6.00000e+00, 2.00200e+03, 9.46120e+04,\n",
              "        9.00000e+01, 1.00000e+00, 0.00000e+00, 2.00000e+03, 2.10000e+02,\n",
              "        1.24500e+03, 0.00000e+00, 1.00000e+00, 3.00000e+00],\n",
              "       [1.79500e+04, 3.00000e+01, 3.00000e+00, 2.00200e+03, 7.58890e+04,\n",
              "        9.00000e+01, 1.00000e+00, 0.00000e+00, 2.00000e+03, 2.10000e+02,\n",
              "        1.24500e+03, 1.00000e+00, 1.00000e+00, 4.00000e+00],\n",
              "       [1.49500e+04, 2.70000e+01, 6.00000e+00, 2.00200e+03, 1.97000e+04,\n",
              "        1.92000e+02, 0.00000e+00, 0.00000e+00, 1.80000e+03, 1.00000e+02,\n",
              "        1.18500e+03, 0.00000e+00, 1.00000e+00, 5.00000e+00],\n",
              "       [1.29500e+04, 2.30000e+01, 1.00000e+01, 2.00200e+03, 7.11380e+04,\n",
              "        6.90000e+01, 0.00000e+00, 0.00000e+00, 1.90000e+03, 1.85000e+02,\n",
              "        1.10500e+03, 0.00000e+00, 1.00000e+00, 3.00000e+00],\n",
              "       [1.29500e+04, 2.50000e+01, 8.00000e+00, 2.00200e+03, 3.14610e+04,\n",
              "        1.92000e+02, 0.00000e+00, 0.00000e+00, 1.80000e+03, 1.00000e+02,\n",
              "        1.18500e+03, 0.00000e+00, 1.00000e+00, 1.20000e+01],\n",
              "       [1.29000e+04, 2.20000e+01, 1.10000e+01, 2.00200e+03, 4.36100e+04,\n",
              "        1.92000e+02, 0.00000e+00, 0.00000e+00, 1.80000e+03, 1.00000e+02,\n",
              "        1.18500e+03, 5.00000e-01, 1.00000e+00, 3.00000e+00],\n",
              "       [1.35000e+04, 2.50000e+01, 8.00000e+00, 2.00200e+03, 3.21890e+04,\n",
              "        1.92000e+02, 0.00000e+00, 0.00000e+00, 1.80000e+03, 1.00000e+02,\n",
              "        1.18500e+03, 5.00000e-01, 1.00000e+00, 3.00000e+00],\n",
              "       [1.90000e+04, 3.10000e+01, 2.00000e+00, 2.00200e+03, 2.30000e+04,\n",
              "        1.92000e+02, 1.00000e+00, 0.00000e+00, 1.80000e+03, 1.00000e+02,\n",
              "        1.18500e+03, 5.00000e-01, 1.00000e+00, 4.00000e+00],\n",
              "       [2.25000e+04, 3.20000e+01, 1.00000e+00, 2.00200e+03, 3.41310e+04,\n",
              "        1.92000e+02, 1.00000e+00, 0.00000e+00, 1.80000e+03, 1.00000e+02,\n",
              "        1.18500e+03, 1.00000e+00, 1.00000e+00, 5.00000e+00],\n",
              "       [1.59500e+04, 2.80000e+01, 5.00000e+00, 2.00200e+03, 1.87390e+04,\n",
              "        1.92000e+02, 0.00000e+00, 0.00000e+00, 1.80000e+03, 1.00000e+02,\n",
              "        1.18500e+03, 5.00000e-01, 1.00000e+00, 3.00000e+00],\n",
              "       [1.79500e+04, 3.00000e+01, 3.00000e+00, 2.00200e+03, 3.40000e+04,\n",
              "        1.92000e+02, 1.00000e+00, 0.00000e+00, 1.80000e+03, 1.00000e+02,\n",
              "        1.18500e+03, 1.00000e+00, 1.00000e+00, 3.00000e+00],\n",
              "       [1.29500e+04, 2.40000e+01, 9.00000e+00, 2.00200e+03, 2.17160e+04,\n",
              "        1.10000e+02, 1.00000e+00, 0.00000e+00, 1.60000e+03, 8.50000e+01,\n",
              "        1.10500e+03, 0.00000e+00, 0.00000e+00, 1.80000e+01],\n",
              "       [1.29500e+04, 2.40000e+01, 9.00000e+00, 2.00200e+03, 2.55630e+04,\n",
              "        1.10000e+02, 0.00000e+00, 0.00000e+00, 1.60000e+03, 1.90000e+01,\n",
              "        1.06500e+03, 0.00000e+00, 0.00000e+00, 3.00000e+00],\n",
              "       [1.69500e+04, 3.00000e+01, 3.00000e+00, 2.00200e+03, 6.43590e+04,\n",
              "        1.10000e+02, 1.00000e+00, 0.00000e+00, 1.60000e+03, 8.50000e+01,\n",
              "        1.10500e+03, 1.00000e+00, 1.00000e+00, 3.00000e+00],\n",
              "       [1.69500e+04, 3.00000e+01, 3.00000e+00, 2.00200e+03, 6.76600e+04,\n",
              "        1.10000e+02, 1.00000e+00, 0.00000e+00, 1.60000e+03, 8.50000e+01,\n",
              "        1.10500e+03, 1.00000e+00, 1.00000e+00, 5.00000e+00],\n",
              "       [1.69500e+04, 2.90000e+01, 4.00000e+00, 2.00200e+03, 4.39050e+04,\n",
              "        1.10000e+02, 0.00000e+00, 1.00000e+00, 1.60000e+03, 1.00000e+02,\n",
              "        1.17000e+03, 0.00000e+00, 1.00000e+00, 5.00000e+00],\n",
              "       [1.59500e+04, 2.80000e+01, 5.00000e+00, 2.00200e+03, 5.63490e+04,\n",
              "        1.10000e+02, 1.00000e+00, 0.00000e+00, 1.60000e+03, 8.50000e+01,\n",
              "        1.12000e+03, 0.00000e+00, 1.00000e+00, 3.00000e+00],\n",
              "       [1.59500e+04, 2.80000e+01, 5.00000e+00, 2.00200e+03, 3.22200e+04,\n",
              "        1.10000e+02, 1.00000e+00, 0.00000e+00, 1.60000e+03, 8.50000e+01,\n",
              "        1.12000e+03, 1.00000e+00, 1.00000e+00, 3.00000e+00],\n",
              "       [1.69500e+04, 2.90000e+01, 4.00000e+00, 2.00200e+03, 2.58130e+04,\n",
              "        1.10000e+02, 1.00000e+00, 0.00000e+00, 1.60000e+03, 8.50000e+01,\n",
              "        1.12000e+03, 1.00000e+00, 1.00000e+00, 5.00000e+00],\n",
              "       [1.36500e+04, 2.50000e+01, 8.00000e+00, 2.00200e+03, 2.84500e+04,\n",
              "        1.10000e+02, 1.00000e+00, 0.00000e+00, 1.60000e+03, 8.50000e+01,\n",
              "        1.12000e+03, 0.00000e+00, 1.00000e+00, 5.00000e+00],\n",
              "       [1.55000e+04, 2.70000e+01, 6.00000e+00, 2.00200e+03, 3.45450e+04,\n",
              "        1.10000e+02, 1.00000e+00, 0.00000e+00, 1.60000e+03, 8.50000e+01,\n",
              "        1.12000e+03, 1.00000e+00, 1.00000e+00, 3.00000e+00],\n",
              "       [1.62500e+04, 2.90000e+01, 4.00000e+00, 2.00200e+03, 4.14150e+04,\n",
              "        1.10000e+02, 1.00000e+00, 0.00000e+00, 1.60000e+03, 8.50000e+01,\n",
              "        1.12000e+03, 1.00000e+00, 1.00000e+00, 3.00000e+00],\n",
              "       [1.59500e+04, 2.80000e+01, 5.00000e+00, 2.00200e+03, 4.41420e+04,\n",
              "        1.10000e+02, 0.00000e+00, 0.00000e+00, 1.60000e+03, 8.50000e+01,\n",
              "        1.12000e+03, 1.00000e+00, 1.00000e+00, 3.00000e+00],\n",
              "       [1.74950e+04, 3.00000e+01, 3.00000e+00, 2.00200e+03, 1.10900e+04,\n",
              "        1.10000e+02, 1.00000e+00, 0.00000e+00, 1.60000e+03, 8.50000e+01,\n",
              "        1.12000e+03, 1.00000e+00, 1.00000e+00, 3.00000e+00],\n",
              "       [1.67500e+04, 2.90000e+01, 4.00000e+00, 2.00200e+03, 9.75000e+03,\n",
              "        9.70000e+01, 1.00000e+00, 0.00000e+00, 1.40000e+03, 1.90000e+01,\n",
              "        1.10000e+03, 1.00000e+00, 1.00000e+00, 1.20000e+01],\n",
              "       [1.27500e+04, 2.20000e+01, 1.10000e+01, 2.00200e+03, 3.51990e+04,\n",
              "        9.70000e+01, 1.00000e+00, 0.00000e+00, 1.40000e+03, 8.50000e+01,\n",
              "        1.10000e+03, 1.00000e+00, 1.00000e+00, 3.00000e+00],\n",
              "       [1.57500e+04, 2.70000e+01, 6.00000e+00, 2.00200e+03, 2.95100e+04,\n",
              "        9.70000e+01, 1.00000e+00, 0.00000e+00, 1.40000e+03, 8.50000e+01,\n",
              "        1.10000e+03, 1.00000e+00, 1.00000e+00, 3.00000e+00],\n",
              "       [1.39500e+04, 2.60000e+01, 7.00000e+00, 2.00200e+03, 3.26920e+04,\n",
              "        9.70000e+01, 1.00000e+00, 0.00000e+00, 1.40000e+03, 8.50000e+01,\n",
              "        1.10000e+03, 0.00000e+00, 1.00000e+00, 5.00000e+00],\n",
              "       [1.27500e+04, 2.20000e+01, 1.10000e+01, 2.00200e+03, 4.10000e+04,\n",
              "        9.70000e+01, 1.00000e+00, 0.00000e+00, 1.40000e+03, 8.50000e+01,\n",
              "        1.10000e+03, 0.00000e+00, 0.00000e+00, 5.00000e+00],\n",
              "       [1.46000e+04, 2.60000e+01, 7.00000e+00, 2.00200e+03, 4.30000e+04,\n",
              "        9.70000e+01, 0.00000e+00, 0.00000e+00, 1.40000e+03, 8.50000e+01,\n",
              "        1.10000e+03, 1.00000e+00, 1.00000e+00, 3.00000e+00],\n",
              "       [1.37500e+04, 2.50000e+01, 8.00000e+00, 2.00200e+03, 2.50000e+04,\n",
              "        9.70000e+01, 0.00000e+00, 0.00000e+00, 1.40000e+03, 8.50000e+01,\n",
              "        1.10000e+03, 5.00000e-01, 1.00000e+00, 3.00000e+00],\n",
              "       [1.29500e+04, 2.30000e+01, 1.00000e+01, 2.00200e+03, 1.00000e+04,\n",
              "        9.70000e+01, 1.00000e+00, 0.00000e+00, 1.40000e+03, 8.50000e+01,\n",
              "        1.10000e+03, 1.00000e+00, 1.00000e+00, 4.00000e+00],\n",
              "       [1.99500e+04, 3.20000e+01, 1.00000e+00, 2.00200e+03, 2.53290e+04,\n",
              "        9.70000e+01, 1.00000e+00, 0.00000e+00, 1.40000e+03, 8.50000e+01,\n",
              "        1.10000e+03, 1.00000e+00, 1.00000e+00, 5.00000e+00],\n",
              "       [1.57500e+04, 2.70000e+01, 6.00000e+00, 2.00200e+03, 2.75000e+04,\n",
              "        9.70000e+01, 0.00000e+00, 0.00000e+00, 1.40000e+03, 8.50000e+01,\n",
              "        1.10000e+03, 1.00000e+00, 1.00000e+00, 3.00000e+00],\n",
              "       [1.27500e+04, 2.20000e+01, 1.10000e+01, 2.00200e+03, 4.90590e+04,\n",
              "        9.70000e+01, 0.00000e+00, 0.00000e+00, 1.40000e+03, 8.50000e+01,\n",
              "        1.10000e+03, 5.00000e-01, 1.00000e+00, 3.00000e+00],\n",
              "       [1.57500e+04, 2.70000e+01, 6.00000e+00, 2.00200e+03, 4.40680e+04,\n",
              "        9.70000e+01, 1.00000e+00, 0.00000e+00, 1.40000e+03, 8.50000e+01,\n",
              "        1.10000e+03, 5.00000e-01, 1.00000e+00, 3.00000e+00],\n",
              "       [1.27500e+04, 2.20000e+01, 1.10000e+01, 2.00200e+03, 4.69610e+04,\n",
              "        9.70000e+01, 0.00000e+00, 0.00000e+00, 1.40000e+03, 8.50000e+01,\n",
              "        1.10000e+03, 5.00000e-01, 1.00000e+00, 4.00000e+00],\n",
              "       [1.58000e+04, 2.70000e+01, 6.00000e+00, 2.00200e+03, 1.10404e+05,\n",
              "        9.00000e+01, 0.00000e+00, 0.00000e+00, 2.00000e+03, 2.34000e+02,\n",
              "        1.25500e+03, 5.00000e-01, 1.00000e+00, 5.00000e+00],\n",
              "       [1.26000e+04, 2.20000e+01, 1.10000e+01, 2.00200e+03, 1.00250e+05,\n",
              "        9.00000e+01, 0.00000e+00, 0.00000e+00, 2.00000e+03, 2.34000e+02,\n",
              "        1.25500e+03, 5.00000e-01, 1.00000e+00, 3.00000e+00],\n",
              "       [1.29500e+04, 2.30000e+01, 1.00000e+01, 2.00200e+03, 8.40000e+04,\n",
              "        9.00000e+01, 0.00000e+00, 0.00000e+00, 2.00000e+03, 2.34000e+02,\n",
              "        1.27000e+03, 5.00000e-01, 1.00000e+00, 3.00000e+00],\n",
              "       [1.57500e+04, 2.70000e+01, 6.00000e+00, 2.00200e+03, 7.93750e+04,\n",
              "        9.00000e+01, 1.00000e+00, 0.00000e+00, 2.00000e+03, 2.34000e+02,\n",
              "        1.25500e+03, 5.00000e-01, 1.00000e+00, 4.00000e+00],\n",
              "       [1.19500e+04, 2.20000e+01, 1.10000e+01, 2.00200e+03, 7.50480e+04,\n",
              "        9.70000e+01, 1.00000e+00, 0.00000e+00, 1.40000e+03, 8.50000e+01,\n",
              "        1.11000e+03, 0.00000e+00, 1.00000e+00, 5.00000e+00],\n",
              "       [1.15000e+04, 2.20000e+01, 1.10000e+01, 2.00200e+03, 7.22150e+04,\n",
              "        9.00000e+01, 1.00000e+00, 0.00000e+00, 2.00000e+03, 2.34000e+02,\n",
              "        1.25500e+03, 0.00000e+00, 1.00000e+00, 3.00000e+00],\n",
              "       [1.15100e+04, 2.20000e+01, 1.10000e+01, 2.00200e+03, 7.22150e+04,\n",
              "        9.00000e+01, 1.00000e+00, 0.00000e+00, 2.00000e+03, 2.34000e+02,\n",
              "        1.25500e+03, 0.00000e+00, 1.00000e+00, 3.00000e+00]])"
            ]
          },
          "metadata": {},
          "execution_count": 203
        }
      ]
    },
    {
      "cell_type": "markdown",
      "source": [
        "**7) Z-Score**"
      ],
      "metadata": {
        "id": "qqG9ryrVmd8w"
      }
    },
    {
      "cell_type": "code",
      "source": [
        "mean = data.mean().sum()\n",
        "std = data.std().sum()\n",
        "\n",
        "z_scores = ((numerical_data - mean) / std)\n",
        "z_scores.head()"
      ],
      "metadata": {
        "colab": {
          "base_uri": "https://localhost:8080/",
          "height": 343
        },
        "id": "6lR6N2SUlE68",
        "outputId": "57f93916-8187-49a6-bdbe-1962886cb54b"
      },
      "execution_count": null,
      "outputs": [
        {
          "output_type": "stream",
          "name": "stderr",
          "text": [
            "<ipython-input-204-5580ca48d83e>:1: FutureWarning: The default value of numeric_only in DataFrame.mean is deprecated. In a future version, it will default to False. In addition, specifying 'numeric_only=None' is deprecated. Select only valid columns or specify the value of numeric_only to silence this warning.\n",
            "  mean = data.mean().sum()\n",
            "<ipython-input-204-5580ca48d83e>:2: FutureWarning: The default value of numeric_only in DataFrame.std is deprecated. In a future version, it will default to False. In addition, specifying 'numeric_only=None' is deprecated. Select only valid columns or specify the value of numeric_only to silence this warning.\n",
            "  std = data.std().sum()\n"
          ]
        },
        {
          "output_type": "execute_result",
          "data": {
            "text/plain": [
              "      Price       Age  Mfg_Month  Mfg_Year        KM        HP  Met_Color  \\\n",
              "0 -1.980406 -2.461390  -2.461874 -2.387756 -0.714003 -2.458897  -2.462209   \n",
              "1 -1.980406 -2.461390  -2.461874 -2.387756  0.251575 -2.458897  -2.462209   \n",
              "2 -1.980406 -2.461353  -2.461911 -2.387756 -0.910274 -2.458897  -2.462209   \n",
              "3 -1.943198 -2.461278  -2.461985 -2.387756 -0.676275 -2.458897  -2.462246   \n",
              "4 -1.794367 -2.461130  -2.462134 -2.387756 -1.029748 -2.458897  -2.462246   \n",
              "\n",
              "   Automatic       cc  Quarterly_Tax    Weight  Mfr_Guarantee  \\\n",
              "0  -2.462246 -2.38783      -2.454432 -2.418899      -2.462246   \n",
              "1  -2.462246 -2.38783      -2.454432 -2.418899      -2.462246   \n",
              "2  -2.462246 -2.38783      -2.454432 -2.418899      -2.462209   \n",
              "3  -2.462246 -2.38783      -2.454432 -2.418899      -2.462209   \n",
              "4  -2.462246 -2.38783      -2.454432 -2.418713      -2.462209   \n",
              "\n",
              "   BOVAG_Guarantee  Guarantee_Period  \n",
              "0        -2.462209         -2.462134  \n",
              "1        -2.462209         -2.462134  \n",
              "2        -2.462209         -2.462134  \n",
              "3        -2.462209         -2.462097  \n",
              "4        -2.462209         -2.462060  "
            ],
            "text/html": [
              "\n",
              "  <div id=\"df-4b8c0ac5-3842-415a-9650-f2eb38f1e7c1\">\n",
              "    <div class=\"colab-df-container\">\n",
              "      <div>\n",
              "<style scoped>\n",
              "    .dataframe tbody tr th:only-of-type {\n",
              "        vertical-align: middle;\n",
              "    }\n",
              "\n",
              "    .dataframe tbody tr th {\n",
              "        vertical-align: top;\n",
              "    }\n",
              "\n",
              "    .dataframe thead th {\n",
              "        text-align: right;\n",
              "    }\n",
              "</style>\n",
              "<table border=\"1\" class=\"dataframe\">\n",
              "  <thead>\n",
              "    <tr style=\"text-align: right;\">\n",
              "      <th></th>\n",
              "      <th>Price</th>\n",
              "      <th>Age</th>\n",
              "      <th>Mfg_Month</th>\n",
              "      <th>Mfg_Year</th>\n",
              "      <th>KM</th>\n",
              "      <th>HP</th>\n",
              "      <th>Met_Color</th>\n",
              "      <th>Automatic</th>\n",
              "      <th>cc</th>\n",
              "      <th>Quarterly_Tax</th>\n",
              "      <th>Weight</th>\n",
              "      <th>Mfr_Guarantee</th>\n",
              "      <th>BOVAG_Guarantee</th>\n",
              "      <th>Guarantee_Period</th>\n",
              "    </tr>\n",
              "  </thead>\n",
              "  <tbody>\n",
              "    <tr>\n",
              "      <th>0</th>\n",
              "      <td>-1.980406</td>\n",
              "      <td>-2.461390</td>\n",
              "      <td>-2.461874</td>\n",
              "      <td>-2.387756</td>\n",
              "      <td>-0.714003</td>\n",
              "      <td>-2.458897</td>\n",
              "      <td>-2.462209</td>\n",
              "      <td>-2.462246</td>\n",
              "      <td>-2.38783</td>\n",
              "      <td>-2.454432</td>\n",
              "      <td>-2.418899</td>\n",
              "      <td>-2.462246</td>\n",
              "      <td>-2.462209</td>\n",
              "      <td>-2.462134</td>\n",
              "    </tr>\n",
              "    <tr>\n",
              "      <th>1</th>\n",
              "      <td>-1.980406</td>\n",
              "      <td>-2.461390</td>\n",
              "      <td>-2.461874</td>\n",
              "      <td>-2.387756</td>\n",
              "      <td>0.251575</td>\n",
              "      <td>-2.458897</td>\n",
              "      <td>-2.462209</td>\n",
              "      <td>-2.462246</td>\n",
              "      <td>-2.38783</td>\n",
              "      <td>-2.454432</td>\n",
              "      <td>-2.418899</td>\n",
              "      <td>-2.462246</td>\n",
              "      <td>-2.462209</td>\n",
              "      <td>-2.462134</td>\n",
              "    </tr>\n",
              "    <tr>\n",
              "      <th>2</th>\n",
              "      <td>-1.980406</td>\n",
              "      <td>-2.461353</td>\n",
              "      <td>-2.461911</td>\n",
              "      <td>-2.387756</td>\n",
              "      <td>-0.910274</td>\n",
              "      <td>-2.458897</td>\n",
              "      <td>-2.462209</td>\n",
              "      <td>-2.462246</td>\n",
              "      <td>-2.38783</td>\n",
              "      <td>-2.454432</td>\n",
              "      <td>-2.418899</td>\n",
              "      <td>-2.462209</td>\n",
              "      <td>-2.462209</td>\n",
              "      <td>-2.462134</td>\n",
              "    </tr>\n",
              "    <tr>\n",
              "      <th>3</th>\n",
              "      <td>-1.943198</td>\n",
              "      <td>-2.461278</td>\n",
              "      <td>-2.461985</td>\n",
              "      <td>-2.387756</td>\n",
              "      <td>-0.676275</td>\n",
              "      <td>-2.458897</td>\n",
              "      <td>-2.462246</td>\n",
              "      <td>-2.462246</td>\n",
              "      <td>-2.38783</td>\n",
              "      <td>-2.454432</td>\n",
              "      <td>-2.418899</td>\n",
              "      <td>-2.462209</td>\n",
              "      <td>-2.462209</td>\n",
              "      <td>-2.462097</td>\n",
              "    </tr>\n",
              "    <tr>\n",
              "      <th>4</th>\n",
              "      <td>-1.794367</td>\n",
              "      <td>-2.461130</td>\n",
              "      <td>-2.462134</td>\n",
              "      <td>-2.387756</td>\n",
              "      <td>-1.029748</td>\n",
              "      <td>-2.458897</td>\n",
              "      <td>-2.462246</td>\n",
              "      <td>-2.462246</td>\n",
              "      <td>-2.38783</td>\n",
              "      <td>-2.454432</td>\n",
              "      <td>-2.418713</td>\n",
              "      <td>-2.462209</td>\n",
              "      <td>-2.462209</td>\n",
              "      <td>-2.462060</td>\n",
              "    </tr>\n",
              "  </tbody>\n",
              "</table>\n",
              "</div>\n",
              "      <button class=\"colab-df-convert\" onclick=\"convertToInteractive('df-4b8c0ac5-3842-415a-9650-f2eb38f1e7c1')\"\n",
              "              title=\"Convert this dataframe to an interactive table.\"\n",
              "              style=\"display:none;\">\n",
              "        \n",
              "  <svg xmlns=\"http://www.w3.org/2000/svg\" height=\"24px\"viewBox=\"0 0 24 24\"\n",
              "       width=\"24px\">\n",
              "    <path d=\"M0 0h24v24H0V0z\" fill=\"none\"/>\n",
              "    <path d=\"M18.56 5.44l.94 2.06.94-2.06 2.06-.94-2.06-.94-.94-2.06-.94 2.06-2.06.94zm-11 1L8.5 8.5l.94-2.06 2.06-.94-2.06-.94L8.5 2.5l-.94 2.06-2.06.94zm10 10l.94 2.06.94-2.06 2.06-.94-2.06-.94-.94-2.06-.94 2.06-2.06.94z\"/><path d=\"M17.41 7.96l-1.37-1.37c-.4-.4-.92-.59-1.43-.59-.52 0-1.04.2-1.43.59L10.3 9.45l-7.72 7.72c-.78.78-.78 2.05 0 2.83L4 21.41c.39.39.9.59 1.41.59.51 0 1.02-.2 1.41-.59l7.78-7.78 2.81-2.81c.8-.78.8-2.07 0-2.86zM5.41 20L4 18.59l7.72-7.72 1.47 1.35L5.41 20z\"/>\n",
              "  </svg>\n",
              "      </button>\n",
              "      \n",
              "  <style>\n",
              "    .colab-df-container {\n",
              "      display:flex;\n",
              "      flex-wrap:wrap;\n",
              "      gap: 12px;\n",
              "    }\n",
              "\n",
              "    .colab-df-convert {\n",
              "      background-color: #E8F0FE;\n",
              "      border: none;\n",
              "      border-radius: 50%;\n",
              "      cursor: pointer;\n",
              "      display: none;\n",
              "      fill: #1967D2;\n",
              "      height: 32px;\n",
              "      padding: 0 0 0 0;\n",
              "      width: 32px;\n",
              "    }\n",
              "\n",
              "    .colab-df-convert:hover {\n",
              "      background-color: #E2EBFA;\n",
              "      box-shadow: 0px 1px 2px rgba(60, 64, 67, 0.3), 0px 1px 3px 1px rgba(60, 64, 67, 0.15);\n",
              "      fill: #174EA6;\n",
              "    }\n",
              "\n",
              "    [theme=dark] .colab-df-convert {\n",
              "      background-color: #3B4455;\n",
              "      fill: #D2E3FC;\n",
              "    }\n",
              "\n",
              "    [theme=dark] .colab-df-convert:hover {\n",
              "      background-color: #434B5C;\n",
              "      box-shadow: 0px 1px 3px 1px rgba(0, 0, 0, 0.15);\n",
              "      filter: drop-shadow(0px 1px 2px rgba(0, 0, 0, 0.3));\n",
              "      fill: #FFFFFF;\n",
              "    }\n",
              "  </style>\n",
              "\n",
              "      <script>\n",
              "        const buttonEl =\n",
              "          document.querySelector('#df-4b8c0ac5-3842-415a-9650-f2eb38f1e7c1 button.colab-df-convert');\n",
              "        buttonEl.style.display =\n",
              "          google.colab.kernel.accessAllowed ? 'block' : 'none';\n",
              "\n",
              "        async function convertToInteractive(key) {\n",
              "          const element = document.querySelector('#df-4b8c0ac5-3842-415a-9650-f2eb38f1e7c1');\n",
              "          const dataTable =\n",
              "            await google.colab.kernel.invokeFunction('convertToInteractive',\n",
              "                                                     [key], {});\n",
              "          if (!dataTable) return;\n",
              "\n",
              "          const docLinkHtml = 'Like what you see? Visit the ' +\n",
              "            '<a target=\"_blank\" href=https://colab.research.google.com/notebooks/data_table.ipynb>data table notebook</a>'\n",
              "            + ' to learn more about interactive tables.';\n",
              "          element.innerHTML = '';\n",
              "          dataTable['output_type'] = 'display_data';\n",
              "          await google.colab.output.renderOutput(dataTable, element);\n",
              "          const docLink = document.createElement('div');\n",
              "          docLink.innerHTML = docLinkHtml;\n",
              "          element.appendChild(docLink);\n",
              "        }\n",
              "      </script>\n",
              "    </div>\n",
              "  </div>\n",
              "  "
            ]
          },
          "metadata": {},
          "execution_count": 204
        }
      ]
    },
    {
      "cell_type": "code",
      "source": [
        "# Removing zscore value greater than 3\n",
        "\n",
        "mask = (z_scores > 3)\n",
        "mask.sum()"
      ],
      "metadata": {
        "colab": {
          "base_uri": "https://localhost:8080/"
        },
        "id": "k4I58Dk_oGI6",
        "outputId": "5768b3ce-bb4c-4818-a037-274424c0ee28"
      },
      "execution_count": null,
      "outputs": [
        {
          "output_type": "execute_result",
          "data": {
            "text/plain": [
              "Price               0\n",
              "Age                 0\n",
              "Mfg_Month           0\n",
              "Mfg_Year            0\n",
              "KM                  0\n",
              "HP                  0\n",
              "Met_Color           0\n",
              "Automatic           0\n",
              "cc                  0\n",
              "Quarterly_Tax       0\n",
              "Weight              0\n",
              "Mfr_Guarantee       0\n",
              "BOVAG_Guarantee     0\n",
              "Guarantee_Period    0\n",
              "dtype: int64"
            ]
          },
          "metadata": {},
          "execution_count": 205
        }
      ]
    },
    {
      "cell_type": "markdown",
      "source": [
        "**8) Binarizer**"
      ],
      "metadata": {
        "id": "mPP2LNdGqYYL"
      }
    },
    {
      "cell_type": "code",
      "source": [
        "# If error faced due to binarizer. run this to solve. \n",
        "\n",
        "Null1 = numerical_data.isna().sum()\n",
        "Null1[Null1 > 0]"
      ],
      "metadata": {
        "colab": {
          "base_uri": "https://localhost:8080/"
        },
        "id": "kn0JUz4dq0Nj",
        "outputId": "d03ecf7f-cfd6-46c5-d69d-51d1f1885fdb"
      },
      "execution_count": null,
      "outputs": [
        {
          "output_type": "execute_result",
          "data": {
            "text/plain": [
              "Mfr_Guarantee    23\n",
              "dtype: int64"
            ]
          },
          "metadata": {},
          "execution_count": 206
        }
      ]
    },
    {
      "cell_type": "code",
      "source": [
        "numerical_data.dropna(inplace=True)"
      ],
      "metadata": {
        "id": "XIHryVapBRxv"
      },
      "execution_count": null,
      "outputs": []
    },
    {
      "cell_type": "code",
      "source": [
        "from sklearn.preprocessing import Binarizer\n",
        "\n",
        "binarizer = Binarizer(threshold = 25)\n",
        "binarized = binarizer.fit_transform(numerical_data)\n",
        "binarized"
      ],
      "metadata": {
        "colab": {
          "base_uri": "https://localhost:8080/"
        },
        "id": "Hi1mTy1YpBEK",
        "outputId": "1371bb7e-ab79-474a-ef68-3e49b62e9f47"
      },
      "execution_count": null,
      "outputs": [
        {
          "output_type": "execute_result",
          "data": {
            "text/plain": [
              "array([[1., 0., 0., 1., 1., 1., 0., 0., 1., 1., 1., 0., 0., 0.],\n",
              "       [1., 0., 0., 1., 1., 1., 0., 0., 1., 1., 1., 0., 0., 0.],\n",
              "       [1., 0., 0., 1., 1., 1., 0., 0., 1., 1., 1., 0., 0., 0.],\n",
              "       [1., 1., 0., 1., 1., 1., 0., 0., 1., 1., 1., 0., 0., 0.],\n",
              "       [1., 1., 0., 1., 1., 1., 0., 0., 1., 1., 1., 0., 0., 0.],\n",
              "       [1., 1., 0., 1., 1., 1., 0., 0., 1., 1., 1., 0., 0., 0.],\n",
              "       [1., 1., 0., 1., 1., 1., 0., 0., 1., 1., 1., 0., 0., 0.],\n",
              "       [1., 1., 0., 1., 1., 1., 0., 0., 1., 1., 1., 0., 0., 0.],\n",
              "       [1., 1., 0., 1., 1., 1., 0., 0., 1., 1., 1., 0., 0., 0.],\n",
              "       [1., 0., 0., 1., 1., 1., 0., 0., 1., 1., 1., 0., 0., 0.],\n",
              "       [1., 0., 0., 1., 1., 1., 0., 0., 1., 0., 1., 0., 0., 0.],\n",
              "       [1., 1., 0., 1., 1., 1., 0., 0., 1., 1., 1., 0., 0., 0.],\n",
              "       [1., 1., 0., 1., 1., 1., 0., 0., 1., 1., 1., 0., 0., 0.],\n",
              "       [1., 1., 0., 1., 1., 1., 0., 0., 1., 1., 1., 0., 0., 0.],\n",
              "       [1., 1., 0., 1., 1., 1., 0., 0., 1., 1., 1., 0., 0., 0.],\n",
              "       [1., 1., 0., 1., 1., 1., 0., 0., 1., 1., 1., 0., 0., 0.],\n",
              "       [1., 1., 0., 1., 1., 1., 0., 0., 1., 1., 1., 0., 0., 0.],\n",
              "       [1., 0., 0., 1., 1., 1., 0., 0., 1., 1., 1., 0., 0., 0.],\n",
              "       [1., 1., 0., 1., 1., 1., 0., 0., 1., 1., 1., 0., 0., 0.],\n",
              "       [1., 1., 0., 1., 1., 1., 0., 0., 1., 1., 1., 0., 0., 0.],\n",
              "       [1., 1., 0., 1., 1., 1., 0., 0., 1., 1., 1., 0., 0., 0.],\n",
              "       [1., 1., 0., 1., 1., 1., 0., 0., 1., 1., 1., 0., 0., 0.],\n",
              "       [1., 1., 0., 1., 1., 1., 0., 0., 1., 0., 1., 0., 0., 0.],\n",
              "       [1., 0., 0., 1., 1., 1., 0., 0., 1., 1., 1., 0., 0., 0.],\n",
              "       [1., 1., 0., 1., 1., 1., 0., 0., 1., 1., 1., 0., 0., 0.],\n",
              "       [1., 1., 0., 1., 1., 1., 0., 0., 1., 1., 1., 0., 0., 0.],\n",
              "       [1., 0., 0., 1., 1., 1., 0., 0., 1., 1., 1., 0., 0., 0.]])"
            ]
          },
          "metadata": {},
          "execution_count": 208
        }
      ]
    },
    {
      "cell_type": "markdown",
      "source": [
        "**9) Min-Max Scalar**"
      ],
      "metadata": {
        "id": "02ymnz56ranX"
      }
    },
    {
      "cell_type": "code",
      "source": [
        "# Min-Max Scalar\n",
        "\n",
        "from sklearn.preprocessing import MinMaxScaler\n",
        "\n",
        "scalar = MinMaxScaler()\n",
        "scaled_features = scalar.fit_transform(numerical_data)\n",
        "\n",
        "scaled_features[:1]"
      ],
      "metadata": {
        "colab": {
          "base_uri": "https://localhost:8080/"
        },
        "id": "Hl_xH9B-qt6z",
        "outputId": "19e89edd-ddc6-48b1-c5df-87490ca04083"
      },
      "execution_count": null,
      "outputs": [
        {
          "output_type": "execute_result",
          "data": {
            "text/plain": [
              "array([[0.02162162, 0.1       , 0.9       , 0.        , 0.43878297,\n",
              "        0.17073171, 1.        , 0.        , 1.        , 1.        ,\n",
              "        0.55555556, 0.        , 1.        , 0.        ]])"
            ]
          },
          "metadata": {},
          "execution_count": 209
        }
      ]
    },
    {
      "cell_type": "code",
      "source": [
        "# Standard Scalar \n",
        "\n",
        "from sklearn.preprocessing import StandardScaler\n",
        "\n",
        "scalar = StandardScaler()\n",
        "\n",
        "scaled_featuers = scalar.fit_transform(numerical_data)\n",
        "scaled_features[:1]"
      ],
      "metadata": {
        "colab": {
          "base_uri": "https://localhost:8080/"
        },
        "id": "eFcTahprwdII",
        "outputId": "0c87639d-74bd-4d76-d59e-eee1ab8e03f8"
      },
      "execution_count": null,
      "outputs": [
        {
          "output_type": "execute_result",
          "data": {
            "text/plain": [
              "array([[0.02162162, 0.1       , 0.9       , 0.        , 0.43878297,\n",
              "        0.17073171, 1.        , 0.        , 1.        , 1.        ,\n",
              "        0.55555556, 0.        , 1.        , 0.        ]])"
            ]
          },
          "metadata": {},
          "execution_count": 210
        }
      ]
    },
    {
      "cell_type": "markdown",
      "source": [
        "**10) LDA, PCA**\n",
        "\n",
        "LDA - LinearDiscriminantAnalysis\n",
        "\n",
        "PCA"
      ],
      "metadata": {
        "id": "xU346_O4xRHd"
      }
    },
    {
      "cell_type": "code",
      "source": [
        "data5 = data \n",
        "data5.dropna(inplace=True)"
      ],
      "metadata": {
        "id": "Qz8G-QN_KiDC"
      },
      "execution_count": null,
      "outputs": []
    },
    {
      "cell_type": "code",
      "source": [
        "x = data5.drop(['Fuel_Type','Gears'], axis=1)\n",
        "# x = x.select_dtypes(include=['int64', 'float64'])\n",
        "y = data5[['Fuel_Type']]"
      ],
      "metadata": {
        "id": "_C8oeY4yyusB"
      },
      "execution_count": null,
      "outputs": []
    },
    {
      "cell_type": "code",
      "source": [
        "# To find the null values \n",
        "# x = data.isna().sum()\n",
        "\n",
        "# To drop the null values. \n",
        "# x.dropna(inplace = True)\n",
        "\n",
        "x.shape\n",
        "y.shape"
      ],
      "metadata": {
        "id": "eI3uohHh1Npn",
        "colab": {
          "base_uri": "https://localhost:8080/"
        },
        "outputId": "e68e93b6-9c1c-4e6a-fe03-f53c05a388dc"
      },
      "execution_count": null,
      "outputs": [
        {
          "output_type": "execute_result",
          "data": {
            "text/plain": [
              "(26, 1)"
            ]
          },
          "metadata": {},
          "execution_count": 242
        }
      ]
    },
    {
      "cell_type": "code",
      "source": [
        "# LDA - Linear Discriminant Analysis\n",
        "\n",
        "from sklearn.discriminant_analysis import LinearDiscriminantAnalysis\n",
        "\n",
        "LDA = LinearDiscriminantAnalysis(n_components = 1)\n",
        "extracted_data = LDA.fit_transform(x, y)\n",
        "extracted_data"
      ],
      "metadata": {
        "colab": {
          "base_uri": "https://localhost:8080/"
        },
        "id": "TMAKkQPgw821",
        "outputId": "a6c502eb-1a9a-489d-88c1-696d4ca90c3f"
      },
      "execution_count": null,
      "outputs": [
        {
          "output_type": "stream",
          "name": "stderr",
          "text": [
            "/usr/local/lib/python3.9/dist-packages/sklearn/utils/validation.py:1143: DataConversionWarning: A column-vector y was passed when a 1d array was expected. Please change the shape of y to (n_samples, ), for example using ravel().\n",
            "  y = column_or_1d(y, warn=True)\n"
          ]
        },
        {
          "output_type": "execute_result",
          "data": {
            "text/plain": [
              "array([[-13.68873726],\n",
              "       [-13.6055062 ],\n",
              "       [-13.0235797 ],\n",
              "       [-14.22321604],\n",
              "       [-14.1732171 ],\n",
              "       [-13.47120531],\n",
              "       [-13.34911884],\n",
              "       [-13.36454881],\n",
              "       [  8.13021454],\n",
              "       [-13.16516464],\n",
              "       [  8.45754441],\n",
              "       [  7.9982076 ],\n",
              "       [  6.82218341],\n",
              "       [  7.24831255],\n",
              "       [  6.83205717],\n",
              "       [  6.82035496],\n",
              "       [  5.80394142],\n",
              "       [  4.68577679],\n",
              "       [  7.33854282],\n",
              "       [  5.42495362],\n",
              "       [  7.32774704],\n",
              "       [  8.23156037],\n",
              "       [  7.4741966 ],\n",
              "       [  9.26097117],\n",
              "       [  8.16864873],\n",
              "       [  6.0390807 ]])"
            ]
          },
          "metadata": {},
          "execution_count": 243
        }
      ]
    },
    {
      "cell_type": "code",
      "source": [
        "# PCA \n",
        "\n",
        "from sklearn.decomposition import PCA\n",
        "\n",
        "pca = PCA(n_components = 7)\n",
        "extracted_data = pca.fit_transform(x)\n",
        "extracted_data"
      ],
      "metadata": {
        "colab": {
          "base_uri": "https://localhost:8080/"
        },
        "id": "qRe79UUUzElO",
        "outputId": "9b283df8-3b48-4b11-b927-603672f47f18"
      },
      "execution_count": null,
      "outputs": [
        {
          "output_type": "execute_result",
          "data": {
            "text/plain": [
              "array([[ 2.37450169e+03, -2.50362716e+03,  3.08237920e+02,\n",
              "         2.46786177e+00, -1.52522369e+01, -6.59185074e-02,\n",
              "        -3.10513065e-01],\n",
              "       [ 2.83245494e+04, -2.64844334e+03,  1.40479708e+02,\n",
              "         9.40099754e+00,  3.45201235e-01,  4.36042603e+00,\n",
              "         7.19105849e-01],\n",
              "       [-2.90030473e+03, -2.47418820e+03,  3.42336223e+02,\n",
              "         1.05262239e+00, -1.83922177e+01, -9.95363543e-01,\n",
              "        -3.84939291e-01],\n",
              "       [ 3.39400743e+03, -1.50931887e+03,  2.95867622e+02,\n",
              "         5.69815089e+00, -1.65506544e+01,  1.14396260e+00,\n",
              "         9.45219823e-01],\n",
              "       [-6.08346659e+03,  2.54356195e+03,  3.34670206e+02,\n",
              "         1.04490761e+01, -2.96089127e+01,  2.30982845e+00,\n",
              "         1.15326544e+00],\n",
              "       [ 1.64381569e+04,  6.46784307e+03,  1.65686178e+02,\n",
              "         2.85561547e+01, -2.41627757e+01,  1.09260463e+01,\n",
              "        -4.95521299e-01],\n",
              "       [ 5.00099272e+04, -7.69141885e+02, -1.01174756e+00,\n",
              "        -5.26968242e+01,  1.84368431e+01, -1.72337848e+01,\n",
              "        -5.63422238e-01],\n",
              "       [ 3.13042432e+04,  2.33522460e+03,  1.02583570e+02,\n",
              "        -4.87730379e+01,  1.24945106e+00, -1.70648188e+01,\n",
              "        -5.23307345e-01],\n",
              "       [-2.49008708e+04, -3.52343064e+02,  2.57314725e+02,\n",
              "        -4.89309043e+01,  7.76467137e+01,  2.99837360e+01,\n",
              "         1.30143049e+00],\n",
              "       [ 2.65248976e+04, -2.63921322e+03,  4.22258310e+01,\n",
              "         5.71273782e+01, -1.70092066e+01,  2.86797536e+00,\n",
              "         1.03694908e+00],\n",
              "       [-1.90506505e+04, -2.38663912e+03,  4.22655093e+00,\n",
              "         5.99736756e+01,  5.41959467e+01, -2.06470466e+01,\n",
              "        -2.11900802e+00],\n",
              "       [ 1.97662691e+04,  1.39687626e+03, -2.49607809e+02,\n",
              "         2.86028521e+01,  2.18154889e+01,  9.95535700e+00,\n",
              "         1.52746120e-01],\n",
              "       [ 2.30671478e+04,  1.37845571e+03, -2.70949059e+02,\n",
              "         2.94644403e+01,  2.38022233e+01,  1.04126804e+01,\n",
              "         2.26914753e+00],\n",
              "       [-6.86880523e+02,  1.51128031e+03, -1.05625883e+02,\n",
              "        -4.06613526e+01,  4.87836232e+00, -8.41064912e+00,\n",
              "        -2.56753873e-01],\n",
              "       [ 1.17510364e+04,  4.41672294e+02, -1.90091708e+02,\n",
              "         9.64696390e+00,  2.06262489e+01,  2.31921887e+00,\n",
              "        -6.66030746e-01],\n",
              "       [-1.23770782e+04,  5.76321114e+02, -3.41118120e+01,\n",
              "         3.20141446e+00,  6.12020588e+00, -1.80032106e+00,\n",
              "        -1.63531494e+00],\n",
              "       [-1.87783001e+04,  1.61203648e+03,  1.49127284e+00,\n",
              "         4.44779267e+00,  2.94800433e-01, -1.85908538e+00,\n",
              "         2.99823927e-02],\n",
              "       [-1.61596888e+04, -1.70255426e+03,  3.62619860e+00,\n",
              "        -4.67250856e+00,  8.38459218e+00, -5.14853013e+00,\n",
              "         2.61372732e-01],\n",
              "       [-3.18075271e+03,  8.24999821e+02, -9.52968209e+01,\n",
              "         6.54675444e+00,  1.10774399e+01,  9.19344575e-02,\n",
              "        -1.18750775e+00],\n",
              "       [-4.55515676e+02,  5.09791975e+02, -1.11179749e+02,\n",
              "         6.39039618e+00,  1.32891707e+01,  2.38641609e-01,\n",
              "        -1.15526178e+00],\n",
              "       [-3.34977389e+04,  2.23917623e+03,  9.35008313e+01,\n",
              "         2.15482220e+00, -9.61903045e+00, -3.65515205e+00,\n",
              "        -2.50872547e+00],\n",
              "       [-3.48431892e+04,  1.50050194e+03, -1.04155128e+02,\n",
              "         1.12540417e+00, -1.01337081e+00, -2.72171483e+01,\n",
              "         4.92530389e+00],\n",
              "       [-9.41716706e+03, -2.64137218e+03, -2.30319213e+02,\n",
              "        -2.05922035e+01, -3.02471140e+01,  6.36014596e+00,\n",
              "        -1.32363588e+00],\n",
              "       [-1.50893293e+04,  3.90264450e+02, -2.10982700e+02,\n",
              "        -1.31904247e+01, -3.95299699e+01,  8.75759159e+00,\n",
              "        -1.45352061e+00],\n",
              "       [-1.19174235e+04, -1.42742116e+03, -2.21093561e+02,\n",
              "        -1.77279909e+01, -3.40245983e+01,  7.12641487e+00,\n",
              "         9.06248098e-01],\n",
              "       [-3.61638001e+03, -2.67374376e+03, -2.67821647e+02,\n",
              "        -1.90615109e+01, -2.67526008e+01,  7.24385881e+00,\n",
              "         8.82690851e-01]])"
            ]
          },
          "metadata": {},
          "execution_count": 244
        }
      ]
    },
    {
      "cell_type": "markdown",
      "source": [
        "**11) Feature Seletion - SelectPercentile, KBest, chi-squared, VarianceThreshold**"
      ],
      "metadata": {
        "id": "fi5Zl44R2V7-"
      }
    },
    {
      "cell_type": "code",
      "source": [
        "# Using label encoder to convert categorical values into numerical values\n",
        "\n",
        "from sklearn.preprocessing import LabelEncoder\n",
        "\n",
        "le = LabelEncoder()\n",
        "encoded = le.fit_transform(y)\n",
        "print(encoded)"
      ],
      "metadata": {
        "colab": {
          "base_uri": "https://localhost:8080/"
        },
        "id": "VF2byu3z5Oju",
        "outputId": "02e7eecb-27ca-48b2-bdc4-e57a99cae5a8"
      },
      "execution_count": null,
      "outputs": [
        {
          "output_type": "stream",
          "name": "stdout",
          "text": [
            "[0 0 0 0 0 0 0 0 1 0 1 1 1 1 1 1 1 1 1 1 1 1 1 1 1 1]\n"
          ]
        },
        {
          "output_type": "stream",
          "name": "stderr",
          "text": [
            "/usr/local/lib/python3.9/dist-packages/sklearn/preprocessing/_label.py:116: DataConversionWarning: A column-vector y was passed when a 1d array was expected. Please change the shape of y to (n_samples, ), for example using ravel().\n",
            "  y = column_or_1d(y, warn=True)\n"
          ]
        }
      ]
    },
    {
      "cell_type": "code",
      "source": [
        "# Testing the dataset for accuracy\n",
        "\n",
        "from sklearn.model_selection import train_test_split\n",
        "\n",
        "xtrain, xtest, ytrain, ytest = train_test_split(x, y, test_size=0.2)"
      ],
      "metadata": {
        "id": "S6xLvafA2Lib"
      },
      "execution_count": null,
      "outputs": []
    },
    {
      "cell_type": "code",
      "source": [
        "# Chi Squared Test\n",
        "\n",
        "from sklearn.feature_selection import SelectKBest, chi2, VarianceThreshold, mutual_info_classif\n",
        "\n",
        "selector = SelectKBest(score_func=chi2, k=3)\n",
        "newda = selector.fit_transform(abs(x), encoded)\n",
        "support = selector.get_support()\n",
        "print(list(x.columns[support]))"
      ],
      "metadata": {
        "colab": {
          "base_uri": "https://localhost:8080/"
        },
        "id": "sieYu2G94oQm",
        "outputId": "37462172-1ba0-4350-9449-098023513f1d"
      },
      "execution_count": null,
      "outputs": [
        {
          "output_type": "stream",
          "name": "stdout",
          "text": [
            "['KM', 'cc', 'Quarterly_Tax']\n"
          ]
        }
      ]
    },
    {
      "cell_type": "code",
      "source": [
        "# Using Information\n",
        "\n",
        "info = SelectKBest(score_func = mutual_info_classif, k=3)\n",
        "newdata1 = info.fit_transform(abs(x), encoded)\n",
        "supports = info.get_support()\n",
        "print(list(x.columns[supports]))"
      ],
      "metadata": {
        "colab": {
          "base_uri": "https://localhost:8080/"
        },
        "id": "bfOYRpVa6Ojw",
        "outputId": "dc3739c5-f111-4f3b-847b-74b91c371ea3"
      },
      "execution_count": null,
      "outputs": [
        {
          "output_type": "stream",
          "name": "stdout",
          "text": [
            "['HP', 'cc', 'Quarterly_Tax']\n"
          ]
        }
      ]
    },
    {
      "cell_type": "code",
      "source": [
        "# Variance Threshold\n",
        "\n",
        "from sklearn.feature_selection import VarianceThreshold\n",
        "\n",
        "variance = VarianceThreshold(4)\n",
        "newdata = variance.fit_transform(x)\n",
        "print(f\"Old Shape = {x.shape} \\nNew Shape: {newdata.shape}\")"
      ],
      "metadata": {
        "colab": {
          "base_uri": "https://localhost:8080/"
        },
        "id": "UtH0YxyG7LaM",
        "outputId": "11bbc4da-dbfd-43fe-ed14-4c621ba8c2cd"
      },
      "execution_count": null,
      "outputs": [
        {
          "output_type": "stream",
          "name": "stdout",
          "text": [
            "Old Shape = (26, 15) \n",
            "New Shape: (26, 8)\n"
          ]
        }
      ]
    },
    {
      "cell_type": "markdown",
      "source": [
        "**12) Correlation (High positive, High Negative)**"
      ],
      "metadata": {
        "id": "cHNtwhxt7wXJ"
      }
    },
    {
      "cell_type": "code",
      "source": [
        "# Correlation \n",
        "\n",
        "corr = x.corr()\n",
        "corr\n"
      ],
      "metadata": {
        "colab": {
          "base_uri": "https://localhost:8080/",
          "height": 583
        },
        "id": "k6vNzZtm7pmv",
        "outputId": "cb92782b-e423-4712-dd47-eabc33ca323d"
      },
      "execution_count": null,
      "outputs": [
        {
          "output_type": "execute_result",
          "data": {
            "text/plain": [
              "                     Price       Age  Mfg_Month  Mfg_Year        KM        HP  \\\n",
              "Price             1.000000  0.940183  -0.940183       NaN  0.051110  0.074260   \n",
              "Age               0.940183  1.000000  -1.000000       NaN  0.007842  0.191662   \n",
              "Mfg_Month        -0.940183 -1.000000   1.000000       NaN -0.007842 -0.191662   \n",
              "Mfg_Year               NaN       NaN        NaN       NaN       NaN       NaN   \n",
              "KM                0.051110  0.007842  -0.007842       NaN  1.000000 -0.417615   \n",
              "HP                0.074260  0.191662  -0.191662       NaN -0.417615  1.000000   \n",
              "Met_Color        -0.155809 -0.096767   0.096767       NaN  0.019692 -0.151382   \n",
              "Automatic         0.137090  0.143126  -0.143126       NaN -0.006770  0.068354   \n",
              "cc                0.081279  0.018142  -0.018142       NaN  0.556036 -0.228279   \n",
              "Doors                  NaN       NaN        NaN       NaN       NaN       NaN   \n",
              "Quarterly_Tax     0.029680 -0.082660   0.082660       NaN  0.622197 -0.435180   \n",
              "Weight            0.233013  0.207157  -0.207157       NaN  0.514409 -0.008790   \n",
              "Mfr_Guarantee     0.293034  0.393776  -0.393776       NaN -0.222342 -0.074232   \n",
              "BOVAG_Guarantee   0.340150  0.401475  -0.401475       NaN  0.159222 -0.008043   \n",
              "Guarantee_Period  0.133007  0.184860  -0.184860       NaN -0.406986  0.107736   \n",
              "\n",
              "                  Met_Color  Automatic        cc  Doors  Quarterly_Tax  \\\n",
              "Price             -0.155809   0.137090  0.081279    NaN       0.029680   \n",
              "Age               -0.096767   0.143126  0.018142    NaN      -0.082660   \n",
              "Mfg_Month          0.096767  -0.143126 -0.018142    NaN       0.082660   \n",
              "Mfg_Year                NaN        NaN       NaN    NaN            NaN   \n",
              "KM                 0.019692  -0.006770  0.556036    NaN       0.622197   \n",
              "HP                -0.151382   0.068354 -0.228279    NaN      -0.435180   \n",
              "Met_Color          1.000000  -0.300000 -0.320315    NaN      -0.172295   \n",
              "Automatic         -0.300000   1.000000 -0.091843    NaN      -0.073298   \n",
              "cc                -0.320315  -0.091843  1.000000    NaN       0.913107   \n",
              "Doors                   NaN        NaN       NaN    NaN            NaN   \n",
              "Quarterly_Tax     -0.172295  -0.073298  0.913107    NaN       1.000000   \n",
              "Weight            -0.101721   0.151255  0.759948    NaN       0.753349   \n",
              "Mfr_Guarantee      0.218596  -0.216025 -0.154838    NaN      -0.125007   \n",
              "BOVAG_Guarantee    0.120281   0.057735  0.260217    NaN       0.322959   \n",
              "Guarantee_Period   0.059586   0.105153 -0.316551    NaN      -0.352795   \n",
              "\n",
              "                    Weight  Mfr_Guarantee  BOVAG_Guarantee  Guarantee_Period  \n",
              "Price             0.233013       0.293034         0.340150          0.133007  \n",
              "Age               0.207157       0.393776         0.401475          0.184860  \n",
              "Mfg_Month        -0.207157      -0.393776        -0.401475         -0.184860  \n",
              "Mfg_Year               NaN            NaN              NaN               NaN  \n",
              "KM                0.514409      -0.222342         0.159222         -0.406986  \n",
              "HP               -0.008790      -0.074232        -0.008043          0.107736  \n",
              "Met_Color        -0.101721       0.218596         0.120281          0.059586  \n",
              "Automatic         0.151255      -0.216025         0.057735          0.105153  \n",
              "cc                0.759948      -0.154838         0.260217         -0.316551  \n",
              "Doors                  NaN            NaN              NaN               NaN  \n",
              "Quarterly_Tax     0.753349      -0.125007         0.322959         -0.352795  \n",
              "Weight            1.000000      -0.114648         0.362586         -0.121937  \n",
              "Mfr_Guarantee    -0.114648       1.000000         0.311805          0.103842  \n",
              "BOVAG_Guarantee   0.362586       0.311805         1.000000          0.006071  \n",
              "Guarantee_Period -0.121937       0.103842         0.006071          1.000000  "
            ],
            "text/html": [
              "\n",
              "  <div id=\"df-0781d936-82ff-4ad4-a3dc-3ef4fc1ebc6f\">\n",
              "    <div class=\"colab-df-container\">\n",
              "      <div>\n",
              "<style scoped>\n",
              "    .dataframe tbody tr th:only-of-type {\n",
              "        vertical-align: middle;\n",
              "    }\n",
              "\n",
              "    .dataframe tbody tr th {\n",
              "        vertical-align: top;\n",
              "    }\n",
              "\n",
              "    .dataframe thead th {\n",
              "        text-align: right;\n",
              "    }\n",
              "</style>\n",
              "<table border=\"1\" class=\"dataframe\">\n",
              "  <thead>\n",
              "    <tr style=\"text-align: right;\">\n",
              "      <th></th>\n",
              "      <th>Price</th>\n",
              "      <th>Age</th>\n",
              "      <th>Mfg_Month</th>\n",
              "      <th>Mfg_Year</th>\n",
              "      <th>KM</th>\n",
              "      <th>HP</th>\n",
              "      <th>Met_Color</th>\n",
              "      <th>Automatic</th>\n",
              "      <th>cc</th>\n",
              "      <th>Doors</th>\n",
              "      <th>Quarterly_Tax</th>\n",
              "      <th>Weight</th>\n",
              "      <th>Mfr_Guarantee</th>\n",
              "      <th>BOVAG_Guarantee</th>\n",
              "      <th>Guarantee_Period</th>\n",
              "    </tr>\n",
              "  </thead>\n",
              "  <tbody>\n",
              "    <tr>\n",
              "      <th>Price</th>\n",
              "      <td>1.000000</td>\n",
              "      <td>0.940183</td>\n",
              "      <td>-0.940183</td>\n",
              "      <td>NaN</td>\n",
              "      <td>0.051110</td>\n",
              "      <td>0.074260</td>\n",
              "      <td>-0.155809</td>\n",
              "      <td>0.137090</td>\n",
              "      <td>0.081279</td>\n",
              "      <td>NaN</td>\n",
              "      <td>0.029680</td>\n",
              "      <td>0.233013</td>\n",
              "      <td>0.293034</td>\n",
              "      <td>0.340150</td>\n",
              "      <td>0.133007</td>\n",
              "    </tr>\n",
              "    <tr>\n",
              "      <th>Age</th>\n",
              "      <td>0.940183</td>\n",
              "      <td>1.000000</td>\n",
              "      <td>-1.000000</td>\n",
              "      <td>NaN</td>\n",
              "      <td>0.007842</td>\n",
              "      <td>0.191662</td>\n",
              "      <td>-0.096767</td>\n",
              "      <td>0.143126</td>\n",
              "      <td>0.018142</td>\n",
              "      <td>NaN</td>\n",
              "      <td>-0.082660</td>\n",
              "      <td>0.207157</td>\n",
              "      <td>0.393776</td>\n",
              "      <td>0.401475</td>\n",
              "      <td>0.184860</td>\n",
              "    </tr>\n",
              "    <tr>\n",
              "      <th>Mfg_Month</th>\n",
              "      <td>-0.940183</td>\n",
              "      <td>-1.000000</td>\n",
              "      <td>1.000000</td>\n",
              "      <td>NaN</td>\n",
              "      <td>-0.007842</td>\n",
              "      <td>-0.191662</td>\n",
              "      <td>0.096767</td>\n",
              "      <td>-0.143126</td>\n",
              "      <td>-0.018142</td>\n",
              "      <td>NaN</td>\n",
              "      <td>0.082660</td>\n",
              "      <td>-0.207157</td>\n",
              "      <td>-0.393776</td>\n",
              "      <td>-0.401475</td>\n",
              "      <td>-0.184860</td>\n",
              "    </tr>\n",
              "    <tr>\n",
              "      <th>Mfg_Year</th>\n",
              "      <td>NaN</td>\n",
              "      <td>NaN</td>\n",
              "      <td>NaN</td>\n",
              "      <td>NaN</td>\n",
              "      <td>NaN</td>\n",
              "      <td>NaN</td>\n",
              "      <td>NaN</td>\n",
              "      <td>NaN</td>\n",
              "      <td>NaN</td>\n",
              "      <td>NaN</td>\n",
              "      <td>NaN</td>\n",
              "      <td>NaN</td>\n",
              "      <td>NaN</td>\n",
              "      <td>NaN</td>\n",
              "      <td>NaN</td>\n",
              "    </tr>\n",
              "    <tr>\n",
              "      <th>KM</th>\n",
              "      <td>0.051110</td>\n",
              "      <td>0.007842</td>\n",
              "      <td>-0.007842</td>\n",
              "      <td>NaN</td>\n",
              "      <td>1.000000</td>\n",
              "      <td>-0.417615</td>\n",
              "      <td>0.019692</td>\n",
              "      <td>-0.006770</td>\n",
              "      <td>0.556036</td>\n",
              "      <td>NaN</td>\n",
              "      <td>0.622197</td>\n",
              "      <td>0.514409</td>\n",
              "      <td>-0.222342</td>\n",
              "      <td>0.159222</td>\n",
              "      <td>-0.406986</td>\n",
              "    </tr>\n",
              "    <tr>\n",
              "      <th>HP</th>\n",
              "      <td>0.074260</td>\n",
              "      <td>0.191662</td>\n",
              "      <td>-0.191662</td>\n",
              "      <td>NaN</td>\n",
              "      <td>-0.417615</td>\n",
              "      <td>1.000000</td>\n",
              "      <td>-0.151382</td>\n",
              "      <td>0.068354</td>\n",
              "      <td>-0.228279</td>\n",
              "      <td>NaN</td>\n",
              "      <td>-0.435180</td>\n",
              "      <td>-0.008790</td>\n",
              "      <td>-0.074232</td>\n",
              "      <td>-0.008043</td>\n",
              "      <td>0.107736</td>\n",
              "    </tr>\n",
              "    <tr>\n",
              "      <th>Met_Color</th>\n",
              "      <td>-0.155809</td>\n",
              "      <td>-0.096767</td>\n",
              "      <td>0.096767</td>\n",
              "      <td>NaN</td>\n",
              "      <td>0.019692</td>\n",
              "      <td>-0.151382</td>\n",
              "      <td>1.000000</td>\n",
              "      <td>-0.300000</td>\n",
              "      <td>-0.320315</td>\n",
              "      <td>NaN</td>\n",
              "      <td>-0.172295</td>\n",
              "      <td>-0.101721</td>\n",
              "      <td>0.218596</td>\n",
              "      <td>0.120281</td>\n",
              "      <td>0.059586</td>\n",
              "    </tr>\n",
              "    <tr>\n",
              "      <th>Automatic</th>\n",
              "      <td>0.137090</td>\n",
              "      <td>0.143126</td>\n",
              "      <td>-0.143126</td>\n",
              "      <td>NaN</td>\n",
              "      <td>-0.006770</td>\n",
              "      <td>0.068354</td>\n",
              "      <td>-0.300000</td>\n",
              "      <td>1.000000</td>\n",
              "      <td>-0.091843</td>\n",
              "      <td>NaN</td>\n",
              "      <td>-0.073298</td>\n",
              "      <td>0.151255</td>\n",
              "      <td>-0.216025</td>\n",
              "      <td>0.057735</td>\n",
              "      <td>0.105153</td>\n",
              "    </tr>\n",
              "    <tr>\n",
              "      <th>cc</th>\n",
              "      <td>0.081279</td>\n",
              "      <td>0.018142</td>\n",
              "      <td>-0.018142</td>\n",
              "      <td>NaN</td>\n",
              "      <td>0.556036</td>\n",
              "      <td>-0.228279</td>\n",
              "      <td>-0.320315</td>\n",
              "      <td>-0.091843</td>\n",
              "      <td>1.000000</td>\n",
              "      <td>NaN</td>\n",
              "      <td>0.913107</td>\n",
              "      <td>0.759948</td>\n",
              "      <td>-0.154838</td>\n",
              "      <td>0.260217</td>\n",
              "      <td>-0.316551</td>\n",
              "    </tr>\n",
              "    <tr>\n",
              "      <th>Doors</th>\n",
              "      <td>NaN</td>\n",
              "      <td>NaN</td>\n",
              "      <td>NaN</td>\n",
              "      <td>NaN</td>\n",
              "      <td>NaN</td>\n",
              "      <td>NaN</td>\n",
              "      <td>NaN</td>\n",
              "      <td>NaN</td>\n",
              "      <td>NaN</td>\n",
              "      <td>NaN</td>\n",
              "      <td>NaN</td>\n",
              "      <td>NaN</td>\n",
              "      <td>NaN</td>\n",
              "      <td>NaN</td>\n",
              "      <td>NaN</td>\n",
              "    </tr>\n",
              "    <tr>\n",
              "      <th>Quarterly_Tax</th>\n",
              "      <td>0.029680</td>\n",
              "      <td>-0.082660</td>\n",
              "      <td>0.082660</td>\n",
              "      <td>NaN</td>\n",
              "      <td>0.622197</td>\n",
              "      <td>-0.435180</td>\n",
              "      <td>-0.172295</td>\n",
              "      <td>-0.073298</td>\n",
              "      <td>0.913107</td>\n",
              "      <td>NaN</td>\n",
              "      <td>1.000000</td>\n",
              "      <td>0.753349</td>\n",
              "      <td>-0.125007</td>\n",
              "      <td>0.322959</td>\n",
              "      <td>-0.352795</td>\n",
              "    </tr>\n",
              "    <tr>\n",
              "      <th>Weight</th>\n",
              "      <td>0.233013</td>\n",
              "      <td>0.207157</td>\n",
              "      <td>-0.207157</td>\n",
              "      <td>NaN</td>\n",
              "      <td>0.514409</td>\n",
              "      <td>-0.008790</td>\n",
              "      <td>-0.101721</td>\n",
              "      <td>0.151255</td>\n",
              "      <td>0.759948</td>\n",
              "      <td>NaN</td>\n",
              "      <td>0.753349</td>\n",
              "      <td>1.000000</td>\n",
              "      <td>-0.114648</td>\n",
              "      <td>0.362586</td>\n",
              "      <td>-0.121937</td>\n",
              "    </tr>\n",
              "    <tr>\n",
              "      <th>Mfr_Guarantee</th>\n",
              "      <td>0.293034</td>\n",
              "      <td>0.393776</td>\n",
              "      <td>-0.393776</td>\n",
              "      <td>NaN</td>\n",
              "      <td>-0.222342</td>\n",
              "      <td>-0.074232</td>\n",
              "      <td>0.218596</td>\n",
              "      <td>-0.216025</td>\n",
              "      <td>-0.154838</td>\n",
              "      <td>NaN</td>\n",
              "      <td>-0.125007</td>\n",
              "      <td>-0.114648</td>\n",
              "      <td>1.000000</td>\n",
              "      <td>0.311805</td>\n",
              "      <td>0.103842</td>\n",
              "    </tr>\n",
              "    <tr>\n",
              "      <th>BOVAG_Guarantee</th>\n",
              "      <td>0.340150</td>\n",
              "      <td>0.401475</td>\n",
              "      <td>-0.401475</td>\n",
              "      <td>NaN</td>\n",
              "      <td>0.159222</td>\n",
              "      <td>-0.008043</td>\n",
              "      <td>0.120281</td>\n",
              "      <td>0.057735</td>\n",
              "      <td>0.260217</td>\n",
              "      <td>NaN</td>\n",
              "      <td>0.322959</td>\n",
              "      <td>0.362586</td>\n",
              "      <td>0.311805</td>\n",
              "      <td>1.000000</td>\n",
              "      <td>0.006071</td>\n",
              "    </tr>\n",
              "    <tr>\n",
              "      <th>Guarantee_Period</th>\n",
              "      <td>0.133007</td>\n",
              "      <td>0.184860</td>\n",
              "      <td>-0.184860</td>\n",
              "      <td>NaN</td>\n",
              "      <td>-0.406986</td>\n",
              "      <td>0.107736</td>\n",
              "      <td>0.059586</td>\n",
              "      <td>0.105153</td>\n",
              "      <td>-0.316551</td>\n",
              "      <td>NaN</td>\n",
              "      <td>-0.352795</td>\n",
              "      <td>-0.121937</td>\n",
              "      <td>0.103842</td>\n",
              "      <td>0.006071</td>\n",
              "      <td>1.000000</td>\n",
              "    </tr>\n",
              "  </tbody>\n",
              "</table>\n",
              "</div>\n",
              "      <button class=\"colab-df-convert\" onclick=\"convertToInteractive('df-0781d936-82ff-4ad4-a3dc-3ef4fc1ebc6f')\"\n",
              "              title=\"Convert this dataframe to an interactive table.\"\n",
              "              style=\"display:none;\">\n",
              "        \n",
              "  <svg xmlns=\"http://www.w3.org/2000/svg\" height=\"24px\"viewBox=\"0 0 24 24\"\n",
              "       width=\"24px\">\n",
              "    <path d=\"M0 0h24v24H0V0z\" fill=\"none\"/>\n",
              "    <path d=\"M18.56 5.44l.94 2.06.94-2.06 2.06-.94-2.06-.94-.94-2.06-.94 2.06-2.06.94zm-11 1L8.5 8.5l.94-2.06 2.06-.94-2.06-.94L8.5 2.5l-.94 2.06-2.06.94zm10 10l.94 2.06.94-2.06 2.06-.94-2.06-.94-.94-2.06-.94 2.06-2.06.94z\"/><path d=\"M17.41 7.96l-1.37-1.37c-.4-.4-.92-.59-1.43-.59-.52 0-1.04.2-1.43.59L10.3 9.45l-7.72 7.72c-.78.78-.78 2.05 0 2.83L4 21.41c.39.39.9.59 1.41.59.51 0 1.02-.2 1.41-.59l7.78-7.78 2.81-2.81c.8-.78.8-2.07 0-2.86zM5.41 20L4 18.59l7.72-7.72 1.47 1.35L5.41 20z\"/>\n",
              "  </svg>\n",
              "      </button>\n",
              "      \n",
              "  <style>\n",
              "    .colab-df-container {\n",
              "      display:flex;\n",
              "      flex-wrap:wrap;\n",
              "      gap: 12px;\n",
              "    }\n",
              "\n",
              "    .colab-df-convert {\n",
              "      background-color: #E8F0FE;\n",
              "      border: none;\n",
              "      border-radius: 50%;\n",
              "      cursor: pointer;\n",
              "      display: none;\n",
              "      fill: #1967D2;\n",
              "      height: 32px;\n",
              "      padding: 0 0 0 0;\n",
              "      width: 32px;\n",
              "    }\n",
              "\n",
              "    .colab-df-convert:hover {\n",
              "      background-color: #E2EBFA;\n",
              "      box-shadow: 0px 1px 2px rgba(60, 64, 67, 0.3), 0px 1px 3px 1px rgba(60, 64, 67, 0.15);\n",
              "      fill: #174EA6;\n",
              "    }\n",
              "\n",
              "    [theme=dark] .colab-df-convert {\n",
              "      background-color: #3B4455;\n",
              "      fill: #D2E3FC;\n",
              "    }\n",
              "\n",
              "    [theme=dark] .colab-df-convert:hover {\n",
              "      background-color: #434B5C;\n",
              "      box-shadow: 0px 1px 3px 1px rgba(0, 0, 0, 0.15);\n",
              "      filter: drop-shadow(0px 1px 2px rgba(0, 0, 0, 0.3));\n",
              "      fill: #FFFFFF;\n",
              "    }\n",
              "  </style>\n",
              "\n",
              "      <script>\n",
              "        const buttonEl =\n",
              "          document.querySelector('#df-0781d936-82ff-4ad4-a3dc-3ef4fc1ebc6f button.colab-df-convert');\n",
              "        buttonEl.style.display =\n",
              "          google.colab.kernel.accessAllowed ? 'block' : 'none';\n",
              "\n",
              "        async function convertToInteractive(key) {\n",
              "          const element = document.querySelector('#df-0781d936-82ff-4ad4-a3dc-3ef4fc1ebc6f');\n",
              "          const dataTable =\n",
              "            await google.colab.kernel.invokeFunction('convertToInteractive',\n",
              "                                                     [key], {});\n",
              "          if (!dataTable) return;\n",
              "\n",
              "          const docLinkHtml = 'Like what you see? Visit the ' +\n",
              "            '<a target=\"_blank\" href=https://colab.research.google.com/notebooks/data_table.ipynb>data table notebook</a>'\n",
              "            + ' to learn more about interactive tables.';\n",
              "          element.innerHTML = '';\n",
              "          dataTable['output_type'] = 'display_data';\n",
              "          await google.colab.output.renderOutput(dataTable, element);\n",
              "          const docLink = document.createElement('div');\n",
              "          docLink.innerHTML = docLinkHtml;\n",
              "          element.appendChild(docLink);\n",
              "        }\n",
              "      </script>\n",
              "    </div>\n",
              "  </div>\n",
              "  "
            ]
          },
          "metadata": {},
          "execution_count": 251
        }
      ]
    },
    {
      "cell_type": "code",
      "source": [
        "#Highest positive correlation \"Change the threshold as per you dataset correlation values\"\n",
        "correlated = []\n",
        "for i in range(corr.shape[0]):\n",
        "  for j in range(i+1, corr.shape[1]):\n",
        "    if abs(corr.iloc[i,j]) > 0.40:\n",
        "      correlated.append(corr.columns[i])\n",
        "print(list(set(correlated)))"
      ],
      "metadata": {
        "colab": {
          "base_uri": "https://localhost:8080/"
        },
        "id": "oIwUASfPAWwY",
        "outputId": "7d583adb-f64a-4ec8-dfb9-565e4ae606e8"
      },
      "execution_count": null,
      "outputs": [
        {
          "output_type": "stream",
          "name": "stdout",
          "text": [
            "['Mfg_Month', 'HP', 'KM', 'Quarterly_Tax', 'cc', 'Age', 'Price']\n"
          ]
        }
      ]
    },
    {
      "cell_type": "code",
      "source": [
        "#Highest Negative correlation \"Change the threshold as per you dataset correlation values\"\n",
        "\n",
        "correlated_row = []\n",
        "correlated_col = []\n",
        "for i in range(corr.shape[0]):\n",
        "    for j in range(i+1, corr.shape[1]):\n",
        "        if (corr.iloc[i,j]) < 0 and corr.iloc[i,j] <= -0.1:\n",
        "            correlated_row.append(corr.columns[i])\n",
        "            correlated_col.append(corr.columns[j])\n",
        "\n",
        "print(correlated_row)\n",
        "print(correlated_col)"
      ],
      "metadata": {
        "colab": {
          "base_uri": "https://localhost:8080/"
        },
        "id": "1YBW83iMAcPq",
        "outputId": "95d6352a-4abc-4ba1-ea97-219c83091629"
      },
      "execution_count": null,
      "outputs": [
        {
          "output_type": "stream",
          "name": "stdout",
          "text": [
            "['Price', 'Price', 'Age', 'Mfg_Month', 'Mfg_Month', 'Mfg_Month', 'Mfg_Month', 'Mfg_Month', 'Mfg_Month', 'KM', 'KM', 'KM', 'HP', 'HP', 'HP', 'Met_Color', 'Met_Color', 'Met_Color', 'Met_Color', 'Automatic', 'cc', 'cc', 'Quarterly_Tax', 'Quarterly_Tax', 'Weight', 'Weight']\n",
            "['Mfg_Month', 'Met_Color', 'Mfg_Month', 'HP', 'Automatic', 'Weight', 'Mfr_Guarantee', 'BOVAG_Guarantee', 'Guarantee_Period', 'HP', 'Mfr_Guarantee', 'Guarantee_Period', 'Met_Color', 'cc', 'Quarterly_Tax', 'Automatic', 'cc', 'Quarterly_Tax', 'Weight', 'Mfr_Guarantee', 'Mfr_Guarantee', 'Guarantee_Period', 'Mfr_Guarantee', 'Guarantee_Period', 'Mfr_Guarantee', 'Guarantee_Period']\n"
          ]
        }
      ]
    },
    {
      "cell_type": "markdown",
      "source": [
        "**13) Plotting**\n"
      ],
      "metadata": {
        "id": "SWcjUTrgAgTW"
      }
    },
    {
      "cell_type": "markdown",
      "source": [
        "**Univariate plots**\n",
        "\n",
        "- bar plot -> matplotlib.pyplot -> 1 arg col.unique, previous arg.value_counts()\n",
        "- swarmplot -> sns 1 arg col\n",
        "- violinplot -> sns -> 1 arg col\n"
      ],
      "metadata": {
        "id": "e3NsB2xz4Q5c"
      }
    },
    {
      "cell_type": "code",
      "source": [
        "import pandas as pd \n",
        "import matplotlib.pyplot as plt \n",
        "import seaborn as sns "
      ],
      "metadata": {
        "id": "CbYQhlk37-lb"
      },
      "execution_count": null,
      "outputs": []
    },
    {
      "cell_type": "code",
      "source": [
        "# 2arg - unique() and value_counts() -> Categorical Data\n",
        "plt.bar(data['Fuel_Type'].unique(), data['Fuel_Type'].value_counts())\n",
        "plt.show()"
      ],
      "metadata": {
        "id": "LqeQ-D02Adzn",
        "colab": {
          "base_uri": "https://localhost:8080/",
          "height": 430
        },
        "outputId": "f33f8104-c808-4be2-be5b-b1f60cd52188"
      },
      "execution_count": null,
      "outputs": [
        {
          "output_type": "display_data",
          "data": {
            "text/plain": [
              "<Figure size 640x480 with 1 Axes>"
            ],
            "image/png": "[encoded data removed]"
          },
          "metadata": {}
        }
      ]
    },
    {
      "cell_type": "code",
      "source": [
        "# 1arg = Categorical Data\n",
        "sns.swarmplot(data['Fuel_Type'])\n",
        "plt.show()"
      ],
      "metadata": {
        "colab": {
          "base_uri": "https://localhost:8080/",
          "height": 411
        },
        "id": "8nS5P2LxFgd7",
        "outputId": "9a1436ca-7101-402e-a51c-9f988ced634a"
      },
      "execution_count": null,
      "outputs": [
        {
          "output_type": "display_data",
          "data": {
            "text/plain": [
              "<Figure size 640x480 with 1 Axes>"
            ],
            "image/png": "[encoded data removed]"
          },
          "metadata": {}
        }
      ]
    },
    {
      "cell_type": "code",
      "source": [
        "# 1arg -> Numerical column\n",
        "\n",
        "sns.violinplot(data['Age'])\n",
        "plt.show()"
      ],
      "metadata": {
        "colab": {
          "base_uri": "https://localhost:8080/",
          "height": 430
        },
        "id": "iMiVL9zaFpWi",
        "outputId": "bd641b48-1105-4ac2-ead3-48447e34a931"
      },
      "execution_count": null,
      "outputs": [
        {
          "output_type": "display_data",
          "data": {
            "text/plain": [
              "<Figure size 640x480 with 1 Axes>"
            ],
            "image/png": "[encoded data removed]"
          },
          "metadata": {}
        }
      ]
    },
    {
      "cell_type": "markdown",
      "source": [
        "**Bivariate Plots**\n",
        "\n",
        "- scatter plot -> matplotlib.pyplot -> 2 arg\n",
        "\n",
        "- catplot -> sns -> 1arg-colx, 2arg-coly, 3rd-arg-kind-box, 4th-arg-data=data\n",
        "\n",
        "- countplot -> sns -> 1arg-1col, 2arg-hue-1col, 3arg-data=data\n",
        "\n",
        "- crosstab -> pandas -> 1arg-data.col, 2arg-data.2col"
      ],
      "metadata": {
        "id": "zcqVRaqW4lM3"
      }
    },
    {
      "cell_type": "code",
      "source": [
        "# 2arg -> Any type of columns\n",
        "\n",
        "plt.scatter(data['Gears'], data['Age'])\n",
        "plt.show()"
      ],
      "metadata": {
        "colab": {
          "base_uri": "https://localhost:8080/",
          "height": 430
        },
        "id": "0nIpo0ac7ook",
        "outputId": "67737027-2ac9-4af9-f74a-9dcf21a905e0"
      },
      "execution_count": null,
      "outputs": [
        {
          "output_type": "display_data",
          "data": {
            "text/plain": [
              "<Figure size 640x480 with 1 Axes>"
            ],
            "image/png": "[encoded data removed]"
          },
          "metadata": {}
        }
      ]
    },
    {
      "cell_type": "code",
      "source": [
        "# 4arg -> X and Y Data, Kind, data=data\n",
        "\n",
        "sns.catplot(x = 'Age', y='Fuel_Type', kind='box', data=data)"
      ],
      "metadata": {
        "colab": {
          "base_uri": "https://localhost:8080/",
          "height": 524
        },
        "id": "XBjKdgftON3N",
        "outputId": "c1d63db4-f38d-49eb-8641-1eea1ff59457"
      },
      "execution_count": null,
      "outputs": [
        {
          "output_type": "execute_result",
          "data": {
            "text/plain": [
              "<seaborn.axisgrid.FacetGrid at 0x7f0db15ed850>"
            ]
          },
          "metadata": {},
          "execution_count": 256
        },
        {
          "output_type": "display_data",
          "data": {
            "text/plain": [
              "<Figure size 500x500 with 1 Axes>"
            ],
            "image/png": "[encoded data removed]"
          },
          "metadata": {}
        }
      ]
    },
    {
      "cell_type": "code",
      "source": [
        "# 3arg -> X and Y Data, data=data\n",
        "\n",
        "sns.countplot(x=\"Age\", hue=\"Fuel_Type\", data=data)"
      ],
      "metadata": {
        "colab": {
          "base_uri": "https://localhost:8080/",
          "height": 467
        },
        "id": "gVfIvM8tOJvQ",
        "outputId": "598c1fa1-91d7-4b36-c5df-1ee8df88443d"
      },
      "execution_count": null,
      "outputs": [
        {
          "output_type": "execute_result",
          "data": {
            "text/plain": [
              "<Axes: xlabel='Age', ylabel='count'>"
            ]
          },
          "metadata": {},
          "execution_count": 257
        },
        {
          "output_type": "display_data",
          "data": {
            "text/plain": [
              "<Figure size 640x480 with 1 Axes>"
            ],
            "image/png": "[encoded data removed]"
          },
          "metadata": {}
        }
      ]
    },
    {
      "cell_type": "code",
      "source": [
        "# 2args -> Any two columns of data\n",
        "\n",
        "pd.crosstab(data['Age'], data['Gears'])"
      ],
      "metadata": {
        "colab": {
          "base_uri": "https://localhost:8080/",
          "height": 394
        },
        "id": "1Qd23xKXPCVX",
        "outputId": "8f090ac4-ad1c-426e-ab2c-5a12463e4a19"
      },
      "execution_count": null,
      "outputs": [
        {
          "output_type": "execute_result",
          "data": {
            "text/plain": [
              "Gears  Five\n",
              "Age        \n",
              "22        2\n",
              "23        3\n",
              "24        2\n",
              "25        1\n",
              "26        2\n",
              "27        3\n",
              "28        3\n",
              "29        4\n",
              "30        5\n",
              "32        1"
            ],
            "text/html": [
              "\n",
              "  <div id=\"df-83944092-08e2-40f7-a2d8-75c8e791c43b\">\n",
              "    <div class=\"colab-df-container\">\n",
              "      <div>\n",
              "<style scoped>\n",
              "    .dataframe tbody tr th:only-of-type {\n",
              "        vertical-align: middle;\n",
              "    }\n",
              "\n",
              "    .dataframe tbody tr th {\n",
              "        vertical-align: top;\n",
              "    }\n",
              "\n",
              "    .dataframe thead th {\n",
              "        text-align: right;\n",
              "    }\n",
              "</style>\n",
              "<table border=\"1\" class=\"dataframe\">\n",
              "  <thead>\n",
              "    <tr style=\"text-align: right;\">\n",
              "      <th>Gears</th>\n",
              "      <th>Five</th>\n",
              "    </tr>\n",
              "    <tr>\n",
              "      <th>Age</th>\n",
              "      <th></th>\n",
              "    </tr>\n",
              "  </thead>\n",
              "  <tbody>\n",
              "    <tr>\n",
              "      <th>22</th>\n",
              "      <td>2</td>\n",
              "    </tr>\n",
              "    <tr>\n",
              "      <th>23</th>\n",
              "      <td>3</td>\n",
              "    </tr>\n",
              "    <tr>\n",
              "      <th>24</th>\n",
              "      <td>2</td>\n",
              "    </tr>\n",
              "    <tr>\n",
              "      <th>25</th>\n",
              "      <td>1</td>\n",
              "    </tr>\n",
              "    <tr>\n",
              "      <th>26</th>\n",
              "      <td>2</td>\n",
              "    </tr>\n",
              "    <tr>\n",
              "      <th>27</th>\n",
              "      <td>3</td>\n",
              "    </tr>\n",
              "    <tr>\n",
              "      <th>28</th>\n",
              "      <td>3</td>\n",
              "    </tr>\n",
              "    <tr>\n",
              "      <th>29</th>\n",
              "      <td>4</td>\n",
              "    </tr>\n",
              "    <tr>\n",
              "      <th>30</th>\n",
              "      <td>5</td>\n",
              "    </tr>\n",
              "    <tr>\n",
              "      <th>32</th>\n",
              "      <td>1</td>\n",
              "    </tr>\n",
              "  </tbody>\n",
              "</table>\n",
              "</div>\n",
              "      <button class=\"colab-df-convert\" onclick=\"convertToInteractive('df-83944092-08e2-40f7-a2d8-75c8e791c43b')\"\n",
              "              title=\"Convert this dataframe to an interactive table.\"\n",
              "              style=\"display:none;\">\n",
              "        \n",
              "  <svg xmlns=\"http://www.w3.org/2000/svg\" height=\"24px\"viewBox=\"0 0 24 24\"\n",
              "       width=\"24px\">\n",
              "    <path d=\"M0 0h24v24H0V0z\" fill=\"none\"/>\n",
              "    <path d=\"M18.56 5.44l.94 2.06.94-2.06 2.06-.94-2.06-.94-.94-2.06-.94 2.06-2.06.94zm-11 1L8.5 8.5l.94-2.06 2.06-.94-2.06-.94L8.5 2.5l-.94 2.06-2.06.94zm10 10l.94 2.06.94-2.06 2.06-.94-2.06-.94-.94-2.06-.94 2.06-2.06.94z\"/><path d=\"M17.41 7.96l-1.37-1.37c-.4-.4-.92-.59-1.43-.59-.52 0-1.04.2-1.43.59L10.3 9.45l-7.72 7.72c-.78.78-.78 2.05 0 2.83L4 21.41c.39.39.9.59 1.41.59.51 0 1.02-.2 1.41-.59l7.78-7.78 2.81-2.81c.8-.78.8-2.07 0-2.86zM5.41 20L4 18.59l7.72-7.72 1.47 1.35L5.41 20z\"/>\n",
              "  </svg>\n",
              "      </button>\n",
              "      \n",
              "  <style>\n",
              "    .colab-df-container {\n",
              "      display:flex;\n",
              "      flex-wrap:wrap;\n",
              "      gap: 12px;\n",
              "    }\n",
              "\n",
              "    .colab-df-convert {\n",
              "      background-color: #E8F0FE;\n",
              "      border: none;\n",
              "      border-radius: 50%;\n",
              "      cursor: pointer;\n",
              "      display: none;\n",
              "      fill: #1967D2;\n",
              "      height: 32px;\n",
              "      padding: 0 0 0 0;\n",
              "      width: 32px;\n",
              "    }\n",
              "\n",
              "    .colab-df-convert:hover {\n",
              "      background-color: #E2EBFA;\n",
              "      box-shadow: 0px 1px 2px rgba(60, 64, 67, 0.3), 0px 1px 3px 1px rgba(60, 64, 67, 0.15);\n",
              "      fill: #174EA6;\n",
              "    }\n",
              "\n",
              "    [theme=dark] .colab-df-convert {\n",
              "      background-color: #3B4455;\n",
              "      fill: #D2E3FC;\n",
              "    }\n",
              "\n",
              "    [theme=dark] .colab-df-convert:hover {\n",
              "      background-color: #434B5C;\n",
              "      box-shadow: 0px 1px 3px 1px rgba(0, 0, 0, 0.15);\n",
              "      filter: drop-shadow(0px 1px 2px rgba(0, 0, 0, 0.3));\n",
              "      fill: #FFFFFF;\n",
              "    }\n",
              "  </style>\n",
              "\n",
              "      <script>\n",
              "        const buttonEl =\n",
              "          document.querySelector('#df-83944092-08e2-40f7-a2d8-75c8e791c43b button.colab-df-convert');\n",
              "        buttonEl.style.display =\n",
              "          google.colab.kernel.accessAllowed ? 'block' : 'none';\n",
              "\n",
              "        async function convertToInteractive(key) {\n",
              "          const element = document.querySelector('#df-83944092-08e2-40f7-a2d8-75c8e791c43b');\n",
              "          const dataTable =\n",
              "            await google.colab.kernel.invokeFunction('convertToInteractive',\n",
              "                                                     [key], {});\n",
              "          if (!dataTable) return;\n",
              "\n",
              "          const docLinkHtml = 'Like what you see? Visit the ' +\n",
              "            '<a target=\"_blank\" href=https://colab.research.google.com/notebooks/data_table.ipynb>data table notebook</a>'\n",
              "            + ' to learn more about interactive tables.';\n",
              "          element.innerHTML = '';\n",
              "          dataTable['output_type'] = 'display_data';\n",
              "          await google.colab.output.renderOutput(dataTable, element);\n",
              "          const docLink = document.createElement('div');\n",
              "          docLink.innerHTML = docLinkHtml;\n",
              "          element.appendChild(docLink);\n",
              "        }\n",
              "      </script>\n",
              "    </div>\n",
              "  </div>\n",
              "  "
            ]
          },
          "metadata": {},
          "execution_count": 259
        }
      ]
    },
    {
      "cell_type": "markdown",
      "source": [
        "**Multivariate Plots**\n",
        "\n",
        "- pairplot -> sns -> 1arg-data, 2arg-hue"
      ],
      "metadata": {
        "id": "WbgF8DH97pOk"
      }
    },
    {
      "cell_type": "code",
      "source": [
        "data.describe()"
      ],
      "metadata": {
        "id": "LK9omiUCSlUC"
      },
      "execution_count": null,
      "outputs": []
    },
    {
      "cell_type": "code",
      "source": [
        "# 2args -> data, Hue(Only Categorical Columns are feasible)\n",
        "\n",
        "sns.pairplot(data.iloc[:, 1:4], hue=\"Age\")"
      ],
      "metadata": {
        "colab": {
          "base_uri": "https://localhost:8080/",
          "height": 531
        },
        "id": "QyS-u-eQPmkU",
        "outputId": "c714b761-4084-42dc-bd00-9f3a02c50680"
      },
      "execution_count": null,
      "outputs": [
        {
          "output_type": "execute_result",
          "data": {
            "text/plain": [
              "<seaborn.axisgrid.PairGrid at 0x7f0d7c696fa0>"
            ]
          },
          "metadata": {},
          "execution_count": 268
        },
        {
          "output_type": "display_data",
          "data": {
            "text/plain": [
              "<Figure size 567.625x500 with 6 Axes>"
            ],
            "image/png": "[encoded data removed]"
          },
          "metadata": {}
        }
      ]
    },
    {
      "cell_type": "code",
      "source": [],
      "metadata": {
        "id": "D6QoTSMyPwwv"
      },
      "execution_count": null,
      "outputs": []
    }
  ]
}