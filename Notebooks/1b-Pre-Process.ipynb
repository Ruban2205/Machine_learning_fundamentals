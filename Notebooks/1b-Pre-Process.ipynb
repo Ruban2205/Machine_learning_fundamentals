{
 "cells": [
  {
   "cell_type": "markdown",
   "id": "949efcf0",
   "metadata": {},
   "source": [
    "## <span style=\"color : green\"> Data Pre-Processing </span>"
   ]
  },
  {
   "cell_type": "markdown",
   "id": "e204a203",
   "metadata": {},
   "source": [
    "# <center> Table of Contents </center>\n",
    "\n",
    "1. Find percentage of missing values, duplicate values\n",
    "2. Impute the missing data - interpolation, mean, mode and Droping column\n",
    "1. Compute Z-Score for an attribute \n",
    "1. Apply the normalization technique - MinMax Scalar, Standard Scalar, Z-Score Normalization\n",
    "1. Convert the categorical to numerical by LabelEncoder and One-Hot Encoder "
   ]
  },
  {
   "cell_type": "code",
   "execution_count": null,
   "id": "dd530097",
   "metadata": {},
   "outputs": [],
   "source": []
  }
 ],
 "metadata": {
  "kernelspec": {
   "display_name": "Python 3 (ipykernel)",
   "language": "python",
   "name": "python3"
  },
  "language_info": {
   "codemirror_mode": {
    "name": "ipython",
    "version": 3
   },
   "file_extension": ".py",
   "mimetype": "text/x-python",
   "name": "python",
   "nbconvert_exporter": "python",
   "pygments_lexer": "ipython3",
   "version": "3.7.13"
  }
 },
 "nbformat": 4,
 "nbformat_minor": 5
}
