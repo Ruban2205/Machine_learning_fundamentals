{
 "cells": [
  {
   "cell_type": "markdown",
   "id": "e3a6847a",
   "metadata": {},
   "source": [
    "## <span style=\"color : green\"> Multiple Layer Perceptron </span>\n",
    "\n",
    "# <center> Table of Contents </center>\n",
    "\n",
    "1. Train a Multiple layer perceptron model for classification and regression  \n",
    "2. Plot the no of epoochs and error plot\n",
    "1. Evaluate the model using - \n",
    "   1. Classification - Confusion matrix, f1-score, accuracy, precision, recall\n",
    "   2. Regression - Mean Squared Error, R-Squared Score\n",
    "1. Optimize the MLP models using Random Search CV and Grid Search CV\n",
    "1. Train a Support Vector Machine Classifier and Regression \n",
    "1. Evaluate the Support Vector Mahine Models"
   ]
  },
  {
   "cell_type": "code",
   "execution_count": 2,
   "id": "0fbe0e00",
   "metadata": {},
   "outputs": [],
   "source": [
    "import pandas as pd\n",
    "import numpy as np\n",
    "import matplotlib.pyplot as plt\n",
    "from sklearn.neural_network import MLPClassifier\n",
    "from sklearn.model_selection import train_test_split, learning_curve, \\\n",
    "        RandomizedSearchCV, GridSearchCV\n",
    "from sklearn.preprocessing import LabelEncoder, MinMaxScaler\n",
    "from sklearn.metrics import classification_report, confusion_matrix, accuracy_score, \\\n",
    "        mean_squared_error\n",
    "import tensorflow as tf\n",
    "from sklearn.svm import SVR, SVR\n",
    "from scipy.stats import randint\n",
    "from tensorflow.keras.wrappers.scikit_learn import KerasClassifier, KerasRegressor\n",
    "from tensorflow.keras.models import Sequential\n",
    "from tensorflow.keras.layers import Dense\n",
    "from tensorflow.keras.optimizers import Adam\n",
    "from warnings import filterwarnings\n",
    "\n",
    "filterwarnings('ignore')"
   ]
  },
  {
   "cell_type": "code",
   "execution_count": 3,
   "id": "5c4e261d",
   "metadata": {},
   "outputs": [
    {
     "data": {
      "text/html": [
       "<div>\n",
       "<style scoped>\n",
       "    .dataframe tbody tr th:only-of-type {\n",
       "        vertical-align: middle;\n",
       "    }\n",
       "\n",
       "    .dataframe tbody tr th {\n",
       "        vertical-align: top;\n",
       "    }\n",
       "\n",
       "    .dataframe thead th {\n",
       "        text-align: right;\n",
       "    }\n",
       "</style>\n",
       "<table border=\"1\" class=\"dataframe\">\n",
       "  <thead>\n",
       "    <tr style=\"text-align: right;\">\n",
       "      <th></th>\n",
       "      <th>RestBP</th>\n",
       "      <th>Chol</th>\n",
       "      <th>Fbs</th>\n",
       "      <th>RestECG</th>\n",
       "      <th>MaxHR</th>\n",
       "      <th>ExAng</th>\n",
       "      <th>Slope</th>\n",
       "      <th>Ca</th>\n",
       "      <th>Thal</th>\n",
       "    </tr>\n",
       "  </thead>\n",
       "  <tbody>\n",
       "    <tr>\n",
       "      <th>0</th>\n",
       "      <td>145</td>\n",
       "      <td>233</td>\n",
       "      <td>1</td>\n",
       "      <td>2</td>\n",
       "      <td>150</td>\n",
       "      <td>0</td>\n",
       "      <td>3</td>\n",
       "      <td>0</td>\n",
       "      <td>fixed</td>\n",
       "    </tr>\n",
       "    <tr>\n",
       "      <th>1</th>\n",
       "      <td>160</td>\n",
       "      <td>286</td>\n",
       "      <td>0</td>\n",
       "      <td>2</td>\n",
       "      <td>108</td>\n",
       "      <td>1</td>\n",
       "      <td>2</td>\n",
       "      <td>3</td>\n",
       "      <td>normal</td>\n",
       "    </tr>\n",
       "    <tr>\n",
       "      <th>2</th>\n",
       "      <td>120</td>\n",
       "      <td>229</td>\n",
       "      <td>0</td>\n",
       "      <td>2</td>\n",
       "      <td>129</td>\n",
       "      <td>1</td>\n",
       "      <td>2</td>\n",
       "      <td>2</td>\n",
       "      <td>reversable</td>\n",
       "    </tr>\n",
       "    <tr>\n",
       "      <th>3</th>\n",
       "      <td>130</td>\n",
       "      <td>250</td>\n",
       "      <td>0</td>\n",
       "      <td>0</td>\n",
       "      <td>187</td>\n",
       "      <td>0</td>\n",
       "      <td>3</td>\n",
       "      <td>0</td>\n",
       "      <td>normal</td>\n",
       "    </tr>\n",
       "    <tr>\n",
       "      <th>4</th>\n",
       "      <td>130</td>\n",
       "      <td>204</td>\n",
       "      <td>0</td>\n",
       "      <td>2</td>\n",
       "      <td>172</td>\n",
       "      <td>0</td>\n",
       "      <td>1</td>\n",
       "      <td>0</td>\n",
       "      <td>normal</td>\n",
       "    </tr>\n",
       "  </tbody>\n",
       "</table>\n",
       "</div>"
      ],
      "text/plain": [
       "   RestBP  Chol  Fbs  RestECG  MaxHR  ExAng  Slope  Ca        Thal\n",
       "0     145   233    1        2    150      0      3   0       fixed\n",
       "1     160   286    0        2    108      1      2   3      normal\n",
       "2     120   229    0        2    129      1      2   2  reversable\n",
       "3     130   250    0        0    187      0      3   0      normal\n",
       "4     130   204    0        2    172      0      1   0      normal"
      ]
     },
     "execution_count": 3,
     "metadata": {},
     "output_type": "execute_result"
    }
   ],
   "source": [
    "df = pd.read_csv('../Datasets/Heart1.csv')\n",
    "df.drop('Oldpeak', axis=1, inplace=True)\n",
    "df.head()"
   ]
  },
  {
   "cell_type": "code",
   "execution_count": 4,
   "id": "6382043d",
   "metadata": {},
   "outputs": [],
   "source": [
    "df.Chol.fillna(df.Chol.mean(), inplace=True)\n",
    "df.MaxHR.fillna(df.MaxHR.mean(), inplace=True)"
   ]
  },
  {
   "cell_type": "code",
   "execution_count": 5,
   "id": "0e514759",
   "metadata": {},
   "outputs": [],
   "source": [
    "x = df.iloc[:,:-1]\n",
    "\n",
    "scaler = MinMaxScaler()\n",
    "x = scaler.fit_transform(x)\n",
    "\n",
    "encoder = LabelEncoder()\n",
    "df['Thal'] =  encoder.fit_transform(df['Thal'])\n",
    "\n",
    "y = df.iloc[:,-1:].values"
   ]
  },
  {
   "cell_type": "code",
   "execution_count": 6,
   "id": "a0811506",
   "metadata": {},
   "outputs": [],
   "source": [
    "xtrain, xtest, ytrain, ytest = train_test_split(x,y, random_state=0,test_size=0.3, shuffle=True)"
   ]
  },
  {
   "cell_type": "markdown",
   "id": "331f47ea",
   "metadata": {},
   "source": [
    "## Classification with Multiple Layer Perceptron"
   ]
  },
  {
   "cell_type": "code",
   "execution_count": 7,
   "id": "f6fc4bec",
   "metadata": {},
   "outputs": [
    {
     "name": "stdout",
     "output_type": "stream",
     "text": [
      "Model: \"sequential\"\n",
      "_________________________________________________________________\n",
      "Layer (type)                 Output Shape              Param #   \n",
      "=================================================================\n",
      "dense (Dense)                (None, 128)               1152      \n",
      "_________________________________________________________________\n",
      "dense_1 (Dense)              (None, 64)                8256      \n",
      "_________________________________________________________________\n",
      "dense_2 (Dense)              (None, 32)                2080      \n",
      "_________________________________________________________________\n",
      "dense_3 (Dense)              (None, 3)                 99        \n",
      "=================================================================\n",
      "Total params: 11,587\n",
      "Trainable params: 11,587\n",
      "Non-trainable params: 0\n",
      "_________________________________________________________________\n"
     ]
    },
    {
     "name": "stderr",
     "output_type": "stream",
     "text": [
      "2023-04-26 06:45:40.947762: I tensorflow/core/platform/cpu_feature_guard.cc:145] This TensorFlow binary is optimized with Intel(R) MKL-DNN to use the following CPU instructions in performance critical operations:  SSE4.1 SSE4.2\n",
      "To enable them in non-MKL-DNN operations, rebuild TensorFlow with the appropriate compiler flags.\n",
      "2023-04-26 06:45:40.949291: I tensorflow/core/common_runtime/process_util.cc:115] Creating new thread pool with default inter op setting: 8. Tune using inter_op_parallelism_threads for best performance.\n"
     ]
    }
   ],
   "source": [
    "model = Sequential()\n",
    "model.add(Dense(128, activation='relu',input_shape=(8,)))\n",
    "model.add(Dense(64, activation='relu'))\n",
    "model.add(Dense(32, activation='relu'))\n",
    "model.add(Dense(3, activation='softmax'))\n",
    "\n",
    "model.summary()"
   ]
  },
  {
   "cell_type": "code",
   "execution_count": 8,
   "id": "97801804",
   "metadata": {},
   "outputs": [
    {
     "name": "stdout",
     "output_type": "stream",
     "text": [
      "<class 'pandas.core.frame.DataFrame'>\n",
      "RangeIndex: 303 entries, 0 to 302\n",
      "Data columns (total 9 columns):\n",
      " #   Column   Non-Null Count  Dtype\n",
      "---  ------   --------------  -----\n",
      " 0   RestBP   303 non-null    int64\n",
      " 1   Chol     303 non-null    int64\n",
      " 2   Fbs      303 non-null    int64\n",
      " 3   RestECG  303 non-null    int64\n",
      " 4   MaxHR    303 non-null    int64\n",
      " 5   ExAng    303 non-null    int64\n",
      " 6   Slope    303 non-null    int64\n",
      " 7   Ca       303 non-null    int64\n",
      " 8   Thal     303 non-null    int64\n",
      "dtypes: int64(9)\n",
      "memory usage: 21.4 KB\n"
     ]
    }
   ],
   "source": [
    "df.info()"
   ]
  },
  {
   "cell_type": "code",
   "execution_count": 9,
   "id": "24af7be9",
   "metadata": {},
   "outputs": [],
   "source": [
    "model.compile(optimizer=Adam(learning_rate=0.01), loss='sparse_categorical_crossentropy', metrics=['accuracy'])\n",
    "\n"
   ]
  },
  {
   "cell_type": "code",
   "execution_count": 10,
   "id": "45296e88",
   "metadata": {
    "scrolled": true
   },
   "outputs": [
    {
     "name": "stdout",
     "output_type": "stream",
     "text": [
      "Train on 212 samples\n",
      "Epoch 1/100\n",
      "212/212 [==============================] - 1s 5ms/sample - loss: 0.9806 - accuracy: 0.4717\n",
      "Epoch 2/100\n",
      "212/212 [==============================] - 0s 129us/sample - loss: 0.8298 - accuracy: 0.6415\n",
      "Epoch 3/100\n",
      "212/212 [==============================] - 0s 139us/sample - loss: 0.7834 - accuracy: 0.6698\n",
      "Epoch 4/100\n",
      "212/212 [==============================] - 0s 164us/sample - loss: 0.7604 - accuracy: 0.6887\n",
      "Epoch 5/100\n",
      "212/212 [==============================] - 0s 141us/sample - loss: 0.7514 - accuracy: 0.6651\n",
      "Epoch 6/100\n",
      "212/212 [==============================] - 0s 141us/sample - loss: 0.7381 - accuracy: 0.6840\n",
      "Epoch 7/100\n",
      "212/212 [==============================] - 0s 131us/sample - loss: 0.7250 - accuracy: 0.6604\n",
      "Epoch 8/100\n",
      "212/212 [==============================] - 0s 136us/sample - loss: 0.7412 - accuracy: 0.6745\n",
      "Epoch 9/100\n",
      "212/212 [==============================] - 0s 133us/sample - loss: 0.7468 - accuracy: 0.6698\n",
      "Epoch 10/100\n",
      "212/212 [==============================] - 0s 150us/sample - loss: 0.7234 - accuracy: 0.6887\n",
      "Epoch 11/100\n",
      "212/212 [==============================] - 0s 125us/sample - loss: 0.6960 - accuracy: 0.6887\n",
      "Epoch 12/100\n",
      "212/212 [==============================] - 0s 126us/sample - loss: 0.7021 - accuracy: 0.7028\n",
      "Epoch 13/100\n",
      "212/212 [==============================] - 0s 132us/sample - loss: 0.6785 - accuracy: 0.7123\n",
      "Epoch 14/100\n",
      "212/212 [==============================] - 0s 151us/sample - loss: 0.6738 - accuracy: 0.7075\n",
      "Epoch 15/100\n",
      "212/212 [==============================] - 0s 138us/sample - loss: 0.6678 - accuracy: 0.7217\n",
      "Epoch 16/100\n",
      "212/212 [==============================] - 0s 146us/sample - loss: 0.6650 - accuracy: 0.7170\n",
      "Epoch 17/100\n",
      "212/212 [==============================] - 0s 151us/sample - loss: 0.6410 - accuracy: 0.7453\n",
      "Epoch 18/100\n",
      "212/212 [==============================] - 0s 150us/sample - loss: 0.6356 - accuracy: 0.7311\n",
      "Epoch 19/100\n",
      "212/212 [==============================] - 0s 151us/sample - loss: 0.6310 - accuracy: 0.7358\n",
      "Epoch 20/100\n",
      "212/212 [==============================] - 0s 177us/sample - loss: 0.6200 - accuracy: 0.7170\n",
      "Epoch 21/100\n",
      "212/212 [==============================] - 0s 159us/sample - loss: 0.6048 - accuracy: 0.7358\n",
      "Epoch 22/100\n",
      "212/212 [==============================] - 0s 214us/sample - loss: 0.5889 - accuracy: 0.7500\n",
      "Epoch 23/100\n",
      "212/212 [==============================] - 0s 177us/sample - loss: 0.5616 - accuracy: 0.7406\n",
      "Epoch 24/100\n",
      "212/212 [==============================] - 0s 198us/sample - loss: 0.5870 - accuracy: 0.7453\n",
      "Epoch 25/100\n",
      "212/212 [==============================] - 0s 194us/sample - loss: 0.5704 - accuracy: 0.7406\n",
      "Epoch 26/100\n",
      "212/212 [==============================] - 0s 164us/sample - loss: 0.6024 - accuracy: 0.7075\n",
      "Epoch 27/100\n",
      "212/212 [==============================] - 0s 168us/sample - loss: 0.6024 - accuracy: 0.7311\n",
      "Epoch 28/100\n",
      "212/212 [==============================] - 0s 160us/sample - loss: 0.6033 - accuracy: 0.7075\n",
      "Epoch 29/100\n",
      "212/212 [==============================] - 0s 149us/sample - loss: 0.5942 - accuracy: 0.7264\n",
      "Epoch 30/100\n",
      "212/212 [==============================] - 0s 140us/sample - loss: 0.5549 - accuracy: 0.7642\n",
      "Epoch 31/100\n",
      "212/212 [==============================] - 0s 140us/sample - loss: 0.5294 - accuracy: 0.7877\n",
      "Epoch 32/100\n",
      "212/212 [==============================] - 0s 138us/sample - loss: 0.5168 - accuracy: 0.7783\n",
      "Epoch 33/100\n",
      "212/212 [==============================] - 0s 147us/sample - loss: 0.4904 - accuracy: 0.7877\n",
      "Epoch 34/100\n",
      "212/212 [==============================] - 0s 135us/sample - loss: 0.4913 - accuracy: 0.7783\n",
      "Epoch 35/100\n",
      "212/212 [==============================] - 0s 141us/sample - loss: 0.5029 - accuracy: 0.7594\n",
      "Epoch 36/100\n",
      "212/212 [==============================] - 0s 143us/sample - loss: 0.5183 - accuracy: 0.7594\n",
      "Epoch 37/100\n",
      "212/212 [==============================] - 0s 135us/sample - loss: 0.5198 - accuracy: 0.7594\n",
      "Epoch 38/100\n",
      "212/212 [==============================] - 0s 148us/sample - loss: 0.5485 - accuracy: 0.7500\n",
      "Epoch 39/100\n",
      "212/212 [==============================] - 0s 144us/sample - loss: 0.5056 - accuracy: 0.7972\n",
      "Epoch 40/100\n",
      "212/212 [==============================] - 0s 142us/sample - loss: 0.4392 - accuracy: 0.7877\n",
      "Epoch 41/100\n",
      "212/212 [==============================] - 0s 141us/sample - loss: 0.4271 - accuracy: 0.8113\n",
      "Epoch 42/100\n",
      "212/212 [==============================] - 0s 156us/sample - loss: 0.4407 - accuracy: 0.8113\n",
      "Epoch 43/100\n",
      "212/212 [==============================] - 0s 145us/sample - loss: 0.4088 - accuracy: 0.8113\n",
      "Epoch 44/100\n",
      "212/212 [==============================] - 0s 143us/sample - loss: 0.4461 - accuracy: 0.8066\n",
      "Epoch 45/100\n",
      "212/212 [==============================] - 0s 145us/sample - loss: 0.4419 - accuracy: 0.8255\n",
      "Epoch 46/100\n",
      "212/212 [==============================] - 0s 140us/sample - loss: 0.4267 - accuracy: 0.8255\n",
      "Epoch 47/100\n",
      "212/212 [==============================] - 0s 140us/sample - loss: 0.4311 - accuracy: 0.8066\n",
      "Epoch 48/100\n",
      "212/212 [==============================] - 0s 140us/sample - loss: 0.3867 - accuracy: 0.8349\n",
      "Epoch 49/100\n",
      "212/212 [==============================] - 0s 137us/sample - loss: 0.4022 - accuracy: 0.8302\n",
      "Epoch 50/100\n",
      "212/212 [==============================] - 0s 139us/sample - loss: 0.3643 - accuracy: 0.8491\n",
      "Epoch 51/100\n",
      "212/212 [==============================] - 0s 131us/sample - loss: 0.3456 - accuracy: 0.8679\n",
      "Epoch 52/100\n",
      "212/212 [==============================] - 0s 134us/sample - loss: 0.3653 - accuracy: 0.8396\n",
      "Epoch 53/100\n",
      "212/212 [==============================] - 0s 134us/sample - loss: 0.3265 - accuracy: 0.8443\n",
      "Epoch 54/100\n",
      "212/212 [==============================] - 0s 147us/sample - loss: 0.3248 - accuracy: 0.8585\n",
      "Epoch 55/100\n",
      "212/212 [==============================] - 0s 140us/sample - loss: 0.3184 - accuracy: 0.8491\n",
      "Epoch 56/100\n",
      "212/212 [==============================] - 0s 137us/sample - loss: 0.3073 - accuracy: 0.8868\n",
      "Epoch 57/100\n",
      "212/212 [==============================] - 0s 142us/sample - loss: 0.2968 - accuracy: 0.8726\n",
      "Epoch 58/100\n",
      "212/212 [==============================] - 0s 151us/sample - loss: 0.3551 - accuracy: 0.8585\n",
      "Epoch 59/100\n",
      "212/212 [==============================] - 0s 141us/sample - loss: 0.3364 - accuracy: 0.8632\n",
      "Epoch 60/100\n",
      "212/212 [==============================] - 0s 143us/sample - loss: 0.4689 - accuracy: 0.8255\n",
      "Epoch 61/100\n",
      "212/212 [==============================] - 0s 150us/sample - loss: 0.3268 - accuracy: 0.8443\n",
      "Epoch 62/100\n",
      "212/212 [==============================] - 0s 141us/sample - loss: 0.3501 - accuracy: 0.8538\n",
      "Epoch 63/100\n",
      "212/212 [==============================] - 0s 128us/sample - loss: 0.3012 - accuracy: 0.8821\n",
      "Epoch 64/100\n",
      "212/212 [==============================] - 0s 133us/sample - loss: 0.2881 - accuracy: 0.8962\n",
      "Epoch 65/100\n",
      "212/212 [==============================] - 0s 142us/sample - loss: 0.3441 - accuracy: 0.8208\n",
      "Epoch 66/100\n",
      "212/212 [==============================] - 0s 144us/sample - loss: 0.3420 - accuracy: 0.8632\n",
      "Epoch 67/100\n",
      "212/212 [==============================] - 0s 141us/sample - loss: 0.3447 - accuracy: 0.8538\n",
      "Epoch 68/100\n",
      "212/212 [==============================] - 0s 138us/sample - loss: 0.3161 - accuracy: 0.8585\n",
      "Epoch 69/100\n",
      "212/212 [==============================] - 0s 140us/sample - loss: 0.2998 - accuracy: 0.8679\n",
      "Epoch 70/100\n",
      "212/212 [==============================] - 0s 140us/sample - loss: 0.2736 - accuracy: 0.8679\n",
      "Epoch 71/100\n",
      "212/212 [==============================] - 0s 137us/sample - loss: 0.2663 - accuracy: 0.8774\n",
      "Epoch 72/100\n",
      "212/212 [==============================] - 0s 144us/sample - loss: 0.2445 - accuracy: 0.8962\n",
      "Epoch 73/100\n",
      "212/212 [==============================] - 0s 138us/sample - loss: 0.2977 - accuracy: 0.8821\n",
      "Epoch 74/100\n",
      "212/212 [==============================] - 0s 149us/sample - loss: 0.3090 - accuracy: 0.8915\n",
      "Epoch 75/100\n",
      "212/212 [==============================] - 0s 146us/sample - loss: 0.3864 - accuracy: 0.8396\n",
      "Epoch 76/100\n",
      "212/212 [==============================] - 0s 159us/sample - loss: 0.3305 - accuracy: 0.8774\n",
      "Epoch 77/100\n",
      "212/212 [==============================] - 0s 168us/sample - loss: 0.3030 - accuracy: 0.8774\n",
      "Epoch 78/100\n"
     ]
    },
    {
     "name": "stdout",
     "output_type": "stream",
     "text": [
      "212/212 [==============================] - 0s 141us/sample - loss: 0.2820 - accuracy: 0.8821\n",
      "Epoch 79/100\n",
      "212/212 [==============================] - 0s 143us/sample - loss: 0.2682 - accuracy: 0.8868\n",
      "Epoch 80/100\n",
      "212/212 [==============================] - 0s 141us/sample - loss: 0.2325 - accuracy: 0.9057\n",
      "Epoch 81/100\n",
      "212/212 [==============================] - 0s 161us/sample - loss: 0.2394 - accuracy: 0.9009\n",
      "Epoch 82/100\n",
      "212/212 [==============================] - 0s 141us/sample - loss: 0.2561 - accuracy: 0.9104\n",
      "Epoch 83/100\n",
      "212/212 [==============================] - 0s 139us/sample - loss: 0.2251 - accuracy: 0.9104\n",
      "Epoch 84/100\n",
      "212/212 [==============================] - 0s 135us/sample - loss: 0.2056 - accuracy: 0.9151\n",
      "Epoch 85/100\n",
      "212/212 [==============================] - 0s 135us/sample - loss: 0.2012 - accuracy: 0.9245\n",
      "Epoch 86/100\n",
      "212/212 [==============================] - 0s 134us/sample - loss: 0.2072 - accuracy: 0.9057\n",
      "Epoch 87/100\n",
      "212/212 [==============================] - 0s 144us/sample - loss: 0.2147 - accuracy: 0.9104\n",
      "Epoch 88/100\n",
      "212/212 [==============================] - 0s 141us/sample - loss: 0.2136 - accuracy: 0.9104\n",
      "Epoch 89/100\n",
      "212/212 [==============================] - 0s 136us/sample - loss: 0.2280 - accuracy: 0.9151\n",
      "Epoch 90/100\n",
      "212/212 [==============================] - 0s 139us/sample - loss: 0.2211 - accuracy: 0.8962\n",
      "Epoch 91/100\n",
      "212/212 [==============================] - 0s 173us/sample - loss: 0.2602 - accuracy: 0.8915\n",
      "Epoch 92/100\n",
      "212/212 [==============================] - 0s 162us/sample - loss: 0.3191 - accuracy: 0.8821\n",
      "Epoch 93/100\n",
      "212/212 [==============================] - 0s 183us/sample - loss: 0.3077 - accuracy: 0.8821\n",
      "Epoch 94/100\n",
      "212/212 [==============================] - 0s 180us/sample - loss: 0.2468 - accuracy: 0.9009\n",
      "Epoch 95/100\n",
      "212/212 [==============================] - 0s 147us/sample - loss: 0.2477 - accuracy: 0.8821\n",
      "Epoch 96/100\n",
      "212/212 [==============================] - 0s 168us/sample - loss: 0.2386 - accuracy: 0.9104\n",
      "Epoch 97/100\n",
      "212/212 [==============================] - 0s 154us/sample - loss: 0.2147 - accuracy: 0.9198\n",
      "Epoch 98/100\n",
      "212/212 [==============================] - 0s 172us/sample - loss: 0.2430 - accuracy: 0.9151\n",
      "Epoch 99/100\n",
      "212/212 [==============================] - 0s 153us/sample - loss: 0.1845 - accuracy: 0.9387\n",
      "Epoch 100/100\n",
      "212/212 [==============================] - 0s 186us/sample - loss: 0.2058 - accuracy: 0.9104\n"
     ]
    }
   ],
   "source": [
    "history = model.fit(xtrain, ytrain, epochs=100, )"
   ]
  },
  {
   "cell_type": "code",
   "execution_count": 11,
   "id": "21fef5c9",
   "metadata": {},
   "outputs": [
    {
     "name": "stdout",
     "output_type": "stream",
     "text": [
      "\n",
      "\n",
      "Loss: 3.1764364137754337, Accuracy: 0.5714285969734192\n"
     ]
    }
   ],
   "source": [
    "# Evaluating the model \n",
    "\n",
    "loss, accuracy = model.evaluate(xtest, ytest, verbose = 0)\n",
    "print(f'\\n\\nLoss: {loss}, Accuracy: {accuracy}')"
   ]
  },
  {
   "cell_type": "code",
   "execution_count": 12,
   "id": "d6cbe889",
   "metadata": {
    "scrolled": true
   },
   "outputs": [
    {
     "name": "stdout",
     "output_type": "stream",
     "text": [
      "[array([[ 0.018879  , -0.6250494 , -0.10395607, ..., -0.1200972 ,\n",
      "        -0.75854003,  0.11656034],\n",
      "       [ 0.25343436,  0.49161604,  0.00328512, ..., -0.2401782 ,\n",
      "         0.38576013,  0.04889241],\n",
      "       [ 0.3120219 ,  0.1313451 ,  0.0248012 , ...,  0.3916575 ,\n",
      "        -0.77829236, -0.12070011],\n",
      "       ...,\n",
      "       [ 0.27756166,  0.21717185, -0.02025992, ...,  0.43644664,\n",
      "         0.03327319,  0.21159846],\n",
      "       [-0.27288145, -0.58297294,  0.01151642, ..., -0.25484553,\n",
      "        -0.4734749 ,  0.18913577],\n",
      "       [-0.20754841,  0.03354729, -0.05454873, ..., -1.2110089 ,\n",
      "         0.8115104 , -0.23459359]], dtype=float32), array([-0.12594412,  0.35032317, -0.05115532,  0.00052245, -0.30808398,\n",
      "        0.11918052, -0.11171191, -0.09596429,  0.11813296, -0.19592768,\n",
      "       -0.05909685, -0.2047824 ,  0.07632688, -0.22426352, -0.19603436,\n",
      "       -0.0885328 ,  0.02125331,  0.12280915, -0.04400707, -0.09369256,\n",
      "       -0.05552758, -0.13309848, -0.20450047, -0.24995425, -0.23313075,\n",
      "       -0.26791286, -0.11469759, -0.19588444, -0.3571567 ,  0.0145094 ,\n",
      "       -0.30670053, -0.30128497, -0.08239178, -0.11940574, -0.26414755,\n",
      "       -0.06265591,  0.02294665, -0.0716799 , -0.0709914 ,  0.08806401,\n",
      "        0.04554701, -0.10653461, -0.14689806,  0.07496966, -0.19058603,\n",
      "        0.01549586, -0.15410724, -0.06659404, -0.2325441 , -0.0100665 ,\n",
      "       -0.14605527, -0.19797567, -0.02416812, -0.1431347 , -0.21548124,\n",
      "       -0.21518864, -0.15033677,  0.10730155,  0.        ,  0.01570955,\n",
      "       -0.11312795, -0.05112435,  0.        , -0.16012284, -0.32939556,\n",
      "       -0.16542439, -0.1000741 , -0.06615409, -0.12498994, -0.0727039 ,\n",
      "       -0.08981174, -0.11254308, -0.12929498, -0.23055656, -0.15233928,\n",
      "        0.0391461 , -0.05308792, -0.1430218 , -0.06552413, -0.06631639,\n",
      "       -0.01353545, -0.1553818 , -0.18985714,  0.18634945, -0.0023902 ,\n",
      "        0.01035904,  0.11340424, -0.08220939, -0.06423404, -0.23565689,\n",
      "       -0.1262205 , -0.139899  , -0.03970461, -0.06000827,  0.14198582,\n",
      "       -0.20374975,  0.        , -0.12637699,  0.02509379, -0.07997487,\n",
      "       -0.08473088, -0.29894888,  0.09767599, -0.09739811, -0.05997284,\n",
      "       -0.19670068, -0.04235739,  0.        ,  0.        ,  0.00236119,\n",
      "       -0.1200159 , -0.14925264, -0.0473613 ,  0.00200058, -0.2084944 ,\n",
      "       -0.14532773, -0.18800628, -0.18827777, -0.3111589 , -0.09334622,\n",
      "       -0.01518308,  0.06533547,  0.        ,  0.40680587,  0.        ,\n",
      "        0.24230058, -0.09649189, -0.22924   ], dtype=float32), array([[-0.04886489,  0.10696144, -0.11697787, ...,  0.01474017,\n",
      "        -0.35026756, -0.29505542],\n",
      "       [ 0.01065826,  0.5854227 , -0.12137972, ..., -0.47499982,\n",
      "        -0.37431479, -0.62668973],\n",
      "       [-0.04771668,  0.2009387 ,  0.1413548 , ..., -0.15881838,\n",
      "         0.13497765, -0.11634322],\n",
      "       ...,\n",
      "       [-0.24705078, -0.4900109 , -0.01561658, ...,  0.84735286,\n",
      "         0.24395353,  0.29176787],\n",
      "       [ 0.00248693, -0.2786115 , -0.14305367, ..., -0.25230598,\n",
      "         0.01904342, -0.2792587 ],\n",
      "       [-0.06304752, -0.2128381 , -0.11754828, ..., -0.56866175,\n",
      "         0.06987257,  0.03165617]], dtype=float32), array([-0.18596874, -0.17887096, -0.05864732,  0.03873757, -0.06005004,\n",
      "        0.01016969, -0.14064412,  0.03949713, -0.06768712,  0.09344176,\n",
      "       -0.06003101, -0.06277733,  0.04989425, -0.2534851 ,  0.07702497,\n",
      "       -0.20259821, -0.06004434,  0.01636748, -0.10238723, -0.15472083,\n",
      "       -0.01138786, -0.16003825, -0.06265796, -0.02488868,  0.22611026,\n",
      "       -0.08570798, -0.05109649, -0.17756155,  0.21543692,  0.1819725 ,\n",
      "        0.02454351, -0.13641964, -0.21264128, -0.06322725,  0.10125253,\n",
      "       -0.05961837, -0.05970148, -0.10443708,  0.06264101, -0.05885821,\n",
      "       -0.060041  , -0.12161763, -0.03102617, -0.2714549 , -0.07604229,\n",
      "       -0.05159481, -0.10633026,  0.41911045,  0.2016893 , -0.5158    ,\n",
      "        0.27794695, -0.13282618,  0.1248598 ,  0.01998631, -0.06227972,\n",
      "       -0.05901357, -0.06004111, -0.12577896,  0.01051884, -0.1898949 ,\n",
      "       -0.06002898, -0.06701645,  0.05312593,  0.04228023], dtype=float32), array([[-0.0895133 , -0.45492637, -0.12329455, ...,  0.09948855,\n",
      "        -0.03306162,  0.00805818],\n",
      "       [ 0.33713552,  0.61266947, -0.3963048 , ..., -0.4785597 ,\n",
      "         0.12604782,  0.15602607],\n",
      "       [ 0.1214969 , -0.16080965, -0.3359721 , ...,  0.11033586,\n",
      "         0.20574456, -0.00847685],\n",
      "       ...,\n",
      "       [ 0.12760317, -0.2104741 ,  0.42158756, ...,  0.57868135,\n",
      "         0.15178943,  0.18706283],\n",
      "       [-0.04806977, -0.3297026 ,  1.0937424 , ...,  0.4277898 ,\n",
      "        -0.08122983,  0.00114853],\n",
      "       [ 0.07569303, -0.262571  ,  0.07377425, ..., -0.15433115,\n",
      "         0.07132906,  0.1331493 ]], dtype=float32), array([ 0.24386765,  0.09033819,  0.08775523, -0.16198817,  0.00873744,\n",
      "       -0.06006216, -0.18710789,  0.18835162,  0.00705466, -0.04957972,\n",
      "       -0.33123636,  0.4172469 , -0.06006123,  0.1870577 ,  0.17022632,\n",
      "       -0.09328634, -0.07311347,  0.16992228,  0.00273303, -0.08140052,\n",
      "        0.11211216, -0.1039164 ,  0.07316203, -0.07167111,  0.13400286,\n",
      "       -0.07689335, -0.08254202, -0.0320464 ,  0.23048447, -0.03485449,\n",
      "       -0.11971506, -0.06005732], dtype=float32), array([[-1.2376933 ,  0.20138581,  0.08464624],\n",
      "       [ 0.36271092, -0.71058017,  0.5892812 ],\n",
      "       [-0.11067433,  0.9827005 , -1.0310689 ],\n",
      "       [-0.41063425,  0.39114287, -0.05759679],\n",
      "       [ 0.22562699,  0.6649295 , -0.21876244],\n",
      "       [-0.16827896,  0.16424929, -0.20082584],\n",
      "       [-0.2627491 , -0.19062129, -0.21396825],\n",
      "       [ 0.25027063, -0.11676945,  0.6112642 ],\n",
      "       [-0.4069508 ,  0.06959458,  0.10990854],\n",
      "       [ 0.34561795, -1.0335101 ,  0.37229192],\n",
      "       [-0.24797349,  0.32014346, -0.06363645],\n",
      "       [ 0.7988753 ,  0.2410101 , -1.4497067 ],\n",
      "       [ 0.15374833, -0.29019293, -0.00201414],\n",
      "       [-1.2674781 ,  0.02699362, -0.06849571],\n",
      "       [-1.4995302 , -0.16934375, -0.04607436],\n",
      "       [-0.02831   ,  0.3411271 , -0.13601829],\n",
      "       [ 0.321113  ,  0.22126138,  0.09540902],\n",
      "       [ 0.35588977, -0.2784705 , -0.48469055],\n",
      "       [ 0.3878129 , -0.36841333,  0.07430276],\n",
      "       [-0.2403672 ,  0.00874643, -0.24903461],\n",
      "       [ 0.2467019 , -0.78372043,  0.80322677],\n",
      "       [ 0.24626389, -0.21533647, -0.02355901],\n",
      "       [-0.30850667, -0.40237817,  0.5683966 ],\n",
      "       [-0.01857369,  0.03908422, -0.05487193],\n",
      "       [-0.9376426 ,  0.15005597,  0.23437802],\n",
      "       [ 0.24984941, -0.2828993 , -0.14267516],\n",
      "       [-0.2558456 ,  0.07130266,  0.19677097],\n",
      "       [-0.03809022,  0.6022553 , -0.19946338],\n",
      "       [-0.4534353 , -0.64677954,  0.53442204],\n",
      "       [ 0.26913947,  0.8641964 , -0.8894645 ],\n",
      "       [-0.31747302,  0.0389648 , -0.11454298],\n",
      "       [ 0.27872944,  0.39518625, -0.01211332]], dtype=float32), array([-0.05488513, -0.01772728,  0.14059189], dtype=float32)]\n"
     ]
    }
   ],
   "source": [
    "# Weight for every attribute \n",
    "\n",
    "print(model.get_weights())"
   ]
  },
  {
   "cell_type": "code",
   "execution_count": 13,
   "id": "5fe739a2",
   "metadata": {
    "scrolled": true
   },
   "outputs": [
    {
     "data": {
      "image/png": "[encoded data removed]",
      "text/plain": [
       "<Figure size 432x288 with 1 Axes>"
      ]
     },
     "metadata": {
      "needs_background": "light"
     },
     "output_type": "display_data"
    }
   ],
   "source": [
    "# Loss or Error\n",
    "\n",
    "plt.plot(history.history['loss'])\n",
    "plt.title('Model Loss')\n",
    "plt.xlabel('Epoch')\n",
    "plt.ylabel('Loss')\n",
    "plt.legend(['Training'])\n",
    "plt.show()\n"
   ]
  },
  {
   "cell_type": "code",
   "execution_count": 14,
   "id": "97acf1c7",
   "metadata": {},
   "outputs": [
    {
     "data": {
      "image/png": "[encoded data removed]",
      "text/plain": [
       "<Figure size 432x288 with 1 Axes>"
      ]
     },
     "metadata": {
      "needs_background": "light"
     },
     "output_type": "display_data"
    }
   ],
   "source": [
    "plt.plot(history.history['accuracy'])\n",
    "plt.title('Model Accuracy')\n",
    "plt.xlabel('Epoch')\n",
    "plt.ylabel('Accuracy')\n",
    "plt.legend(['Training'])\n",
    "plt.show()"
   ]
  },
  {
   "cell_type": "markdown",
   "id": "56a21fab",
   "metadata": {},
   "source": [
    "## Classification with Support Vector Machine"
   ]
  },
  {
   "cell_type": "code",
   "execution_count": 15,
   "id": "0a438a07",
   "metadata": {},
   "outputs": [
    {
     "data": {
      "text/plain": [
       "SVC()"
      ]
     },
     "execution_count": 15,
     "metadata": {},
     "output_type": "execute_result"
    }
   ],
   "source": [
    "from sklearn.svm import SVC\n",
    "\n",
    "model = SVC()\n",
    "model.fit(xtrain,ytrain)"
   ]
  },
  {
   "cell_type": "code",
   "execution_count": 16,
   "id": "b9a7c55e",
   "metadata": {},
   "outputs": [],
   "source": [
    "ypred = model.predict(xtest)"
   ]
  },
  {
   "cell_type": "code",
   "execution_count": 17,
   "id": "977a220f",
   "metadata": {},
   "outputs": [
    {
     "name": "stdout",
     "output_type": "stream",
     "text": [
      "Accuraacy of the SVM Classifier is 63.74\n"
     ]
    }
   ],
   "source": [
    "print(f'Accuraacy of the SVM Classifier is {round(accuracy_score(ytest, ypred)*100,2)}')"
   ]
  },
  {
   "cell_type": "code",
   "execution_count": 18,
   "id": "3f95e207",
   "metadata": {},
   "outputs": [
    {
     "name": "stdout",
     "output_type": "stream",
     "text": [
      "              precision    recall  f1-score   support\n",
      "\n",
      "           0       0.00      0.00      0.00         5\n",
      "           1       0.75      0.72      0.74        58\n",
      "           2       0.46      0.57      0.51        28\n",
      "\n",
      "    accuracy                           0.64        91\n",
      "   macro avg       0.40      0.43      0.41        91\n",
      "weighted avg       0.62      0.64      0.63        91\n",
      "\n"
     ]
    }
   ],
   "source": [
    "print(classification_report(ytest, ypred))"
   ]
  },
  {
   "cell_type": "code",
   "execution_count": 19,
   "id": "691821fb",
   "metadata": {
    "scrolled": true
   },
   "outputs": [
    {
     "name": "stdout",
     "output_type": "stream",
     "text": [
      "[[ 0  2  3]\n",
      " [ 0 42 16]\n",
      " [ 0 12 16]]\n"
     ]
    }
   ],
   "source": [
    "print(confusion_matrix(ytest, ypred))"
   ]
  },
  {
   "cell_type": "markdown",
   "id": "9e1958eb",
   "metadata": {},
   "source": [
    "## Hyper-Tuning using Random Search CV"
   ]
  },
  {
   "cell_type": "code",
   "execution_count": 67,
   "id": "bb878b58",
   "metadata": {},
   "outputs": [],
   "source": [
    "def create_model(hidden_layers=2, units=32, activation='relu', optimizer='adam'):\n",
    "    model = Sequential()\n",
    "    model.add(Dense(units, input_dim=8, activation=activation))\n",
    "    for i in range(hidden_layers):\n",
    "        model.add(Dense(units, activation=activation))\n",
    "    model.add(Dense(3, activation='softmax'))\n",
    "    model.compile(optimizer=optimizer, loss='sparse_categorical_crossentropy', metrics=['accuracy'])\n",
    "    return model\n",
    "\n",
    "model = KerasClassifier(build_fn=create_model, verbose=0)"
   ]
  },
  {
   "cell_type": "code",
   "execution_count": 68,
   "id": "90dd3cba",
   "metadata": {},
   "outputs": [],
   "source": [
    "param_distributions = {\n",
    "    'hidden_layers': randint(1, 5),\n",
    "    'units': randint(16, 64),\n",
    "    'activation': ['relu', 'softmax'],\n",
    "    'optimizer': ['adam', 'sgd']\n",
    "}\n",
    "\n",
    "search = RandomizedSearchCV(model, \\\n",
    "                            param_distributions=param_distributions, \\\n",
    "                            n_iter=10, cv=3)"
   ]
  },
  {
   "cell_type": "code",
   "execution_count": 69,
   "id": "0b5cd2d1",
   "metadata": {
    "scrolled": true
   },
   "outputs": [
    {
     "data": {
      "text/plain": [
       "RandomizedSearchCV(cv=3,\n",
       "                   estimator=<tensorflow.python.keras.wrappers.scikit_learn.KerasClassifier object at 0x7fe72366d550>,\n",
       "                   param_distributions={'activation': ['relu', 'softmax'],\n",
       "                                        'hidden_layers': <scipy.stats._distn_infrastructure.rv_frozen object at 0x7fe72366d190>,\n",
       "                                        'optimizer': ['adam', 'sgd'],\n",
       "                                        'units': <scipy.stats._distn_infrastructure.rv_frozen object at 0x7fe758aa2210>})"
      ]
     },
     "execution_count": 69,
     "metadata": {},
     "output_type": "execute_result"
    }
   ],
   "source": [
    "search.fit(xtrain, ytrain, epochs=10, )"
   ]
  },
  {
   "cell_type": "code",
   "execution_count": 70,
   "id": "619c0dcd",
   "metadata": {},
   "outputs": [
    {
     "name": "stdout",
     "output_type": "stream",
     "text": [
      "Best hyperparameters: {'activation': 'relu', 'hidden_layers': 4, 'optimizer': 'adam', 'units': 55} \n",
      "\n",
      "Best score: 64.14\n"
     ]
    }
   ],
   "source": [
    "print('Best hyperparameters:', search.best_params_,'\\n')\n",
    "print('Best score:', round(search.best_score_*100,2))"
   ]
  },
  {
   "cell_type": "code",
   "execution_count": 71,
   "id": "69657ee8",
   "metadata": {},
   "outputs": [
    {
     "name": "stdout",
     "output_type": "stream",
     "text": [
      "Test score: 61.54\n"
     ]
    }
   ],
   "source": [
    "test_score = search.score(xtest, ytest)\n",
    "print('Test score:', round(test_score*100,2))"
   ]
  },
  {
   "cell_type": "code",
   "execution_count": 72,
   "id": "6f6c5790",
   "metadata": {
    "scrolled": true
   },
   "outputs": [
    {
     "data": {
      "text/plain": [
       "<tensorflow.python.keras.callbacks.History at 0x7fe733f6b250>"
      ]
     },
     "execution_count": 72,
     "metadata": {},
     "output_type": "execute_result"
    }
   ],
   "source": [
    "best_params = search.best_params_\n",
    "\n",
    "model = KerasClassifier(build_fn=create_model, verbose=0, **best_params)\n",
    "\n",
    "model.fit(xtrain, ytrain, epochs=10, )\n"
   ]
  },
  {
   "cell_type": "markdown",
   "id": "101e6e9c",
   "metadata": {},
   "source": [
    "## Hyper-Tuning using Grid Search CV"
   ]
  },
  {
   "cell_type": "code",
   "execution_count": 74,
   "id": "69625bd6",
   "metadata": {},
   "outputs": [],
   "source": [
    "def create_model(hidden_layers=2, units=32, activation='relu', optimizer='adam'):\n",
    "    model = Sequential()\n",
    "    model.add(Dense(units, input_dim=8, activation=activation))\n",
    "    for i in range(hidden_layers):\n",
    "        model.add(Dense(units, activation=activation))\n",
    "    model.add(Dense(3, activation='softmax'))\n",
    "    model.compile(optimizer=optimizer, loss='sparse_categorical_crossentropy', metrics=['accuracy'])\n",
    "    return model\n",
    "\n",
    "model = KerasClassifier(build_fn=create_model, verbose=0)"
   ]
  },
  {
   "cell_type": "code",
   "execution_count": 78,
   "id": "9e139d8c",
   "metadata": {},
   "outputs": [],
   "source": [
    "param_grid = {\n",
    "    'units': [16, 32, 64],\n",
    "    'activation': ['relu', 'softmax'],\n",
    "    'optimizer': ['adam', 'sgd']\n",
    "}\n",
    "\n",
    "search = GridSearchCV(model, \\\n",
    "                    param_grid=param_grid, \\\n",
    "                    cv=3)"
   ]
  },
  {
   "cell_type": "code",
   "execution_count": 79,
   "id": "94961f4f",
   "metadata": {},
   "outputs": [
    {
     "data": {
      "text/plain": [
       "GridSearchCV(cv=3,\n",
       "             estimator=<tensorflow.python.keras.wrappers.scikit_learn.KerasClassifier object at 0x7fe72601cbd0>,\n",
       "             param_grid={'activation': ['relu', 'softmax'],\n",
       "                         'optimizer': ['adam', 'sgd'], 'units': [16, 32, 64]})"
      ]
     },
     "execution_count": 79,
     "metadata": {},
     "output_type": "execute_result"
    }
   ],
   "source": [
    "search.fit(xtrain, ytrain, epochs= 10, )"
   ]
  },
  {
   "cell_type": "code",
   "execution_count": 80,
   "id": "802a7c3a",
   "metadata": {},
   "outputs": [
    {
     "name": "stdout",
     "output_type": "stream",
     "text": [
      "Best hyperparameters: {'activation': 'relu', 'optimizer': 'adam', 'units': 64} \n",
      "\n",
      "Best score: 64.63\n"
     ]
    }
   ],
   "source": [
    "print('Best hyperparameters:', search.best_params_,'\\n')\n",
    "print('Best score:', round(search.best_score_*100,2))"
   ]
  },
  {
   "cell_type": "code",
   "execution_count": 81,
   "id": "4dba1bb8",
   "metadata": {},
   "outputs": [
    {
     "name": "stdout",
     "output_type": "stream",
     "text": [
      "Test score: 60.44\n"
     ]
    }
   ],
   "source": [
    "test_score = search.score(xtest, ytest)\n",
    "print('Test score:', round(test_score*100,2))"
   ]
  },
  {
   "cell_type": "code",
   "execution_count": 82,
   "id": "4ce0e616",
   "metadata": {},
   "outputs": [
    {
     "data": {
      "text/plain": [
       "<tensorflow.python.keras.callbacks.History at 0x7fe75b088350>"
      ]
     },
     "execution_count": 82,
     "metadata": {},
     "output_type": "execute_result"
    }
   ],
   "source": [
    "best_params = search.best_params_\n",
    "\n",
    "model = KerasClassifier(build_fn=create_model, verbose=0, **best_params)\n",
    "\n",
    "model.fit(xtrain, ytrain, epochs=10, )\n"
   ]
  },
  {
   "cell_type": "markdown",
   "id": "2f4d6f16",
   "metadata": {},
   "source": [
    "## Regression with Multiple Layer Perceptron"
   ]
  },
  {
   "cell_type": "code",
   "execution_count": 65,
   "id": "5a7e6357",
   "metadata": {},
   "outputs": [
    {
     "data": {
      "text/html": [
       "<div>\n",
       "<style scoped>\n",
       "    .dataframe tbody tr th:only-of-type {\n",
       "        vertical-align: middle;\n",
       "    }\n",
       "\n",
       "    .dataframe tbody tr th {\n",
       "        vertical-align: top;\n",
       "    }\n",
       "\n",
       "    .dataframe thead th {\n",
       "        text-align: right;\n",
       "    }\n",
       "</style>\n",
       "<table border=\"1\" class=\"dataframe\">\n",
       "  <thead>\n",
       "    <tr style=\"text-align: right;\">\n",
       "      <th></th>\n",
       "      <th>Latitude</th>\n",
       "      <th>Longitude</th>\n",
       "      <th>Altitude</th>\n",
       "      <th>min Temo</th>\n",
       "      <th>Max Temp</th>\n",
       "      <th>Sunshine Hour</th>\n",
       "      <th>Solar Radiation</th>\n",
       "    </tr>\n",
       "  </thead>\n",
       "  <tbody>\n",
       "    <tr>\n",
       "      <th>0</th>\n",
       "      <td>34.08</td>\n",
       "      <td>74.79</td>\n",
       "      <td>1730</td>\n",
       "      <td>-0.9</td>\n",
       "      <td>4.3</td>\n",
       "      <td>0.450000</td>\n",
       "      <td>1.32</td>\n",
       "    </tr>\n",
       "    <tr>\n",
       "      <th>1</th>\n",
       "      <td>34.08</td>\n",
       "      <td>74.79</td>\n",
       "      <td>1730</td>\n",
       "      <td>1.8</td>\n",
       "      <td>8.1</td>\n",
       "      <td>0.542857</td>\n",
       "      <td>2.70</td>\n",
       "    </tr>\n",
       "    <tr>\n",
       "      <th>2</th>\n",
       "      <td>34.08</td>\n",
       "      <td>74.79</td>\n",
       "      <td>1730</td>\n",
       "      <td>5.2</td>\n",
       "      <td>12.2</td>\n",
       "      <td>0.528571</td>\n",
       "      <td>3.95</td>\n",
       "    </tr>\n",
       "    <tr>\n",
       "      <th>3</th>\n",
       "      <td>34.08</td>\n",
       "      <td>74.79</td>\n",
       "      <td>1730</td>\n",
       "      <td>9.2</td>\n",
       "      <td>18.5</td>\n",
       "      <td>0.650000</td>\n",
       "      <td>5.06</td>\n",
       "    </tr>\n",
       "    <tr>\n",
       "      <th>4</th>\n",
       "      <td>34.08</td>\n",
       "      <td>74.79</td>\n",
       "      <td>1730</td>\n",
       "      <td>12.6</td>\n",
       "      <td>22.6</td>\n",
       "      <td>0.692857</td>\n",
       "      <td>5.62</td>\n",
       "    </tr>\n",
       "  </tbody>\n",
       "</table>\n",
       "</div>"
      ],
      "text/plain": [
       "   Latitude  Longitude  Altitude  min Temo  Max Temp  Sunshine Hour  \\\n",
       "0     34.08      74.79      1730      -0.9       4.3       0.450000   \n",
       "1     34.08      74.79      1730       1.8       8.1       0.542857   \n",
       "2     34.08      74.79      1730       5.2      12.2       0.528571   \n",
       "3     34.08      74.79      1730       9.2      18.5       0.650000   \n",
       "4     34.08      74.79      1730      12.6      22.6       0.692857   \n",
       "\n",
       "   Solar Radiation  \n",
       "0             1.32  \n",
       "1             2.70  \n",
       "2             3.95  \n",
       "3             5.06  \n",
       "4             5.62  "
      ]
     },
     "execution_count": 65,
     "metadata": {},
     "output_type": "execute_result"
    }
   ],
   "source": [
    "df = pd.read_csv('../Datasets/Solar.csv')\n",
    "df.head()"
   ]
  },
  {
   "cell_type": "code",
   "execution_count": 66,
   "id": "85f056fd",
   "metadata": {},
   "outputs": [],
   "source": [
    "df.Latitude.fillna(df.Latitude.mean(), inplace=True)\n",
    "df['min Temo'].fillna(df['min Temo'].mean(), inplace=True)\n",
    "\n",
    "x = df.iloc[:,:-1]\n",
    "y = df.iloc[:,-1:].values\n",
    "\n",
    "scalar = MinMaxScaler()\n",
    "x = scalar.fit_transform(x)"
   ]
  },
  {
   "cell_type": "code",
   "execution_count": 71,
   "id": "5733f8fd",
   "metadata": {},
   "outputs": [
    {
     "data": {
      "text/plain": [
       "(182, 6)"
      ]
     },
     "execution_count": 71,
     "metadata": {},
     "output_type": "execute_result"
    }
   ],
   "source": [
    "np.shape(xtrain)"
   ]
  },
  {
   "cell_type": "code",
   "execution_count": 67,
   "id": "13ab1d9b",
   "metadata": {},
   "outputs": [],
   "source": [
    "xtrain, xtest, ytrain, ytest = train_test_split(x,y, test_size=0.2, shuffle=True, random_state=0)"
   ]
  },
  {
   "cell_type": "code",
   "execution_count": 80,
   "id": "1d58a6ec",
   "metadata": {},
   "outputs": [
    {
     "name": "stdout",
     "output_type": "stream",
     "text": [
      "Model: \"sequential_6\"\n",
      "_________________________________________________________________\n",
      "Layer (type)                 Output Shape              Param #   \n",
      "=================================================================\n",
      "dense_24 (Dense)             (None, 128)               896       \n",
      "_________________________________________________________________\n",
      "dense_25 (Dense)             (None, 64)                8256      \n",
      "_________________________________________________________________\n",
      "dense_26 (Dense)             (None, 32)                2080      \n",
      "_________________________________________________________________\n",
      "dense_27 (Dense)             (None, 1)                 33        \n",
      "=================================================================\n",
      "Total params: 11,265\n",
      "Trainable params: 11,265\n",
      "Non-trainable params: 0\n",
      "_________________________________________________________________\n"
     ]
    }
   ],
   "source": [
    "model = Sequential()\n",
    "model.add(Dense(128, activation='relu',input_shape=(6,)))\n",
    "model.add(Dense(64, activation='relu'))\n",
    "model.add(Dense(32, activation='relu'))\n",
    "model.add(Dense(1, activation='linear'))\n",
    "\n",
    "model.summary()"
   ]
  },
  {
   "cell_type": "code",
   "execution_count": 81,
   "id": "32f679de",
   "metadata": {},
   "outputs": [],
   "source": [
    "model.compile(optimizer=Adam(learning_rate=0.01), loss='mean_squared_error', metrics=['mean_squared_error'])"
   ]
  },
  {
   "cell_type": "code",
   "execution_count": 82,
   "id": "071cee53",
   "metadata": {},
   "outputs": [
    {
     "name": "stdout",
     "output_type": "stream",
     "text": [
      "Train on 182 samples\n",
      "Epoch 1/100\n",
      "182/182 [==============================] - 1s 3ms/sample - loss: 18.6069 - mean_squared_error: 18.6069\n",
      "Epoch 2/100\n",
      "182/182 [==============================] - 0s 121us/sample - loss: 3.3604 - mean_squared_error: 3.3604\n",
      "Epoch 3/100\n",
      "182/182 [==============================] - 0s 124us/sample - loss: 2.0352 - mean_squared_error: 2.0352\n",
      "Epoch 4/100\n",
      "182/182 [==============================] - 0s 116us/sample - loss: 1.2187 - mean_squared_error: 1.2187\n",
      "Epoch 5/100\n",
      "182/182 [==============================] - 0s 112us/sample - loss: 0.9407 - mean_squared_error: 0.9407\n",
      "Epoch 6/100\n",
      "182/182 [==============================] - 0s 232us/sample - loss: 0.7869 - mean_squared_error: 0.7869\n",
      "Epoch 7/100\n",
      "182/182 [==============================] - 0s 133us/sample - loss: 0.6869 - mean_squared_error: 0.6869\n",
      "Epoch 8/100\n",
      "182/182 [==============================] - 0s 126us/sample - loss: 0.6188 - mean_squared_error: 0.6188\n",
      "Epoch 9/100\n",
      "182/182 [==============================] - 0s 119us/sample - loss: 0.5560 - mean_squared_error: 0.5560\n",
      "Epoch 10/100\n",
      "182/182 [==============================] - 0s 110us/sample - loss: 0.5119 - mean_squared_error: 0.5119\n",
      "Epoch 11/100\n",
      "182/182 [==============================] - 0s 126us/sample - loss: 0.5059 - mean_squared_error: 0.5059\n",
      "Epoch 12/100\n",
      "182/182 [==============================] - 0s 120us/sample - loss: 0.4898 - mean_squared_error: 0.4898\n",
      "Epoch 13/100\n",
      "182/182 [==============================] - 0s 114us/sample - loss: 0.4781 - mean_squared_error: 0.4781\n",
      "Epoch 14/100\n",
      "182/182 [==============================] - 0s 132us/sample - loss: 0.4860 - mean_squared_error: 0.4860\n",
      "Epoch 15/100\n",
      "182/182 [==============================] - 0s 118us/sample - loss: 0.4803 - mean_squared_error: 0.4803\n",
      "Epoch 16/100\n",
      "182/182 [==============================] - 0s 186us/sample - loss: 0.4797 - mean_squared_error: 0.4797\n",
      "Epoch 17/100\n",
      "182/182 [==============================] - 0s 132us/sample - loss: 0.4731 - mean_squared_error: 0.4731\n",
      "Epoch 18/100\n",
      "182/182 [==============================] - 0s 121us/sample - loss: 0.4366 - mean_squared_error: 0.4366\n",
      "Epoch 19/100\n",
      "182/182 [==============================] - 0s 122us/sample - loss: 0.4432 - mean_squared_error: 0.4432\n",
      "Epoch 20/100\n",
      "182/182 [==============================] - 0s 113us/sample - loss: 0.4387 - mean_squared_error: 0.4387\n",
      "Epoch 21/100\n",
      "182/182 [==============================] - 0s 157us/sample - loss: 0.4233 - mean_squared_error: 0.4233\n",
      "Epoch 22/100\n",
      "182/182 [==============================] - 0s 126us/sample - loss: 0.4220 - mean_squared_error: 0.4220\n",
      "Epoch 23/100\n",
      "182/182 [==============================] - 0s 127us/sample - loss: 0.4203 - mean_squared_error: 0.4203\n",
      "Epoch 24/100\n",
      "182/182 [==============================] - 0s 118us/sample - loss: 0.4240 - mean_squared_error: 0.4240\n",
      "Epoch 25/100\n",
      "182/182 [==============================] - 0s 121us/sample - loss: 0.4137 - mean_squared_error: 0.4137\n",
      "Epoch 26/100\n",
      "182/182 [==============================] - 0s 123us/sample - loss: 0.4066 - mean_squared_error: 0.4066\n",
      "Epoch 27/100\n",
      "182/182 [==============================] - 0s 110us/sample - loss: 0.3932 - mean_squared_error: 0.3932\n",
      "Epoch 28/100\n",
      "182/182 [==============================] - 0s 120us/sample - loss: 0.3909 - mean_squared_error: 0.3909\n",
      "Epoch 29/100\n",
      "182/182 [==============================] - 0s 128us/sample - loss: 0.3809 - mean_squared_error: 0.3809\n",
      "Epoch 30/100\n",
      "182/182 [==============================] - 0s 111us/sample - loss: 0.3847 - mean_squared_error: 0.3847\n",
      "Epoch 31/100\n",
      "182/182 [==============================] - 0s 209us/sample - loss: 0.3780 - mean_squared_error: 0.3780\n",
      "Epoch 32/100\n",
      "182/182 [==============================] - 0s 135us/sample - loss: 0.3785 - mean_squared_error: 0.3785\n",
      "Epoch 33/100\n",
      "182/182 [==============================] - 0s 130us/sample - loss: 0.3783 - mean_squared_error: 0.3783\n",
      "Epoch 34/100\n",
      "182/182 [==============================] - 0s 117us/sample - loss: 0.4054 - mean_squared_error: 0.4054\n",
      "Epoch 35/100\n",
      "182/182 [==============================] - 0s 109us/sample - loss: 0.3830 - mean_squared_error: 0.3830\n",
      "Epoch 36/100\n",
      "182/182 [==============================] - 0s 115us/sample - loss: 0.3829 - mean_squared_error: 0.3829\n",
      "Epoch 37/100\n",
      "182/182 [==============================] - 0s 107us/sample - loss: 0.4180 - mean_squared_error: 0.4180\n",
      "Epoch 38/100\n",
      "182/182 [==============================] - 0s 115us/sample - loss: 0.3540 - mean_squared_error: 0.3540\n",
      "Epoch 39/100\n",
      "182/182 [==============================] - 0s 127us/sample - loss: 0.3624 - mean_squared_error: 0.3624\n",
      "Epoch 40/100\n",
      "182/182 [==============================] - 0s 114us/sample - loss: 0.3665 - mean_squared_error: 0.3665\n",
      "Epoch 41/100\n",
      "182/182 [==============================] - 0s 127us/sample - loss: 0.3919 - mean_squared_error: 0.3919\n",
      "Epoch 42/100\n",
      "182/182 [==============================] - 0s 116us/sample - loss: 0.4136 - mean_squared_error: 0.4136\n",
      "Epoch 43/100\n",
      "182/182 [==============================] - 0s 119us/sample - loss: 0.3669 - mean_squared_error: 0.3669\n",
      "Epoch 44/100\n",
      "182/182 [==============================] - 0s 122us/sample - loss: 0.3572 - mean_squared_error: 0.3572\n",
      "Epoch 45/100\n",
      "182/182 [==============================] - 0s 120us/sample - loss: 0.3720 - mean_squared_error: 0.3720\n",
      "Epoch 46/100\n",
      "182/182 [==============================] - 0s 121us/sample - loss: 0.3533 - mean_squared_error: 0.3533\n",
      "Epoch 47/100\n",
      "182/182 [==============================] - 0s 110us/sample - loss: 0.3276 - mean_squared_error: 0.3276\n",
      "Epoch 48/100\n",
      "182/182 [==============================] - 0s 116us/sample - loss: 0.3383 - mean_squared_error: 0.3383\n",
      "Epoch 49/100\n",
      "182/182 [==============================] - 0s 120us/sample - loss: 0.4108 - mean_squared_error: 0.4108\n",
      "Epoch 50/100\n",
      "182/182 [==============================] - 0s 122us/sample - loss: 0.3480 - mean_squared_error: 0.3480\n",
      "Epoch 51/100\n",
      "182/182 [==============================] - 0s 128us/sample - loss: 0.3344 - mean_squared_error: 0.3344\n",
      "Epoch 52/100\n",
      "182/182 [==============================] - 0s 133us/sample - loss: 0.3368 - mean_squared_error: 0.3368\n",
      "Epoch 53/100\n",
      "182/182 [==============================] - 0s 134us/sample - loss: 0.3696 - mean_squared_error: 0.3696\n",
      "Epoch 54/100\n",
      "182/182 [==============================] - 0s 141us/sample - loss: 0.4009 - mean_squared_error: 0.4009\n",
      "Epoch 55/100\n",
      "182/182 [==============================] - 0s 155us/sample - loss: 0.3372 - mean_squared_error: 0.3372\n",
      "Epoch 56/100\n",
      "182/182 [==============================] - 0s 154us/sample - loss: 0.3424 - mean_squared_error: 0.3424\n",
      "Epoch 57/100\n",
      "182/182 [==============================] - 0s 148us/sample - loss: 0.3169 - mean_squared_error: 0.3169\n",
      "Epoch 58/100\n",
      "182/182 [==============================] - 0s 156us/sample - loss: 0.3264 - mean_squared_error: 0.3264\n",
      "Epoch 59/100\n",
      "182/182 [==============================] - 0s 160us/sample - loss: 0.3495 - mean_squared_error: 0.3495\n",
      "Epoch 60/100\n",
      "182/182 [==============================] - 0s 143us/sample - loss: 0.3315 - mean_squared_error: 0.3315\n",
      "Epoch 61/100\n",
      "182/182 [==============================] - 0s 145us/sample - loss: 0.3371 - mean_squared_error: 0.3371\n",
      "Epoch 62/100\n",
      "182/182 [==============================] - 0s 140us/sample - loss: 0.3338 - mean_squared_error: 0.3338\n",
      "Epoch 63/100\n",
      "182/182 [==============================] - 0s 137us/sample - loss: 0.3338 - mean_squared_error: 0.3338\n",
      "Epoch 64/100\n",
      "182/182 [==============================] - 0s 140us/sample - loss: 0.3420 - mean_squared_error: 0.3420\n",
      "Epoch 65/100\n",
      "182/182 [==============================] - 0s 142us/sample - loss: 0.3210 - mean_squared_error: 0.3210\n",
      "Epoch 66/100\n",
      "182/182 [==============================] - 0s 125us/sample - loss: 0.3750 - mean_squared_error: 0.3750\n",
      "Epoch 67/100\n",
      "182/182 [==============================] - 0s 129us/sample - loss: 0.3450 - mean_squared_error: 0.3450\n",
      "Epoch 68/100\n",
      "182/182 [==============================] - 0s 125us/sample - loss: 0.3193 - mean_squared_error: 0.3193\n",
      "Epoch 69/100\n",
      "182/182 [==============================] - 0s 121us/sample - loss: 0.3070 - mean_squared_error: 0.3070\n",
      "Epoch 70/100\n",
      "182/182 [==============================] - 0s 124us/sample - loss: 0.3085 - mean_squared_error: 0.3085\n",
      "Epoch 71/100\n",
      "182/182 [==============================] - 0s 131us/sample - loss: 0.3184 - mean_squared_error: 0.3184\n",
      "Epoch 72/100\n",
      "182/182 [==============================] - 0s 128us/sample - loss: 0.3819 - mean_squared_error: 0.3819\n",
      "Epoch 73/100\n",
      "182/182 [==============================] - 0s 128us/sample - loss: 0.3234 - mean_squared_error: 0.3234\n",
      "Epoch 74/100\n",
      "182/182 [==============================] - 0s 136us/sample - loss: 0.2994 - mean_squared_error: 0.2994\n",
      "Epoch 75/100\n",
      "182/182 [==============================] - 0s 137us/sample - loss: 0.3359 - mean_squared_error: 0.3359\n",
      "Epoch 76/100\n",
      "182/182 [==============================] - 0s 133us/sample - loss: 0.3246 - mean_squared_error: 0.3246\n",
      "Epoch 77/100\n",
      "182/182 [==============================] - 0s 133us/sample - loss: 0.3329 - mean_squared_error: 0.3329\n",
      "Epoch 78/100\n",
      "182/182 [==============================] - 0s 125us/sample - loss: 0.4331 - mean_squared_error: 0.4331\n",
      "Epoch 79/100\n",
      "182/182 [==============================] - 0s 138us/sample - loss: 0.4113 - mean_squared_error: 0.4113\n",
      "Epoch 80/100\n",
      "182/182 [==============================] - 0s 129us/sample - loss: 0.4347 - mean_squared_error: 0.4347\n",
      "Epoch 81/100\n",
      "182/182 [==============================] - 0s 131us/sample - loss: 0.5059 - mean_squared_error: 0.5059\n",
      "Epoch 82/100\n",
      "182/182 [==============================] - 0s 125us/sample - loss: 0.3869 - mean_squared_error: 0.3869\n",
      "Epoch 83/100\n",
      "182/182 [==============================] - 0s 136us/sample - loss: 0.3056 - mean_squared_error: 0.3056\n",
      "Epoch 84/100\n",
      "182/182 [==============================] - 0s 130us/sample - loss: 0.3138 - mean_squared_error: 0.3138\n",
      "Epoch 85/100\n",
      "182/182 [==============================] - 0s 133us/sample - loss: 0.3323 - mean_squared_error: 0.3323\n",
      "Epoch 86/100\n",
      "182/182 [==============================] - 0s 128us/sample - loss: 0.3723 - mean_squared_error: 0.3723\n",
      "Epoch 87/100\n",
      "182/182 [==============================] - 0s 130us/sample - loss: 0.4045 - mean_squared_error: 0.4045\n",
      "Epoch 88/100\n",
      "182/182 [==============================] - 0s 129us/sample - loss: 0.3135 - mean_squared_error: 0.3135\n",
      "Epoch 89/100\n",
      "182/182 [==============================] - 0s 125us/sample - loss: 0.3328 - mean_squared_error: 0.3328\n",
      "Epoch 90/100\n",
      "182/182 [==============================] - 0s 123us/sample - loss: 0.3044 - mean_squared_error: 0.3044\n",
      "Epoch 91/100\n",
      "182/182 [==============================] - 0s 133us/sample - loss: 0.3089 - mean_squared_error: 0.3089\n",
      "Epoch 92/100\n",
      "182/182 [==============================] - 0s 125us/sample - loss: 0.3286 - mean_squared_error: 0.3286\n",
      "Epoch 93/100\n",
      "182/182 [==============================] - 0s 126us/sample - loss: 0.3376 - mean_squared_error: 0.3376\n",
      "Epoch 94/100\n",
      "182/182 [==============================] - 0s 142us/sample - loss: 0.4129 - mean_squared_error: 0.4129\n",
      "Epoch 95/100\n",
      "182/182 [==============================] - 0s 141us/sample - loss: 0.3556 - mean_squared_error: 0.3556\n",
      "Epoch 96/100\n",
      "182/182 [==============================] - 0s 136us/sample - loss: 0.3717 - mean_squared_error: 0.3717\n",
      "Epoch 97/100\n",
      "182/182 [==============================] - 0s 136us/sample - loss: 0.4282 - mean_squared_error: 0.4282\n",
      "Epoch 98/100\n",
      "182/182 [==============================] - 0s 142us/sample - loss: 0.3434 - mean_squared_error: 0.3434\n",
      "Epoch 99/100\n",
      "182/182 [==============================] - 0s 138us/sample - loss: 0.3659 - mean_squared_error: 0.3659\n",
      "Epoch 100/100\n",
      "182/182 [==============================] - 0s 124us/sample - loss: 0.4386 - mean_squared_error: 0.4386\n"
     ]
    }
   ],
   "source": [
    "history = model.fit(xtrain, ytrain, epochs=100, )"
   ]
  },
  {
   "cell_type": "code",
   "execution_count": 88,
   "id": "7ad611f4",
   "metadata": {},
   "outputs": [
    {
     "name": "stdout",
     "output_type": "stream",
     "text": [
      "\n",
      "\n",
      "Loss: 0.38937118779058044, Accuracy: 0.38937121629714966\n"
     ]
    }
   ],
   "source": [
    "# Evaluating the model \n",
    "\n",
    "loss, mse = model.evaluate(xtest, ytest, verbose = 0)\n",
    "print(f'\\n\\nLoss: {loss}, Accuracy: {mse}')"
   ]
  },
  {
   "cell_type": "code",
   "execution_count": 84,
   "id": "77803413",
   "metadata": {},
   "outputs": [
    {
     "name": "stdout",
     "output_type": "stream",
     "text": [
      "[array([[ 2.92811524e-02,  2.64259218e-03, -8.92652199e-02,\n",
      "         5.28422669e-02, -2.38479912e-01, -1.30696803e-01,\n",
      "        -2.19416112e-01, -1.38516560e-01, -1.40825570e-01,\n",
      "         3.85763794e-02,  1.56191885e-02, -2.73742005e-02,\n",
      "        -2.68015172e-02, -2.15248629e-01, -5.60384281e-02,\n",
      "        -6.78850412e-02, -1.63721874e-01,  1.49110407e-01,\n",
      "        -3.38856429e-02, -3.06624532e-01,  8.92071426e-03,\n",
      "         8.24095383e-02, -6.81377947e-02, -8.33252966e-02,\n",
      "        -8.66812989e-02,  8.20030347e-02,  9.99397039e-02,\n",
      "        -2.32921422e-01,  1.33238211e-01,  5.59305958e-02,\n",
      "        -5.35943061e-02,  1.19879499e-01,  9.51106548e-02,\n",
      "         2.08821278e-02, -3.77640761e-02, -6.58302754e-02,\n",
      "        -2.53193051e-01,  8.51182044e-02,  6.16950542e-02,\n",
      "         8.16186816e-02,  1.22321077e-01, -1.40797496e-01,\n",
      "        -2.23491743e-01,  4.08746209e-03,  9.28239971e-02,\n",
      "        -1.29531831e-01, -1.55238405e-01,  1.72084048e-01,\n",
      "         1.02598689e-01, -5.90535849e-02, -2.97018290e-02,\n",
      "         1.47162989e-01,  3.87432203e-02, -1.05309956e-01,\n",
      "        -4.44583520e-02,  2.75117997e-03, -2.36713678e-01,\n",
      "        -1.79843366e-01, -4.79820222e-02, -2.84619629e-02,\n",
      "        -9.02624205e-02,  1.88937351e-01, -1.14866763e-01,\n",
      "        -1.20027989e-01, -1.38159513e-01, -4.24687155e-02,\n",
      "        -1.13390513e-01, -8.69349390e-03, -2.33590022e-01,\n",
      "        -8.89816433e-02,  2.05868818e-02, -3.00230086e-01,\n",
      "        -8.21000412e-02, -1.93058074e-01,  1.52437046e-01,\n",
      "         6.62081596e-03, -1.52633358e-02,  1.47252038e-01,\n",
      "        -6.21049516e-02,  1.10803179e-01,  6.16601557e-02,\n",
      "        -2.69461602e-01,  1.28152028e-01, -1.30618647e-01,\n",
      "        -2.61430919e-01, -2.09472775e-01, -1.97853625e-01,\n",
      "         1.34066314e-01,  2.08254799e-01, -2.31756091e-01,\n",
      "         1.72462612e-02, -2.76104789e-02, -1.03896946e-01,\n",
      "        -9.53318104e-02,  1.21364370e-01, -1.40986457e-01,\n",
      "         9.99308750e-02, -2.97681484e-02,  1.74806818e-01,\n",
      "        -5.75524867e-02, -7.06382841e-02, -2.41503622e-02,\n",
      "        -5.01262397e-03, -1.44227177e-01,  2.71812826e-02,\n",
      "         2.05584764e-01, -1.80462927e-01, -1.70115441e-01,\n",
      "        -1.66851431e-01, -5.79662807e-02, -8.36269781e-02,\n",
      "        -1.08767457e-01, -4.16167080e-02, -1.39287725e-01,\n",
      "        -1.39015749e-01,  8.71226937e-03, -8.76388103e-02,\n",
      "         1.29819736e-01,  4.04212326e-02, -2.14877203e-01,\n",
      "         2.36008000e-02, -9.00517106e-02, -2.54914045e-01,\n",
      "        -1.10589199e-01, -1.68226466e-01,  1.07105881e-01,\n",
      "        -1.21358380e-01, -5.59853874e-02],\n",
      "       [-6.05049776e-03, -2.86142528e-01, -2.54135460e-01,\n",
      "         1.44499108e-01,  1.39980942e-01,  2.94721108e-02,\n",
      "        -8.05865824e-02,  1.85032174e-01,  3.85237001e-02,\n",
      "        -1.62067741e-01, -1.34755939e-01,  1.14222907e-01,\n",
      "         1.21574923e-01,  6.40197918e-02,  1.29174799e-01,\n",
      "         1.44558668e-01,  6.53526708e-02, -2.23522410e-01,\n",
      "         1.16569638e-01,  8.64394978e-02,  6.14720620e-02,\n",
      "        -1.44685041e-02, -1.02338076e-01, -1.81038409e-01,\n",
      "        -3.49349827e-02,  1.22166783e-01,  5.92395425e-01,\n",
      "        -8.78123268e-02,  1.49978027e-01, -1.89951077e-01,\n",
      "         9.17392820e-02,  1.37224719e-01, -2.01202899e-01,\n",
      "        -8.00910592e-02, -1.19780771e-01, -1.06117509e-01,\n",
      "         3.49657573e-02,  1.64061815e-01, -2.05323189e-01,\n",
      "         1.56936958e-01, -1.27484590e-01, -2.27771327e-02,\n",
      "         7.09017441e-02, -1.68794200e-01, -1.98394552e-01,\n",
      "         3.05274446e-02, -3.28054912e-02, -3.65236819e-01,\n",
      "        -4.04708944e-02, -1.06547095e-01,  5.77125996e-02,\n",
      "         1.64769188e-01, -1.71389237e-01, -8.07193369e-02,\n",
      "         8.39620307e-02,  2.82142073e-01,  4.39450480e-02,\n",
      "         1.51535884e-01, -9.28630158e-02, -6.84262365e-02,\n",
      "        -1.08235516e-01, -1.60459235e-01,  2.37277329e-01,\n",
      "        -7.97327161e-02, -4.55771666e-03,  1.28119484e-01,\n",
      "        -5.49235307e-02,  1.35165364e-01,  1.71524417e-02,\n",
      "        -1.41620962e-02, -1.40306935e-01,  7.50313997e-02,\n",
      "        -3.64542007e-01, -1.24701271e-02, -7.87583590e-02,\n",
      "        -1.67987108e-01,  1.41840637e-01, -4.61862460e-02,\n",
      "        -1.95849076e-01,  7.26330802e-02, -8.83173496e-02,\n",
      "        -1.72443360e-01, -2.25464150e-01,  1.14015669e-01,\n",
      "        -5.96114481e-03,  1.10447243e-01, -1.79239109e-01,\n",
      "        -2.15111449e-01, -7.48036653e-02,  6.80933893e-02,\n",
      "         1.13780797e-03, -8.43876153e-02, -7.51401931e-02,\n",
      "         2.13116750e-01, -2.01217383e-01,  1.64905056e-01,\n",
      "        -3.16178426e-03, -1.22358270e-01, -9.81072895e-04,\n",
      "        -6.50898516e-02, -4.34229150e-02,  2.24152468e-02,\n",
      "         1.78895220e-02, -4.48699445e-02, -3.11329067e-02,\n",
      "        -1.52157888e-01,  1.51938096e-01,  8.51136744e-02,\n",
      "         1.37522176e-01,  3.50921750e-02,  3.07221077e-02,\n",
      "         9.68511850e-02, -1.83893785e-01, -2.30548576e-01,\n",
      "         1.34668332e-02,  1.25066742e-01, -1.84080601e-01,\n",
      "        -2.00789720e-01, -1.86264649e-01, -1.90920368e-01,\n",
      "         1.49613753e-01, -1.33167833e-01,  1.45927206e-01,\n",
      "        -9.33969840e-02, -1.82282820e-01, -2.53299296e-01,\n",
      "         2.91206986e-02,  1.76566318e-01],\n",
      "       [-7.79545233e-02, -3.11000466e-01,  8.63720104e-02,\n",
      "        -2.30268583e-01,  1.66485216e-02,  1.78066462e-01,\n",
      "        -2.37621248e-01,  8.36063921e-02,  7.07862526e-02,\n",
      "        -5.53454906e-02, -7.48959556e-03,  4.75632399e-02,\n",
      "        -1.61671355e-01,  2.17567995e-01,  8.11174959e-02,\n",
      "        -3.98236932e-03, -1.79409087e-01,  1.50991455e-01,\n",
      "         1.13129966e-01, -2.49763906e-01, -1.31052747e-01,\n",
      "         1.26989111e-01, -1.21340146e-02, -8.03391486e-02,\n",
      "         3.54428589e-03, -4.05165702e-02,  2.67830212e-02,\n",
      "        -2.38494441e-01, -7.11978301e-02, -1.87068686e-01,\n",
      "        -1.08873054e-01,  9.06232968e-02,  1.56388566e-01,\n",
      "         4.24223728e-02, -3.81968357e-02,  1.63315311e-01,\n",
      "         9.28155407e-02,  1.44276127e-01, -1.81485802e-01,\n",
      "         1.60503462e-02,  3.11375316e-02, -1.99007377e-01,\n",
      "        -8.94486383e-02, -8.85605067e-02, -2.47267351e-01,\n",
      "        -1.99975714e-01,  5.43553084e-02,  7.91139305e-02,\n",
      "         1.10359557e-01, -1.10906854e-01, -9.41210985e-02,\n",
      "         1.34530589e-01, -6.23778254e-02, -1.07155979e-01,\n",
      "        -6.87651783e-02,  3.79456542e-02,  5.65980151e-02,\n",
      "        -2.02026322e-01, -2.80414075e-02,  2.52848994e-02,\n",
      "         1.67621091e-01, -2.57980049e-01,  4.91219088e-02,\n",
      "         1.68743744e-01,  9.15501267e-02, -1.35278657e-01,\n",
      "         2.23836675e-01, -2.81541720e-02, -4.19795096e-01,\n",
      "        -2.34993845e-01, -1.29260123e-01, -4.79662865e-02,\n",
      "        -2.85705496e-02, -5.14004417e-02,  1.60950586e-01,\n",
      "         6.70234188e-02, -2.98538730e-02,  1.62057802e-01,\n",
      "         1.15080751e-01,  9.17184427e-02,  7.61683239e-03,\n",
      "        -2.60353088e-01, -2.86100041e-02, -1.04798347e-01,\n",
      "         6.50199875e-02, -1.66465044e-01, -9.14109871e-02,\n",
      "         9.05981213e-02,  1.98220000e-01,  1.18749533e-02,\n",
      "        -1.94121912e-01, -3.73138525e-02, -2.09276617e-01,\n",
      "        -3.61544080e-02, -3.65881249e-02, -5.32990731e-02,\n",
      "         1.41293615e-01,  1.80084571e-01,  2.90132854e-02,\n",
      "        -1.13533899e-01, -2.96047121e-01, -2.66179647e-02,\n",
      "        -2.52721887e-02,  5.30417711e-02, -7.70405531e-02,\n",
      "        -7.24241957e-02,  1.36126414e-01, -3.11881423e-01,\n",
      "        -2.18255430e-01, -3.02288055e-01, -3.53924669e-02,\n",
      "         9.65126157e-02,  3.82607132e-02, -1.20965101e-01,\n",
      "        -5.00000976e-02,  2.37605534e-02, -9.45520848e-02,\n",
      "        -1.19994106e-02, -1.47052288e-01, -2.49233022e-01,\n",
      "         8.74933079e-02,  4.83950764e-01, -2.28866011e-01,\n",
      "         9.74896997e-02,  1.74010769e-01, -1.83167487e-01,\n",
      "        -1.91823199e-01, -1.03066161e-01],\n",
      "       [-1.05384715e-01,  9.33445152e-03,  1.04667731e-01,\n",
      "        -1.07954666e-01, -5.87626658e-02,  1.04936980e-01,\n",
      "         9.03415754e-02, -3.77004147e-02, -3.25214900e-02,\n",
      "        -1.56483456e-01,  1.78420693e-01,  1.77878708e-01,\n",
      "        -1.85104877e-01,  5.30816317e-02,  9.93417352e-02,\n",
      "        -3.43481116e-02,  5.78082874e-02,  1.48188593e-02,\n",
      "         8.21552202e-02, -1.74971782e-02, -1.03310369e-01,\n",
      "        -8.62704962e-02, -2.43569613e-01, -1.31984353e-01,\n",
      "        -1.17889069e-01,  2.11920053e-01, -2.65273452e-01,\n",
      "         9.04594287e-02, -1.41394526e-01, -7.62363002e-02,\n",
      "        -1.47901669e-01, -5.10844169e-04,  1.76818401e-01,\n",
      "        -1.96656123e-01, -2.01357633e-01, -1.53704938e-02,\n",
      "        -1.04698770e-01,  1.09428853e-01, -1.15837559e-01,\n",
      "         1.89009622e-01,  5.51126935e-02, -7.19567155e-03,\n",
      "        -1.08536370e-01,  1.02363169e-01, -2.57851109e-02,\n",
      "        -1.72910810e-01,  6.32268712e-02,  9.90628526e-02,\n",
      "        -2.60896474e-01, -5.43386489e-02, -1.46796852e-01,\n",
      "         1.09734334e-01,  1.29812315e-01,  1.07157633e-01,\n",
      "        -6.04014061e-02, -1.55682832e-01, -1.38872623e-01,\n",
      "        -2.07062885e-01, -1.47907734e-01, -3.71095026e-03,\n",
      "         2.27384910e-01, -1.50752902e-01,  1.46061808e-01,\n",
      "        -4.08586860e-02,  1.74368083e-01, -1.65041074e-01,\n",
      "         5.09339161e-02,  8.09777826e-02,  1.59185246e-01,\n",
      "         5.97599223e-02, -1.51520669e-01, -1.04300350e-01,\n",
      "         3.46569628e-01,  6.10337406e-02, -6.93230480e-02,\n",
      "         9.98387188e-02, -5.77105731e-02, -1.01512134e+00,\n",
      "         3.67159769e-02, -1.77842304e-01,  3.49853896e-02,\n",
      "         9.20458362e-02,  1.13063090e-01, -2.12251201e-01,\n",
      "        -1.25755265e-01,  1.00837320e-01,  7.74387792e-02,\n",
      "        -6.66316822e-02, -1.97084956e-02, -1.26647010e-01,\n",
      "        -1.98937640e-01, -4.53369170e-02, -1.34062350e-01,\n",
      "        -3.75411958e-02,  1.16854504e-01, -1.31233573e-01,\n",
      "         1.14876486e-01,  6.51740953e-02,  1.91746220e-01,\n",
      "        -9.64727327e-02,  6.90942034e-02,  2.53350317e-01,\n",
      "        -2.85452962e-01, -1.89734861e-01, -1.17625616e-01,\n",
      "        -2.90158838e-01,  1.10755906e-01,  3.76534984e-02,\n",
      "        -2.50563920e-01, -1.72461078e-01, -2.44219959e-01,\n",
      "        -3.62567641e-02, -1.77275687e-02,  7.82074966e-03,\n",
      "        -1.75441504e-01, -8.53569508e-02, -1.97629541e-01,\n",
      "         2.76423190e-02, -5.53568453e-02, -1.15290605e-01,\n",
      "         1.06057219e-01, -1.46179855e-01,  2.71671060e-02,\n",
      "         1.13654889e-01, -3.32500995e-03, -9.55169722e-02,\n",
      "        -1.97828591e-01, -1.69298396e-01],\n",
      "       [-1.43606246e-01, -9.85328183e-02, -1.43636584e-01,\n",
      "        -2.66471684e-01, -1.84057757e-01,  4.43113625e-01,\n",
      "        -5.89737631e-02,  3.06464583e-01, -2.23872796e-01,\n",
      "         3.07718813e-02,  2.67340571e-01, -2.19314381e-01,\n",
      "        -1.89520255e-01,  3.08932096e-01,  2.42904797e-01,\n",
      "         5.66424988e-02, -2.39909351e-01,  1.83759794e-01,\n",
      "         3.92322689e-01,  3.99031281e-01, -1.36774421e-01,\n",
      "        -2.03288756e-02, -8.31465721e-02, -5.31162471e-02,\n",
      "        -2.82060355e-02,  6.24312740e-03, -2.69460022e-01,\n",
      "        -1.93849385e-01,  4.02466089e-01, -3.96370590e-02,\n",
      "        -6.06784374e-02, -4.23417613e-02,  2.65115172e-01,\n",
      "        -1.17530793e-01, -1.81371152e-01,  3.68741393e-01,\n",
      "        -9.11399797e-02, -2.39050165e-01, -6.05478734e-02,\n",
      "         8.72395784e-02,  1.01430230e-01,  4.69655171e-02,\n",
      "        -1.09446332e-01, -1.46430433e-01, -2.17935294e-01,\n",
      "         2.09109001e-02, -2.18164608e-01, -1.46942541e-01,\n",
      "         4.58596557e-01,  2.42073387e-02, -5.78594208e-02,\n",
      "         3.23536485e-01,  1.60590753e-01, -1.41195163e-01,\n",
      "         2.07199603e-01, -2.98626348e-02,  2.50549931e-02,\n",
      "        -6.21906575e-03, -6.70326352e-02,  2.63177544e-01,\n",
      "        -1.11228593e-01,  6.50344566e-02, -1.51383162e-01,\n",
      "         3.29890937e-01,  1.63930282e-01,  3.77209514e-01,\n",
      "         3.57404977e-01,  2.81098187e-01,  2.32489154e-01,\n",
      "        -4.03531119e-02,  3.44700545e-01,  1.57024283e-02,\n",
      "        -2.49201834e-01, -1.10480949e-01,  4.02776599e-01,\n",
      "         2.87688255e-01,  3.77813280e-01, -1.90087572e-01,\n",
      "         3.40693265e-01,  2.08417267e-01,  2.76167523e-02,\n",
      "        -1.45192400e-01, -2.17550248e-01,  4.29747820e-01,\n",
      "        -1.10002961e-02, -5.90011142e-02,  3.21193784e-02,\n",
      "         2.47701049e-01, -1.25708923e-01, -6.90605789e-02,\n",
      "         9.13987607e-02, -1.74583495e-01,  1.16217449e-01,\n",
      "        -2.80097723e-02,  1.20941535e-01,  9.71009657e-02,\n",
      "         7.39256963e-02,  3.07940021e-02,  1.68619663e-01,\n",
      "        -2.61033177e-02, -1.80921093e-01, -2.36728698e-01,\n",
      "         1.01226412e-01, -1.17289715e-01,  3.43710929e-02,\n",
      "        -1.92223098e-02, -9.16235149e-02, -4.99451533e-02,\n",
      "         4.64938730e-02,  6.90886751e-02, -1.26168102e-01,\n",
      "         3.51513892e-01, -1.43013999e-01,  1.84274446e-02,\n",
      "        -4.25553359e-02,  3.76740605e-01,  1.17857270e-02,\n",
      "         3.86208802e-01, -1.32105052e-02,  5.75017743e-02,\n",
      "         2.27231249e-01,  1.28479779e-01,  2.11250350e-01,\n",
      "         1.80290148e-01,  3.86858076e-01,  2.12073196e-02,\n",
      "        -1.96873993e-02,  2.98008323e-01],\n",
      "       [ 2.23247468e-01, -5.82135245e-02, -1.92835853e-01,\n",
      "        -6.05857223e-02, -4.30249833e-02,  8.47254619e-02,\n",
      "        -2.06226662e-01, -4.50876094e-02, -1.87632471e-01,\n",
      "        -1.18692540e-01, -1.38389170e-01, -1.58442631e-01,\n",
      "        -1.38742793e-02,  3.86776170e-03,  1.65733770e-01,\n",
      "         1.08387418e-01, -1.34295255e-01, -3.41348648e-01,\n",
      "         6.41628131e-02,  4.07563671e-02, -2.42614686e-01,\n",
      "         1.11438520e-01, -7.68634304e-02,  1.22927472e-01,\n",
      "        -1.33586675e-02,  1.97127372e-01,  4.40572113e-01,\n",
      "         1.05549708e-01, -1.09392822e-01, -7.97780529e-02,\n",
      "         8.67979378e-02,  5.79318404e-02, -1.05105698e-01,\n",
      "        -3.70667577e-02, -7.36407749e-03,  1.02636136e-01,\n",
      "        -1.88147947e-01,  1.65170580e-01, -2.21344382e-02,\n",
      "         1.71519339e-01,  1.21835276e-01, -9.88661423e-02,\n",
      "        -4.48099636e-02, -1.71036959e-01, -1.86004229e-02,\n",
      "         2.02596001e-02, -2.45244548e-01,  6.62701875e-02,\n",
      "        -5.08257747e-01, -9.88244191e-02,  1.67361647e-02,\n",
      "         4.81614470e-02,  1.65194035e-01, -1.78363532e-01,\n",
      "        -4.94560376e-02,  2.15344563e-01,  4.18776087e-02,\n",
      "        -9.96083766e-02, -7.31270313e-02, -4.33491737e-01,\n",
      "         9.26091298e-02, -2.42683440e-01, -1.10370763e-01,\n",
      "         1.21938288e-02, -5.51324598e-02,  4.60393131e-02,\n",
      "        -7.49348283e-01, -1.19742371e-01, -3.79166752e-02,\n",
      "         1.98522314e-01,  1.85342833e-01, -6.79614618e-02,\n",
      "        -2.73972839e-01, -8.93897489e-02,  3.79855856e-02,\n",
      "         4.02019173e-02, -4.38472070e-02, -1.91023558e-01,\n",
      "        -2.49517307e-01,  1.62076771e-01,  8.82163495e-02,\n",
      "         1.22700641e-02, -2.33377144e-02,  2.12122545e-01,\n",
      "        -9.68323369e-03,  1.84909612e-01, -9.34995562e-02,\n",
      "        -1.30496724e-02,  1.24796666e-01,  6.65493235e-02,\n",
      "        -3.25346142e-02, -2.24271938e-01, -1.69063583e-01,\n",
      "        -2.03250960e-01, -1.85993105e-01,  7.43085623e-01,\n",
      "         1.10704474e-01, -2.74161160e-01, -1.51901141e-01,\n",
      "         6.49425834e-02,  7.53508590e-04,  1.10309467e-01,\n",
      "        -2.87407398e-01, -1.84082389e-02, -1.43785626e-01,\n",
      "        -1.02121262e-02,  1.99368820e-01, -1.29464164e-01,\n",
      "        -1.41204238e-01, -1.76356182e-01,  3.81136648e-02,\n",
      "         1.82765439e-01, -6.45329356e-02, -8.19697082e-02,\n",
      "         4.64623980e-02, -7.29397759e-02,  2.06304640e-02,\n",
      "         7.35015050e-02, -1.96496099e-01, -1.35947362e-01,\n",
      "        -9.65486541e-02, -1.16985843e-01, -1.83323547e-01,\n",
      "         1.98801473e-01,  3.64494068e-03, -1.41961962e-01,\n",
      "        -6.62290156e-02,  6.47860914e-02]], dtype=float32), array([ 2.18620698e-04, -1.21969000e-01, -8.09150189e-02, -6.13407120e-02,\n",
      "       -5.26913889e-02, -3.82065354e-03, -1.03486426e-01,  3.30864713e-02,\n",
      "       -9.37385708e-02,  0.00000000e+00,  8.56750458e-03,  1.06807966e-02,\n",
      "       -5.34409918e-02, -1.18748723e-02, -1.13206618e-02, -2.74273846e-02,\n",
      "       -1.20255381e-01, -1.02862027e-02, -8.13974254e-03, -3.91451940e-02,\n",
      "       -5.80828413e-02, -4.93270755e-02, -1.34234026e-01,  0.00000000e+00,\n",
      "        0.00000000e+00,  1.10011213e-02,  2.20550075e-02, -8.52605775e-02,\n",
      "       -1.18732043e-02, -5.91168329e-02,  0.00000000e+00,  2.79668998e-02,\n",
      "        2.83288471e-02, -1.17730767e-01, -8.79584700e-02, -9.18771476e-02,\n",
      "       -6.00503907e-02,  4.04799543e-02,  0.00000000e+00,  2.06685401e-02,\n",
      "        2.47374140e-02, -1.64191350e-01, -6.00173920e-02, -1.13948360e-01,\n",
      "       -6.00416288e-02, -1.22354679e-01, -6.69934079e-02,  5.24061359e-02,\n",
      "        4.12955992e-02,  0.00000000e+00,  0.00000000e+00,  1.98106505e-02,\n",
      "        3.54870185e-02,  0.00000000e+00, -2.54385062e-02,  1.06881175e-03,\n",
      "       -6.00330941e-02, -4.33794595e-02,  0.00000000e+00,  2.02162582e-02,\n",
      "        3.26864608e-02,  3.54580395e-02,  1.07129477e-02, -4.30994667e-02,\n",
      "        4.01764028e-02, -5.18300384e-02,  8.69632140e-03,  1.49550736e-02,\n",
      "       -6.10788204e-02, -5.58106713e-02, -6.84135640e-03, -1.24160178e-01,\n",
      "        9.19878632e-02, -1.05852738e-01,  3.51123624e-02,  1.84641015e-02,\n",
      "        2.63941213e-02, -1.18305422e-02, -3.21114026e-02,  8.59214552e-03,\n",
      "       -2.40291934e-02, -4.38553579e-02, -6.15843907e-02, -3.15804826e-03,\n",
      "       -6.00488484e-02, -7.94306323e-02, -1.03229225e-01, -1.38555821e-02,\n",
      "        4.81986552e-02, -5.81166111e-02,  0.00000000e+00, -6.00015856e-02,\n",
      "        0.00000000e+00,  8.72207247e-03, -5.15240431e-02, -3.24103832e-01,\n",
      "       -9.45986155e-03,  4.10236530e-02,  2.57550571e-02,  0.00000000e+00,\n",
      "       -1.30043909e-01,  1.62313189e-02, -1.05953448e-01,  0.00000000e+00,\n",
      "        0.00000000e+00,  3.00826617e-02,  5.46750613e-03, -6.90336823e-02,\n",
      "       -7.62803033e-02, -1.34110674e-01, -6.00492172e-02, -4.29927837e-04,\n",
      "        0.00000000e+00, -4.56458814e-02, -1.17807239e-01, -5.00148349e-02,\n",
      "       -6.00222126e-02,  2.06841081e-02,  0.00000000e+00, -6.84591234e-02,\n",
      "        6.06963411e-03,  2.05341503e-02,  2.18462683e-02,  5.34637691e-03,\n",
      "        1.31711327e-02, -3.38632092e-02,  0.00000000e+00,  1.90951973e-02],\n",
      "      dtype=float32), array([[-0.07313917, -0.05651714, -0.23733747, ...,  0.04468734,\n",
      "        -0.07523958, -0.113323  ],\n",
      "       [ 0.21802844,  0.06457049, -0.05582442, ...,  0.02233783,\n",
      "        -0.08325562,  0.11478229],\n",
      "       [ 0.1640472 , -0.18923365, -0.20869908, ...,  0.10930108,\n",
      "         0.15444581, -0.13295287],\n",
      "       ...,\n",
      "       [ 0.04779329, -0.1005238 , -0.17357779, ..., -0.11534941,\n",
      "         0.0965061 , -0.11976045],\n",
      "       [ 0.16076915,  0.06232183, -0.07782301, ...,  0.04209703,\n",
      "        -0.13343869,  0.14580707],\n",
      "       [ 0.23811029,  0.1233124 , -0.03770839, ..., -0.02731467,\n",
      "        -0.1144424 ,  0.02657089]], dtype=float32), array([ 5.29096052e-02, -5.98981790e-02, -6.79243654e-02,  3.45387831e-02,\n",
      "       -6.56105727e-02, -1.83669627e-02,  4.12534364e-02, -3.33525939e-03,\n",
      "       -6.00525700e-02, -8.19893256e-02,  0.00000000e+00, -6.00525551e-02,\n",
      "       -6.00547865e-02, -6.00548349e-02, -8.33100546e-03, -6.00535721e-02,\n",
      "       -6.00547045e-02, -9.24825594e-02,  3.11973952e-02,  3.91870700e-02,\n",
      "        9.95818526e-02, -6.00548945e-02,  0.00000000e+00, -6.00548983e-02,\n",
      "        0.00000000e+00,  8.62603560e-02,  5.56685813e-02,  2.10241023e-02,\n",
      "       -6.00547269e-02,  4.37892713e-02,  0.00000000e+00,  7.34871300e-03,\n",
      "       -3.45925093e-02,  5.58659136e-02,  0.00000000e+00,  0.00000000e+00,\n",
      "       -1.84979439e-02, -3.67999338e-02,  3.11314985e-02, -6.00528046e-02,\n",
      "        5.59126250e-02, -5.60681187e-02, -9.05449539e-02,  8.85008276e-02,\n",
      "       -7.39132911e-02,  9.73531157e-02, -6.00545518e-02,  4.07975577e-02,\n",
      "        9.76076275e-02, -3.87804303e-03,  3.85497734e-02, -6.00515082e-02,\n",
      "       -7.76711404e-02,  8.73082802e-02,  9.00683850e-02, -5.15963733e-02,\n",
      "       -5.16017675e-02, -5.90202399e-02,  1.18411495e-04, -1.89428955e-01,\n",
      "       -6.00481033e-02, -4.84804288e-02, -3.43713327e-04, -6.00546971e-02],\n",
      "      dtype=float32), array([[ 0.02086239,  0.12960935,  0.07723214, ..., -0.07323702,\n",
      "         0.08534402, -0.23488824],\n",
      "       [ 0.14883979,  0.20349967, -0.21659243, ..., -0.13056538,\n",
      "        -0.14912663, -0.12055004],\n",
      "       [ 0.0660892 , -0.23698926,  0.1595593 , ...,  0.18832895,\n",
      "        -0.27042583, -0.15331557],\n",
      "       ...,\n",
      "       [-0.1599835 , -0.18141061, -0.20100337, ...,  0.08568978,\n",
      "        -0.27016258,  0.08084862],\n",
      "       [ 0.24445765, -0.1574915 ,  0.07789254, ..., -0.2963403 ,\n",
      "        -0.32663348,  0.01575272],\n",
      "       [ 0.10350621,  0.09641463,  0.2153359 , ..., -0.10840178,\n",
      "         0.11297023, -0.18462877]], dtype=float32), array([ 0.12240133,  0.        , -0.07916532, -0.12361621,  0.07862702,\n",
      "        0.12065445, -0.11397913, -0.06005424,  0.08398084,  0.0297571 ,\n",
      "        0.11680145, -0.07241221,  0.12872876, -0.06002341, -0.06235422,\n",
      "       -0.10064591, -0.06005432,  0.12738174, -0.08392081, -0.0597126 ,\n",
      "       -0.0600545 ,  0.11031442,  0.        , -0.09956288,  0.08198904,\n",
      "       -0.06005492,  0.09400126, -0.09841435, -0.06005484, -0.07497333,\n",
      "       -0.12015872, -0.07630806], dtype=float32), array([[ 0.21115461],\n",
      "       [-0.3854179 ],\n",
      "       [-0.1147051 ],\n",
      "       [ 0.06567402],\n",
      "       [ 0.03420891],\n",
      "       [ 0.17261918],\n",
      "       [ 0.13536018],\n",
      "       [ 0.01204329],\n",
      "       [ 0.04132286],\n",
      "       [ 0.03377319],\n",
      "       [ 0.35413378],\n",
      "       [-0.31487158],\n",
      "       [ 0.37549704],\n",
      "       [ 0.05383641],\n",
      "       [-0.06028001],\n",
      "       [ 0.06933682],\n",
      "       [-0.12500128],\n",
      "       [ 0.3258518 ],\n",
      "       [-0.05217953],\n",
      "       [ 0.05330142],\n",
      "       [ 0.01819577],\n",
      "       [ 0.11792205],\n",
      "       [ 0.2929681 ],\n",
      "       [-0.1843127 ],\n",
      "       [ 0.07101408],\n",
      "       [-0.1710688 ],\n",
      "       [ 0.28849208],\n",
      "       [ 0.06282047],\n",
      "       [-0.29932624],\n",
      "       [-0.08829097],\n",
      "       [-0.0944852 ],\n",
      "       [-0.31947175]], dtype=float32), array([0.13493556], dtype=float32)]\n"
     ]
    }
   ],
   "source": [
    "# Weight for every attribute \n",
    "\n",
    "print(model.get_weights())"
   ]
  },
  {
   "cell_type": "code",
   "execution_count": 85,
   "id": "2830880f",
   "metadata": {},
   "outputs": [
    {
     "data": {
      "image/png": "[encoded data removed]",
      "text/plain": [
       "<Figure size 432x288 with 1 Axes>"
      ]
     },
     "metadata": {
      "needs_background": "light"
     },
     "output_type": "display_data"
    }
   ],
   "source": [
    "# Loss or Error\n",
    "\n",
    "plt.plot(history.history['loss'])\n",
    "plt.title('Model Loss')\n",
    "plt.xlabel('Epoch')\n",
    "plt.ylabel('Loss')\n",
    "plt.legend(['Training'])\n",
    "plt.show()\n"
   ]
  },
  {
   "cell_type": "code",
   "execution_count": 89,
   "id": "9a529189",
   "metadata": {},
   "outputs": [
    {
     "data": {
      "image/png": "[encoded data removed]",
      "text/plain": [
       "<Figure size 432x288 with 1 Axes>"
      ]
     },
     "metadata": {
      "needs_background": "light"
     },
     "output_type": "display_data"
    }
   ],
   "source": [
    "plt.plot(history.history['mean_squared_error'])\n",
    "plt.title('Meah Squared Error')\n",
    "plt.xlabel('Epoch')\n",
    "plt.ylabel('Mean Squared Error')\n",
    "plt.legend(['Training'])\n",
    "plt.show()"
   ]
  },
  {
   "cell_type": "markdown",
   "id": "49bf93ca",
   "metadata": {},
   "source": [
    "## Regression with  Support Vector Machine"
   ]
  },
  {
   "cell_type": "code",
   "execution_count": 93,
   "id": "f7ffa1ec",
   "metadata": {},
   "outputs": [
    {
     "data": {
      "text/plain": [
       "SVR()"
      ]
     },
     "execution_count": 93,
     "metadata": {},
     "output_type": "execute_result"
    }
   ],
   "source": [
    "model = SVR()\n",
    "model.fit(xtrain,ytrain)"
   ]
  },
  {
   "cell_type": "code",
   "execution_count": 94,
   "id": "82ac5dbb",
   "metadata": {},
   "outputs": [],
   "source": [
    "ypred = model.predict(xtest)"
   ]
  },
  {
   "cell_type": "code",
   "execution_count": 100,
   "id": "f49bf404",
   "metadata": {},
   "outputs": [
    {
     "name": "stdout",
     "output_type": "stream",
     "text": [
      "Mean Squared Error - 0.37\n"
     ]
    }
   ],
   "source": [
    "ypred = model.predict(xtest)\n",
    "print(f'Mean Squared Error - {round(mean_squared_error(ytest, ypred),2)}')"
   ]
  },
  {
   "cell_type": "code",
   "execution_count": 101,
   "id": "4d9c5916",
   "metadata": {},
   "outputs": [
    {
     "name": "stdout",
     "output_type": "stream",
     "text": [
      "Root Mean Squared Error - 0.61\n"
     ]
    }
   ],
   "source": [
    "print(f'Root Mean Squared Error - {round(np.sqrt(mean_squared_error(ytest, ypred)),2)}')"
   ]
  },
  {
   "cell_type": "markdown",
   "id": "a348d8ae",
   "metadata": {},
   "source": [
    "## Hyper-tuning with Random Search CV "
   ]
  },
  {
   "cell_type": "code",
   "execution_count": null,
   "id": "15f3867e",
   "metadata": {},
   "outputs": [],
   "source": []
  },
  {
   "cell_type": "code",
   "execution_count": null,
   "id": "c538eee8",
   "metadata": {},
   "outputs": [],
   "source": []
  },
  {
   "cell_type": "markdown",
   "id": "17640d2c",
   "metadata": {},
   "source": [
    "## Hyper-tuning with Grid Search CV "
   ]
  },
  {
   "cell_type": "code",
   "execution_count": null,
   "id": "7fb99f6c",
   "metadata": {},
   "outputs": [],
   "source": []
  },
  {
   "cell_type": "code",
   "execution_count": null,
   "id": "2bd41667",
   "metadata": {},
   "outputs": [],
   "source": []
  }
 ],
 "metadata": {
  "kernelspec": {
   "display_name": "Python 3 (ipykernel)",
   "language": "python",
   "name": "python3"
  },
  "language_info": {
   "codemirror_mode": {
    "name": "ipython",
    "version": 3
   },
   "file_extension": ".py",
   "mimetype": "text/x-python",
   "name": "python",
   "nbconvert_exporter": "python",
   "pygments_lexer": "ipython3",
   "version": "3.7.13"
  }
 },
 "nbformat": 4,
 "nbformat_minor": 5
}
