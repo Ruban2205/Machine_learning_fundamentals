{
 "cells": [
  {
   "cell_type": "markdown",
   "id": "744dc637",
   "metadata": {},
   "source": [
    "## <span style=\"color : green\"> Feature Engineering </span>\n",
    "\n",
    "# <center> Table of Contents </center>\n",
    "\n",
    "1. Split data into training and testing \n",
    "2. Drop independent variable based on - mean, median, variance\n",
    "1. Remove outliers based on z-score and box-plot\n",
    "1. correlationbetween independent variables\n",
    "1. Correlation between independent variable and dependent\n",
    "1. Select Features based on Chi-Square Test, SelectPercentile, VarianceThreshold\n",
    "1. Feature Extraction using PCA and LDA\n",
    "1. Mean of Pixel value of Image "
   ]
  },
  {
   "cell_type": "code",
   "execution_count": null,
   "id": "48c348b7",
   "metadata": {},
   "outputs": [],
   "source": []
  },
  {
   "cell_type": "code",
   "execution_count": null,
   "id": "06f22b37",
   "metadata": {},
   "outputs": [],
   "source": []
  }
 ],
 "metadata": {
  "kernelspec": {
   "display_name": "Python 3 (ipykernel)",
   "language": "python",
   "name": "python3"
  },
  "language_info": {
   "codemirror_mode": {
    "name": "ipython",
    "version": 3
   },
   "file_extension": ".py",
   "mimetype": "text/x-python",
   "name": "python",
   "nbconvert_exporter": "python",
   "pygments_lexer": "ipython3",
   "version": "3.7.13"
  }
 },
 "nbformat": 4,
 "nbformat_minor": 5
}
