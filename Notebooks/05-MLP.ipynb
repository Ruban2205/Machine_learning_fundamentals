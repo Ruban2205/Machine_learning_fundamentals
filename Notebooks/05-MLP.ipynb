{
 "cells": [
  {
   "cell_type": "markdown",
   "id": "e3a6847a",
   "metadata": {},
   "source": [
    "## <span style=\"color : green\"> Multiple Layer Perceptron </span>\n",
    "\n",
    "# <center> Table of Contents </center>\n",
    "\n",
    "1. Train a Multiple layer perceptron model for classification and regression  \n",
    "2. Plot the no of epoochs and error plot\n",
    "1. Evaluate the model using - \n",
    "   1. Classification - Confusion matrix, f1-score, accuracy, precision, recall\n",
    "   2. Regression - Mean Squared Error, R-Squared Score\n",
    "1. Optimize the MLP models using Random Search CV and Grid Search CV\n",
    "1. Train a Support Vector Machine Classifier and Regression \n",
    "1. Evaluate the Support Vector Mahine Models"
   ]
  },
  {
   "cell_type": "code",
   "execution_count": null,
   "id": "e21c8130",
   "metadata": {},
   "outputs": [],
   "source": []
  }
 ],
 "metadata": {
  "kernelspec": {
   "display_name": "Python 3 (ipykernel)",
   "language": "python",
   "name": "python3"
  },
  "language_info": {
   "codemirror_mode": {
    "name": "ipython",
    "version": 3
   },
   "file_extension": ".py",
   "mimetype": "text/x-python",
   "name": "python",
   "nbconvert_exporter": "python",
   "pygments_lexer": "ipython3",
   "version": "3.7.13"
  }
 },
 "nbformat": 4,
 "nbformat_minor": 5
}
