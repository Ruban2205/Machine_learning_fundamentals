{
 "cells": [
  {
   "cell_type": "markdown",
   "id": "ff989b2f",
   "metadata": {},
   "source": [
    "## <span style=\"color : green\"> Agglomerative Clustering </span>\n",
    "\n",
    "# <center> Table of Contents </center>\n",
    "\n",
    "1. Plot the dendogram for the dataset using an Linkage function and an distance metrics\n",
    "1. Train an agglomerative model using different linkage functions and distance metrics and \n",
    "1. Analyse the dataset using scatter plot \n",
    "1. Evaluate the clustering approach using Silhoutter Score, Davies bauldin score and mutual information"
   ]
  },
  {
   "cell_type": "code",
   "execution_count": null,
   "id": "216f88aa",
   "metadata": {},
   "outputs": [],
   "source": []
  }
 ],
 "metadata": {
  "kernelspec": {
   "display_name": "Python 3 (ipykernel)",
   "language": "python",
   "name": "python3"
  },
  "language_info": {
   "codemirror_mode": {
    "name": "ipython",
    "version": 3
   },
   "file_extension": ".py",
   "mimetype": "text/x-python",
   "name": "python",
   "nbconvert_exporter": "python",
   "pygments_lexer": "ipython3",
   "version": "3.7.13"
  }
 },
 "nbformat": 4,
 "nbformat_minor": 5
}
