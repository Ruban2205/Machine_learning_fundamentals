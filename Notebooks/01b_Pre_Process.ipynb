{
 "cells": [
  {
   "cell_type": "markdown",
   "id": "949efcf0",
   "metadata": {},
   "source": [
    "## <span style=\"color : green\"> Data Pre-Processing </span>"
   ]
  },
  {
   "cell_type": "markdown",
   "id": "e204a203",
   "metadata": {},
   "source": [
    "# <center> Table of Contents </center>\n",
    "\n",
    "1. To find the percentage of missing values, duplicate values\n",
    "2. Impute the missing data - interpolation, mean, mode and Droping column\n",
    "1. Compute Z-Score for an attribute \n",
    "1. Apply the normalization technique - MinMax Scalar, Standard Scalar, Z-Score Normalization\n",
    "1. Convert the categorical to numerical by LabelEncoder and One-Hot Encoder "
   ]
  },
  {
   "cell_type": "code",
   "execution_count": 32,
   "id": "67152365",
   "metadata": {},
   "outputs": [],
   "source": [
    "import matplotlib.pyplot as plt\n",
    "import seaborn as sns\n",
    "import pandas as pd\n",
    "import numpy as np\n",
    "from sklearn.preprocessing import StandardScaler, MinMaxScaler, LabelEncoder, OneHotEncoder\n",
    "from warnings import filterwarnings\n",
    "\n",
    "filterwarnings('ignore')"
   ]
  },
  {
   "cell_type": "code",
   "execution_count": 5,
   "id": "bc5b8e0f",
   "metadata": {},
   "outputs": [
    {
     "data": {
      "text/html": [
       "<div>\n",
       "<style scoped>\n",
       "    .dataframe tbody tr th:only-of-type {\n",
       "        vertical-align: middle;\n",
       "    }\n",
       "\n",
       "    .dataframe tbody tr th {\n",
       "        vertical-align: top;\n",
       "    }\n",
       "\n",
       "    .dataframe thead th {\n",
       "        text-align: right;\n",
       "    }\n",
       "</style>\n",
       "<table border=\"1\" class=\"dataframe\">\n",
       "  <thead>\n",
       "    <tr style=\"text-align: right;\">\n",
       "      <th></th>\n",
       "      <th>Price</th>\n",
       "      <th>Age</th>\n",
       "      <th>Mfg_Month</th>\n",
       "      <th>Mfg_Year</th>\n",
       "      <th>KM</th>\n",
       "      <th>Fuel_Type</th>\n",
       "      <th>HP</th>\n",
       "      <th>Met_Color</th>\n",
       "      <th>Automatic</th>\n",
       "      <th>cc</th>\n",
       "      <th>Doors</th>\n",
       "      <th>Gears</th>\n",
       "      <th>Quarterly_Tax</th>\n",
       "      <th>Weight</th>\n",
       "      <th>Mfr_Guarantee</th>\n",
       "      <th>BOVAG_Guarantee</th>\n",
       "      <th>Guarantee_Period</th>\n",
       "    </tr>\n",
       "  </thead>\n",
       "  <tbody>\n",
       "    <tr>\n",
       "      <th>0</th>\n",
       "      <td>12950</td>\n",
       "      <td>23</td>\n",
       "      <td>10</td>\n",
       "      <td>2002</td>\n",
       "      <td>46986</td>\n",
       "      <td>Diesel</td>\n",
       "      <td>90</td>\n",
       "      <td>1</td>\n",
       "      <td>0</td>\n",
       "      <td>2000</td>\n",
       "      <td>3.0</td>\n",
       "      <td>Five</td>\n",
       "      <td>210</td>\n",
       "      <td>1165</td>\n",
       "      <td>0.0</td>\n",
       "      <td>1</td>\n",
       "      <td>3</td>\n",
       "    </tr>\n",
       "    <tr>\n",
       "      <th>1</th>\n",
       "      <td>12950</td>\n",
       "      <td>23</td>\n",
       "      <td>10</td>\n",
       "      <td>2002</td>\n",
       "      <td>72937</td>\n",
       "      <td>Diesel</td>\n",
       "      <td>90</td>\n",
       "      <td>1</td>\n",
       "      <td>0</td>\n",
       "      <td>2000</td>\n",
       "      <td>3.0</td>\n",
       "      <td>Five</td>\n",
       "      <td>210</td>\n",
       "      <td>1165</td>\n",
       "      <td>0.0</td>\n",
       "      <td>1</td>\n",
       "      <td>3</td>\n",
       "    </tr>\n",
       "    <tr>\n",
       "      <th>2</th>\n",
       "      <td>12950</td>\n",
       "      <td>24</td>\n",
       "      <td>9</td>\n",
       "      <td>2002</td>\n",
       "      <td>41711</td>\n",
       "      <td>Diesel</td>\n",
       "      <td>90</td>\n",
       "      <td>1</td>\n",
       "      <td>0</td>\n",
       "      <td>2000</td>\n",
       "      <td>3.0</td>\n",
       "      <td>Five</td>\n",
       "      <td>210</td>\n",
       "      <td>1165</td>\n",
       "      <td>1.0</td>\n",
       "      <td>1</td>\n",
       "      <td>3</td>\n",
       "    </tr>\n",
       "    <tr>\n",
       "      <th>3</th>\n",
       "      <td>13950</td>\n",
       "      <td>26</td>\n",
       "      <td>7</td>\n",
       "      <td>2002</td>\n",
       "      <td>48000</td>\n",
       "      <td>Diesel</td>\n",
       "      <td>90</td>\n",
       "      <td>0</td>\n",
       "      <td>0</td>\n",
       "      <td>2000</td>\n",
       "      <td>3.0</td>\n",
       "      <td>Five</td>\n",
       "      <td>210</td>\n",
       "      <td>1165</td>\n",
       "      <td>1.0</td>\n",
       "      <td>1</td>\n",
       "      <td>4</td>\n",
       "    </tr>\n",
       "    <tr>\n",
       "      <th>4</th>\n",
       "      <td>17950</td>\n",
       "      <td>30</td>\n",
       "      <td>3</td>\n",
       "      <td>2002</td>\n",
       "      <td>38500</td>\n",
       "      <td>Diesel</td>\n",
       "      <td>90</td>\n",
       "      <td>0</td>\n",
       "      <td>0</td>\n",
       "      <td>2000</td>\n",
       "      <td>3.0</td>\n",
       "      <td>Five</td>\n",
       "      <td>210</td>\n",
       "      <td>1170</td>\n",
       "      <td>1.0</td>\n",
       "      <td>1</td>\n",
       "      <td>5</td>\n",
       "    </tr>\n",
       "  </tbody>\n",
       "</table>\n",
       "</div>"
      ],
      "text/plain": [
       "   Price  Age  Mfg_Month  Mfg_Year     KM Fuel_Type  HP  Met_Color  Automatic  \\\n",
       "0  12950   23         10      2002  46986    Diesel  90          1          0   \n",
       "1  12950   23         10      2002  72937    Diesel  90          1          0   \n",
       "2  12950   24          9      2002  41711    Diesel  90          1          0   \n",
       "3  13950   26          7      2002  48000    Diesel  90          0          0   \n",
       "4  17950   30          3      2002  38500    Diesel  90          0          0   \n",
       "\n",
       "     cc  Doors Gears  Quarterly_Tax  Weight  Mfr_Guarantee  BOVAG_Guarantee  \\\n",
       "0  2000    3.0  Five            210    1165            0.0                1   \n",
       "1  2000    3.0  Five            210    1165            0.0                1   \n",
       "2  2000    3.0  Five            210    1165            1.0                1   \n",
       "3  2000    3.0  Five            210    1165            1.0                1   \n",
       "4  2000    3.0  Five            210    1170            1.0                1   \n",
       "\n",
       "   Guarantee_Period  \n",
       "0                 3  \n",
       "1                 3  \n",
       "2                 3  \n",
       "3                 4  \n",
       "4                 5  "
      ]
     },
     "execution_count": 5,
     "metadata": {},
     "output_type": "execute_result"
    }
   ],
   "source": [
    "df = pd.read_csv('../Datasets/Toyato.csv')\n",
    "df.head()"
   ]
  },
  {
   "cell_type": "markdown",
   "id": "c2ceb0ba",
   "metadata": {},
   "source": [
    "### To find the percentage of missing values, duplicate values"
   ]
  },
  {
   "cell_type": "code",
   "execution_count": 9,
   "id": "8848333b",
   "metadata": {
    "scrolled": true
   },
   "outputs": [
    {
     "data": {
      "text/plain": [
       "Doors            12.0\n",
       "Mfr_Guarantee    46.0\n",
       "dtype: float64"
      ]
     },
     "execution_count": 9,
     "metadata": {},
     "output_type": "execute_result"
    }
   ],
   "source": [
    "# Percentage of missing values\n",
    "missingPercent = (df.isna().sum() / len(df)) *100\n",
    "missingPercent[missingPercent > 0 ]"
   ]
  },
  {
   "cell_type": "code",
   "execution_count": 30,
   "id": "0dc329a3",
   "metadata": {},
   "outputs": [
    {
     "name": "stdout",
     "output_type": "stream",
     "text": [
      "The percentage of duplicated values - 0.0\n"
     ]
    }
   ],
   "source": [
    "# Percentage of duplicate values\n",
    "\n",
    "duplicatePercent = df.duplicated().sum() * 100 / len(df)\n",
    "print(f'The percentage of duplicated values - {duplicatePercent}')"
   ]
  },
  {
   "cell_type": "markdown",
   "id": "46719e08",
   "metadata": {},
   "source": [
    "### Impute the missing data - interpolation, mean, mode and Droping column"
   ]
  },
  {
   "cell_type": "code",
   "execution_count": 21,
   "id": "b110c11e",
   "metadata": {},
   "outputs": [
    {
     "data": {
      "text/plain": [
       "Price                0\n",
       "Age                  0\n",
       "Mfg_Month            0\n",
       "Mfg_Year             0\n",
       "KM                   0\n",
       "Fuel_Type            0\n",
       "HP                   0\n",
       "Met_Color            0\n",
       "Automatic            0\n",
       "cc                   0\n",
       "Doors                0\n",
       "Gears                0\n",
       "Quarterly_Tax        0\n",
       "Weight               0\n",
       "Mfr_Guarantee       23\n",
       "BOVAG_Guarantee      0\n",
       "Guarantee_Period     0\n",
       "dtype: int64"
      ]
     },
     "execution_count": 21,
     "metadata": {},
     "output_type": "execute_result"
    }
   ],
   "source": [
    "# Using mean\n",
    "tf = df.copy()\n",
    "tf['Doors'].fillna(tf['Doors'].mean(), inplace=True)\n",
    "tf.isna().sum()"
   ]
  },
  {
   "cell_type": "code",
   "execution_count": 22,
   "id": "083c4da6",
   "metadata": {},
   "outputs": [
    {
     "data": {
      "text/plain": [
       "Price                0\n",
       "Age                  0\n",
       "Mfg_Month            0\n",
       "Mfg_Year             0\n",
       "KM                   0\n",
       "Fuel_Type            0\n",
       "HP                   0\n",
       "Met_Color            0\n",
       "Automatic            0\n",
       "cc                   0\n",
       "Doors                0\n",
       "Gears                0\n",
       "Quarterly_Tax        0\n",
       "Weight               0\n",
       "Mfr_Guarantee       23\n",
       "BOVAG_Guarantee      0\n",
       "Guarantee_Period     0\n",
       "dtype: int64"
      ]
     },
     "execution_count": 22,
     "metadata": {},
     "output_type": "execute_result"
    }
   ],
   "source": [
    "# Using mode \n",
    "tf = df.copy()\n",
    "tf['Doors'].fillna(tf['Doors'].mode()[0], inplace=True)\n",
    "tf.isna().sum()"
   ]
  },
  {
   "cell_type": "code",
   "execution_count": 24,
   "id": "bbc3d7e8",
   "metadata": {},
   "outputs": [
    {
     "data": {
      "text/plain": [
       "Price                0\n",
       "Age                  0\n",
       "Mfg_Month            0\n",
       "Mfg_Year             0\n",
       "KM                   0\n",
       "Fuel_Type            0\n",
       "HP                   0\n",
       "Met_Color            0\n",
       "Automatic            0\n",
       "cc                   0\n",
       "Doors                0\n",
       "Gears                0\n",
       "Quarterly_Tax        0\n",
       "Weight               0\n",
       "Mfr_Guarantee       23\n",
       "BOVAG_Guarantee      0\n",
       "Guarantee_Period     0\n",
       "dtype: int64"
      ]
     },
     "execution_count": 24,
     "metadata": {},
     "output_type": "execute_result"
    }
   ],
   "source": [
    "# Nearest value\n",
    "tf = df.copy()\n",
    "tf['Doors'].fillna(tf['Doors'].interpolate(), inplace=True)\n",
    "tf.isna().sum()"
   ]
  },
  {
   "cell_type": "markdown",
   "id": "a8e92d61",
   "metadata": {},
   "source": [
    "### Compute Z-Score for an attribute"
   ]
  },
  {
   "cell_type": "code",
   "execution_count": 75,
   "id": "933516bf",
   "metadata": {},
   "outputs": [
    {
     "data": {
      "text/html": [
       "<div>\n",
       "<style scoped>\n",
       "    .dataframe tbody tr th:only-of-type {\n",
       "        vertical-align: middle;\n",
       "    }\n",
       "\n",
       "    .dataframe tbody tr th {\n",
       "        vertical-align: top;\n",
       "    }\n",
       "\n",
       "    .dataframe thead th {\n",
       "        text-align: right;\n",
       "    }\n",
       "</style>\n",
       "<table border=\"1\" class=\"dataframe\">\n",
       "  <thead>\n",
       "    <tr style=\"text-align: right;\">\n",
       "      <th></th>\n",
       "      <th>Price</th>\n",
       "      <th>Age</th>\n",
       "      <th>Mfg_Month</th>\n",
       "      <th>Mfg_Year</th>\n",
       "      <th>KM</th>\n",
       "      <th>Fuel_Type</th>\n",
       "      <th>HP</th>\n",
       "      <th>Met_Color</th>\n",
       "      <th>Automatic</th>\n",
       "      <th>cc</th>\n",
       "      <th>Doors</th>\n",
       "      <th>Gears</th>\n",
       "      <th>Quarterly_Tax</th>\n",
       "      <th>Weight</th>\n",
       "      <th>Mfr_Guarantee</th>\n",
       "      <th>BOVAG_Guarantee</th>\n",
       "      <th>Guarantee_Period</th>\n",
       "      <th>Z-Score-Price</th>\n",
       "    </tr>\n",
       "  </thead>\n",
       "  <tbody>\n",
       "    <tr>\n",
       "      <th>0</th>\n",
       "      <td>12950</td>\n",
       "      <td>23</td>\n",
       "      <td>10</td>\n",
       "      <td>2002</td>\n",
       "      <td>46986</td>\n",
       "      <td>Diesel</td>\n",
       "      <td>90</td>\n",
       "      <td>1</td>\n",
       "      <td>0</td>\n",
       "      <td>2000</td>\n",
       "      <td>3.0</td>\n",
       "      <td>Five</td>\n",
       "      <td>210</td>\n",
       "      <td>1165</td>\n",
       "      <td>0.0</td>\n",
       "      <td>1</td>\n",
       "      <td>3</td>\n",
       "      <td>-0.849159</td>\n",
       "    </tr>\n",
       "    <tr>\n",
       "      <th>1</th>\n",
       "      <td>12950</td>\n",
       "      <td>23</td>\n",
       "      <td>10</td>\n",
       "      <td>2002</td>\n",
       "      <td>72937</td>\n",
       "      <td>Diesel</td>\n",
       "      <td>90</td>\n",
       "      <td>1</td>\n",
       "      <td>0</td>\n",
       "      <td>2000</td>\n",
       "      <td>3.0</td>\n",
       "      <td>Five</td>\n",
       "      <td>210</td>\n",
       "      <td>1165</td>\n",
       "      <td>0.0</td>\n",
       "      <td>1</td>\n",
       "      <td>3</td>\n",
       "      <td>-0.849159</td>\n",
       "    </tr>\n",
       "  </tbody>\n",
       "</table>\n",
       "</div>"
      ],
      "text/plain": [
       "   Price  Age  Mfg_Month  Mfg_Year     KM Fuel_Type  HP  Met_Color  Automatic  \\\n",
       "0  12950   23         10      2002  46986    Diesel  90          1          0   \n",
       "1  12950   23         10      2002  72937    Diesel  90          1          0   \n",
       "\n",
       "     cc  Doors Gears  Quarterly_Tax  Weight  Mfr_Guarantee  BOVAG_Guarantee  \\\n",
       "0  2000    3.0  Five            210    1165            0.0                1   \n",
       "1  2000    3.0  Five            210    1165            0.0                1   \n",
       "\n",
       "   Guarantee_Period  Z-Score-Price  \n",
       "0                 3      -0.849159  \n",
       "1                 3      -0.849159  "
      ]
     },
     "execution_count": 75,
     "metadata": {},
     "output_type": "execute_result"
    }
   ],
   "source": [
    "df['Z-Score-Price'] = (df.Price - df.Price.mean()) / df.Price.std()\n",
    "df.head(2)"
   ]
  },
  {
   "cell_type": "markdown",
   "id": "17be1836",
   "metadata": {},
   "source": [
    "### Apply the normalization technique - MinMax Scalar, Standard Scalar, Z-Score Normalization"
   ]
  },
  {
   "cell_type": "code",
   "execution_count": 50,
   "id": "b5faab63",
   "metadata": {
    "scrolled": true
   },
   "outputs": [
    {
     "name": "stdout",
     "output_type": "stream",
     "text": [
      "['Age', 'Mfg_Month', 'Mfg_Year', 'KM', 'HP', 'Met_Color', 'Automatic', 'cc', 'Doors', 'Quarterly_Tax', 'Weight', 'Mfr_Guarantee', 'BOVAG_Guarantee', 'Guarantee_Period']\n"
     ]
    }
   ],
   "source": [
    "features = df.drop(['Price','Fuel_Type','Gears'], axis=1)\n",
    "print(list(features.columns))"
   ]
  },
  {
   "cell_type": "code",
   "execution_count": 73,
   "id": "f87b8638",
   "metadata": {},
   "outputs": [
    {
     "data": {
      "text/plain": [
       "array([[0.1       , 0.9       , 0.        , 0.36994059, 0.17073171,\n",
       "        1.        , 0.        , 1.        , 0.        , 0.88837209,\n",
       "        0.48780488, 0.        , 1.        , 0.        ]])"
      ]
     },
     "execution_count": 73,
     "metadata": {},
     "output_type": "execute_result"
    }
   ],
   "source": [
    "# MinMax Scalar \n",
    "\n",
    "scalar = MinMaxScaler()\n",
    "scaled_features = scalar.fit_transform(features)\n",
    "scaled_features[:1]"
   ]
  },
  {
   "cell_type": "code",
   "execution_count": 72,
   "id": "9ecb3eb8",
   "metadata": {},
   "outputs": [
    {
     "data": {
      "text/plain": [
       "array([[-1.04767205,  1.04767205,  0.        ,  0.04379574, -0.6497924 ,\n",
       "         0.81649658, -0.14285714,  1.30049203, -0.39735971,  1.34767273,\n",
       "         0.25416539, -1.11803399,  0.25264558, -0.46852129]])"
      ]
     },
     "execution_count": 72,
     "metadata": {},
     "output_type": "execute_result"
    }
   ],
   "source": [
    "# Standard Scalar \n",
    "\n",
    "scalar = StandardScaler()\n",
    "scaled_features = scalar.fit_transform(features)\n",
    "scaled_features[:1]"
   ]
  },
  {
   "cell_type": "code",
   "execution_count": 74,
   "id": "2a9767ed",
   "metadata": {},
   "outputs": [
    {
     "data": {
      "text/html": [
       "<div>\n",
       "<style scoped>\n",
       "    .dataframe tbody tr th:only-of-type {\n",
       "        vertical-align: middle;\n",
       "    }\n",
       "\n",
       "    .dataframe tbody tr th {\n",
       "        vertical-align: top;\n",
       "    }\n",
       "\n",
       "    .dataframe thead th {\n",
       "        text-align: right;\n",
       "    }\n",
       "</style>\n",
       "<table border=\"1\" class=\"dataframe\">\n",
       "  <thead>\n",
       "    <tr style=\"text-align: right;\">\n",
       "      <th></th>\n",
       "      <th>Age</th>\n",
       "      <th>Mfg_Month</th>\n",
       "      <th>Mfg_Year</th>\n",
       "      <th>KM</th>\n",
       "      <th>HP</th>\n",
       "      <th>Met_Color</th>\n",
       "      <th>Automatic</th>\n",
       "      <th>cc</th>\n",
       "      <th>Doors</th>\n",
       "      <th>Quarterly_Tax</th>\n",
       "      <th>Weight</th>\n",
       "      <th>Mfr_Guarantee</th>\n",
       "      <th>BOVAG_Guarantee</th>\n",
       "      <th>Guarantee_Period</th>\n",
       "    </tr>\n",
       "  </thead>\n",
       "  <tbody>\n",
       "    <tr>\n",
       "      <th>0</th>\n",
       "      <td>-1.037142</td>\n",
       "      <td>1.037142</td>\n",
       "      <td>NaN</td>\n",
       "      <td>0.043356</td>\n",
       "      <td>-0.643262</td>\n",
       "      <td>0.80829</td>\n",
       "      <td>-0.141421</td>\n",
       "      <td>1.287421</td>\n",
       "      <td>-0.392818</td>\n",
       "      <td>1.334128</td>\n",
       "      <td>0.251611</td>\n",
       "      <td>-1.097134</td>\n",
       "      <td>0.250106</td>\n",
       "      <td>-0.463812</td>\n",
       "    </tr>\n",
       "    <tr>\n",
       "      <th>1</th>\n",
       "      <td>-1.037142</td>\n",
       "      <td>1.037142</td>\n",
       "      <td>NaN</td>\n",
       "      <td>1.127391</td>\n",
       "      <td>-0.643262</td>\n",
       "      <td>0.80829</td>\n",
       "      <td>-0.141421</td>\n",
       "      <td>1.287421</td>\n",
       "      <td>-0.392818</td>\n",
       "      <td>1.334128</td>\n",
       "      <td>0.251611</td>\n",
       "      <td>-1.097134</td>\n",
       "      <td>0.250106</td>\n",
       "      <td>-0.463812</td>\n",
       "    </tr>\n",
       "  </tbody>\n",
       "</table>\n",
       "</div>"
      ],
      "text/plain": [
       "        Age  Mfg_Month  Mfg_Year        KM        HP  Met_Color  Automatic  \\\n",
       "0 -1.037142   1.037142       NaN  0.043356 -0.643262    0.80829  -0.141421   \n",
       "1 -1.037142   1.037142       NaN  1.127391 -0.643262    0.80829  -0.141421   \n",
       "\n",
       "         cc     Doors  Quarterly_Tax    Weight  Mfr_Guarantee  \\\n",
       "0  1.287421 -0.392818       1.334128  0.251611      -1.097134   \n",
       "1  1.287421 -0.392818       1.334128  0.251611      -1.097134   \n",
       "\n",
       "   BOVAG_Guarantee  Guarantee_Period  \n",
       "0         0.250106         -0.463812  \n",
       "1         0.250106         -0.463812  "
      ]
     },
     "execution_count": 74,
     "metadata": {},
     "output_type": "execute_result"
    }
   ],
   "source": [
    "# Z-Score Normalization \n",
    "\n",
    "scaled_features = (features - features.mean())/features.std()\n",
    "scaled_features.head(2)"
   ]
  },
  {
   "cell_type": "markdown",
   "id": "92ea7ac3",
   "metadata": {},
   "source": [
    "### Convert the categorical to numerical by LabelEncoder and One-Hot Encoder"
   ]
  },
  {
   "cell_type": "code",
   "execution_count": 56,
   "id": "fdb884eb",
   "metadata": {},
   "outputs": [],
   "source": [
    "labels = df[['Fuel_Type']]"
   ]
  },
  {
   "cell_type": "code",
   "execution_count": 70,
   "id": "c8bffac6",
   "metadata": {},
   "outputs": [
    {
     "name": "stdout",
     "output_type": "stream",
     "text": [
      "[0 0 0 0 0 0 0 0 1 0 1 1 1 1 1 1 1 1 1 1 1 1 1 1 1 1 1 1 1 1 1 1 1 1 1 1 1\n",
      " 1 1 1 1 1 1 0 0 0 0 1 0 0]\n"
     ]
    }
   ],
   "source": [
    "# Label Encoder\n",
    "\n",
    "encoder = LabelEncoder()\n",
    "encoded_labels = encoder.fit_transform(labels)\n",
    "print(encoded_labels)"
   ]
  },
  {
   "cell_type": "code",
   "execution_count": 71,
   "id": "52dc6a87",
   "metadata": {},
   "outputs": [
    {
     "name": "stdout",
     "output_type": "stream",
     "text": [
      "[0, 0, 0, 0, 0, 0, 0, 0, 1, 0, 1, 1, 1, 1, 1, 1, 1, 1, 1, 1, 1, 1, 1, 1, 1, 1, 1, 1, 1, 1, 1, 1, 1, 1, 1, 1, 1, 1, 1, 1, 1, 1, 1, 0, 0, 0, 0, 1, 0, 0]\n"
     ]
    }
   ],
   "source": [
    "# One Hot Encoder \n",
    "encoded_result = []\n",
    "\n",
    "encoder = OneHotEncoder()\n",
    "encoded_labels = encoder.fit_transform(labels)\n",
    "\n",
    "for i in range(len( encoded_labels.toarray())):\n",
    "    encoded_result.append(np.argmax(encoded_labels.toarray()[i]))\n",
    "\n",
    "print(encoded_result)"
   ]
  },
  {
   "cell_type": "code",
   "execution_count": null,
   "id": "34b5ce0b",
   "metadata": {},
   "outputs": [],
   "source": []
  }
 ],
 "metadata": {
  "kernelspec": {
   "display_name": "Python 3 (ipykernel)",
   "language": "python",
   "name": "python3"
  },
  "language_info": {
   "codemirror_mode": {
    "name": "ipython",
    "version": 3
   },
   "file_extension": ".py",
   "mimetype": "text/x-python",
   "name": "python",
   "nbconvert_exporter": "python",
   "pygments_lexer": "ipython3",
   "version": "3.7.13"
  }
 },
 "nbformat": 4,
 "nbformat_minor": 5
}
