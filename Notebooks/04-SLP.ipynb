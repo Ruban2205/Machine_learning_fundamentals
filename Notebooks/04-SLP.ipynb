{
 "cells": [
  {
   "cell_type": "markdown",
   "id": "c7c0a93f",
   "metadata": {},
   "source": [
    "## <span style=\"color : green\"> Single Layer Perceptron </span>\n",
    "\n",
    "# <center> Table of Contents </center>\n",
    "\n",
    "1. Train a single layer perceptron model and determine the minimum error below 0.2\n",
    "2. To compute the final weight of each attribute\n",
    "1. To plot the epooch vs error plot"
   ]
  },
  {
   "cell_type": "code",
   "execution_count": null,
   "id": "12bd5ee1",
   "metadata": {},
   "outputs": [],
   "source": []
  }
 ],
 "metadata": {
  "kernelspec": {
   "display_name": "Python 3 (ipykernel)",
   "language": "python",
   "name": "python3"
  },
  "language_info": {
   "codemirror_mode": {
    "name": "ipython",
    "version": 3
   },
   "file_extension": ".py",
   "mimetype": "text/x-python",
   "name": "python",
   "nbconvert_exporter": "python",
   "pygments_lexer": "ipython3",
   "version": "3.7.13"
  }
 },
 "nbformat": 4,
 "nbformat_minor": 5
}
