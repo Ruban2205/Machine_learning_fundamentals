{
  "cells": [
    {
      "attachments": {},
      "cell_type": "markdown",
      "id": "f9429aee",
      "metadata": {},
      "source": [
        "## <span style=\"color : green\"> Association Rule Mining </span>\n",
        "\n",
        "# <center> Table of Contents </center>\n",
        "\n",
        "1. Encode the data into Transcript\n",
        "1. Train the apriori algorithm and compute t\n"
      ]
    },
    {
      "cell_type": "markdown",
      "id": "JbYn9IiKB5Fz",
      "metadata": {
        "id": "JbYn9IiKB5Fz"
      },
      "source": [
        "### **Apriori Algorithm**"
      ]
    },
    {
      "cell_type": "markdown",
      "id": "cHzTC_3yBOK9",
      "metadata": {
        "id": "cHzTC_3yBOK9"
      },
      "source": [
        "###Description\n",
        "The Apriori algorithm uses frequent itemsets to generate association rules, and it is designed to work on the databases that contain transactions. With the help of these association rule, it determines how strongly or how weakly two objects are connected. This algorithm uses a breadth-first search and Hash Tree to calculate the itemset associations efficiently. It is the iterative process for finding the frequent itemsets from the large dataset."
      ]
    },
    {
      "cell_type": "code",
      "execution_count": null,
      "id": "bbe4a5a8",
      "metadata": {
        "colab": {
          "base_uri": "https://localhost:8080/"
        },
        "id": "bbe4a5a8",
        "outputId": "96fabd5c-2cae-4de7-cd33-ef5a4de82a0f"
      },
      "outputs": [
        {
          "name": "stdout",
          "output_type": "stream",
          "text": [
            "Looking in indexes: https://pypi.org/simple, https://us-python.pkg.dev/colab-wheels/public/simple/\n",
            "Collecting apyori\n",
            "  Downloading apyori-1.1.2.tar.gz (8.6 kB)\n",
            "  Preparing metadata (setup.py) ... \u001b[?25l\u001b[?25hdone\n",
            "Building wheels for collected packages: apyori\n",
            "  Building wheel for apyori (setup.py) ... \u001b[?25l\u001b[?25hdone\n",
            "  Created wheel for apyori: filename=apyori-1.1.2-py3-none-any.whl size=5976 sha256=04468732c5dec7adaae5934ab9f10b06387f607f281532277fac82cf65635c65\n",
            "  Stored in directory: /root/.cache/pip/wheels/32/2a/54/10c595515f385f3726642b10c60bf788029e8f3a1323e3913a\n",
            "Successfully built apyori\n",
            "Installing collected packages: apyori\n",
            "Successfully installed apyori-1.1.2\n"
          ]
        }
      ],
      "source": [
        "! pip install apyori"
      ]
    },
    {
      "cell_type": "code",
      "execution_count": null,
      "id": "a69c5cd7",
      "metadata": {
        "id": "a69c5cd7"
      },
      "outputs": [],
      "source": [
        "import pandas as pd\n",
        "import numpy as np\n",
        "import matplotlib.pyplot as plt\n",
        "import seaborn as sns\n",
        "from apyori import apriori\n"
      ]
    },
    {
      "cell_type": "markdown",
      "id": "e5a314b6",
      "metadata": {
        "id": "e5a314b6"
      },
      "source": [
        "## 1) Read the data"
      ]
    },
    {
      "cell_type": "code",
      "execution_count": null,
      "id": "4ca64f6f",
      "metadata": {
        "colab": {
          "base_uri": "https://localhost:8080/",
          "height": 206
        },
        "id": "4ca64f6f",
        "outputId": "bfd090ec-e3de-43fb-f7f6-c767e8848968"
      },
      "outputs": [
        {
          "data": {
            "text/html": [
              "\n",
              "  <div id=\"df-4b27991c-a9b7-497e-977f-6f2c1fc9bbb1\">\n",
              "    <div class=\"colab-df-container\">\n",
              "      <div>\n",
              "<style scoped>\n",
              "    .dataframe tbody tr th:only-of-type {\n",
              "        vertical-align: middle;\n",
              "    }\n",
              "\n",
              "    .dataframe tbody tr th {\n",
              "        vertical-align: top;\n",
              "    }\n",
              "\n",
              "    .dataframe thead th {\n",
              "        text-align: right;\n",
              "    }\n",
              "</style>\n",
              "<table border=\"1\" class=\"dataframe\">\n",
              "  <thead>\n",
              "    <tr style=\"text-align: right;\">\n",
              "      <th></th>\n",
              "      <th>PID</th>\n",
              "      <th>Item</th>\n",
              "    </tr>\n",
              "  </thead>\n",
              "  <tbody>\n",
              "    <tr>\n",
              "      <th>0</th>\n",
              "      <td>1</td>\n",
              "      <td>burgers,meatballs,eggs</td>\n",
              "    </tr>\n",
              "    <tr>\n",
              "      <th>1</th>\n",
              "      <td>2</td>\n",
              "      <td>mineral water,milk,energy bar,whole wheat rice...</td>\n",
              "    </tr>\n",
              "    <tr>\n",
              "      <th>2</th>\n",
              "      <td>3</td>\n",
              "      <td>low fat yogurt</td>\n",
              "    </tr>\n",
              "    <tr>\n",
              "      <th>3</th>\n",
              "      <td>4</td>\n",
              "      <td>whole wheat pasta,french fries</td>\n",
              "    </tr>\n",
              "    <tr>\n",
              "      <th>4</th>\n",
              "      <td>5</td>\n",
              "      <td>soup,light cream,shallot</td>\n",
              "    </tr>\n",
              "  </tbody>\n",
              "</table>\n",
              "</div>\n",
              "      <button class=\"colab-df-convert\" onclick=\"convertToInteractive('df-4b27991c-a9b7-497e-977f-6f2c1fc9bbb1')\"\n",
              "              title=\"Convert this dataframe to an interactive table.\"\n",
              "              style=\"display:none;\">\n",
              "        \n",
              "  <svg xmlns=\"http://www.w3.org/2000/svg\" height=\"24px\"viewBox=\"0 0 24 24\"\n",
              "       width=\"24px\">\n",
              "    <path d=\"M0 0h24v24H0V0z\" fill=\"none\"/>\n",
              "    <path d=\"M18.56 5.44l.94 2.06.94-2.06 2.06-.94-2.06-.94-.94-2.06-.94 2.06-2.06.94zm-11 1L8.5 8.5l.94-2.06 2.06-.94-2.06-.94L8.5 2.5l-.94 2.06-2.06.94zm10 10l.94 2.06.94-2.06 2.06-.94-2.06-.94-.94-2.06-.94 2.06-2.06.94z\"/><path d=\"M17.41 7.96l-1.37-1.37c-.4-.4-.92-.59-1.43-.59-.52 0-1.04.2-1.43.59L10.3 9.45l-7.72 7.72c-.78.78-.78 2.05 0 2.83L4 21.41c.39.39.9.59 1.41.59.51 0 1.02-.2 1.41-.59l7.78-7.78 2.81-2.81c.8-.78.8-2.07 0-2.86zM5.41 20L4 18.59l7.72-7.72 1.47 1.35L5.41 20z\"/>\n",
              "  </svg>\n",
              "      </button>\n",
              "      \n",
              "  <style>\n",
              "    .colab-df-container {\n",
              "      display:flex;\n",
              "      flex-wrap:wrap;\n",
              "      gap: 12px;\n",
              "    }\n",
              "\n",
              "    .colab-df-convert {\n",
              "      background-color: #E8F0FE;\n",
              "      border: none;\n",
              "      border-radius: 50%;\n",
              "      cursor: pointer;\n",
              "      display: none;\n",
              "      fill: #1967D2;\n",
              "      height: 32px;\n",
              "      padding: 0 0 0 0;\n",
              "      width: 32px;\n",
              "    }\n",
              "\n",
              "    .colab-df-convert:hover {\n",
              "      background-color: #E2EBFA;\n",
              "      box-shadow: 0px 1px 2px rgba(60, 64, 67, 0.3), 0px 1px 3px 1px rgba(60, 64, 67, 0.15);\n",
              "      fill: #174EA6;\n",
              "    }\n",
              "\n",
              "    [theme=dark] .colab-df-convert {\n",
              "      background-color: #3B4455;\n",
              "      fill: #D2E3FC;\n",
              "    }\n",
              "\n",
              "    [theme=dark] .colab-df-convert:hover {\n",
              "      background-color: #434B5C;\n",
              "      box-shadow: 0px 1px 3px 1px rgba(0, 0, 0, 0.15);\n",
              "      filter: drop-shadow(0px 1px 2px rgba(0, 0, 0, 0.3));\n",
              "      fill: #FFFFFF;\n",
              "    }\n",
              "  </style>\n",
              "\n",
              "      <script>\n",
              "        const buttonEl =\n",
              "          document.querySelector('#df-4b27991c-a9b7-497e-977f-6f2c1fc9bbb1 button.colab-df-convert');\n",
              "        buttonEl.style.display =\n",
              "          google.colab.kernel.accessAllowed ? 'block' : 'none';\n",
              "\n",
              "        async function convertToInteractive(key) {\n",
              "          const element = document.querySelector('#df-4b27991c-a9b7-497e-977f-6f2c1fc9bbb1');\n",
              "          const dataTable =\n",
              "            await google.colab.kernel.invokeFunction('convertToInteractive',\n",
              "                                                     [key], {});\n",
              "          if (!dataTable) return;\n",
              "\n",
              "          const docLinkHtml = 'Like what you see? Visit the ' +\n",
              "            '<a target=\"_blank\" href=https://colab.research.google.com/notebooks/data_table.ipynb>data table notebook</a>'\n",
              "            + ' to learn more about interactive tables.';\n",
              "          element.innerHTML = '';\n",
              "          dataTable['output_type'] = 'display_data';\n",
              "          await google.colab.output.renderOutput(dataTable, element);\n",
              "          const docLink = document.createElement('div');\n",
              "          docLink.innerHTML = docLinkHtml;\n",
              "          element.appendChild(docLink);\n",
              "        }\n",
              "      </script>\n",
              "    </div>\n",
              "  </div>\n",
              "  "
            ],
            "text/plain": [
              "   PID                                               Item\n",
              "0    1                             burgers,meatballs,eggs\n",
              "1    2  mineral water,milk,energy bar,whole wheat rice...\n",
              "2    3                                     low fat yogurt\n",
              "3    4                     whole wheat pasta,french fries\n",
              "4    5                           soup,light cream,shallot"
            ]
          },
          "execution_count": 3,
          "metadata": {},
          "output_type": "execute_result"
        }
      ],
      "source": [
        "df=pd.read_csv(\"Shop1.csv\")\n",
        "df.head()"
      ]
    },
    {
      "cell_type": "markdown",
      "id": "83362417",
      "metadata": {
        "id": "83362417"
      },
      "source": [
        "## 2) Display the candidate set and frequency set for every iteration"
      ]
    },
    {
      "cell_type": "code",
      "execution_count": null,
      "id": "56691e03",
      "metadata": {
        "colab": {
          "base_uri": "https://localhost:8080/"
        },
        "id": "56691e03",
        "outputId": "3f9666b0-075e-48c1-ef07-17e13342dcb4",
        "scrolled": true
      },
      "outputs": [
        {
          "name": "stdout",
          "output_type": "stream",
          "text": [
            "Candidate Set:  [' ', 'i', 'r']\n",
            "Support:  0.8\n",
            "Candidate Set:  ['n', ' ', 'r']\n",
            "Support:  0.8\n",
            "Candidate Set:  [' ', 'r', 'o']\n",
            "Support:  0.84\n",
            "Candidate Set:  ['e', ' ', 'r', ',']\n",
            "Support:  0.84\n",
            "Candidate Set:  ['r', ' ', 'i', ',']\n",
            "Support:  0.8\n",
            "Candidate Set:  ['n', ' ', 'r', ',']\n",
            "Support:  0.8\n",
            "Candidate Set:  [' ', 'r', ',', 'o']\n",
            "Support:  0.8\n",
            "Candidate Set:  [' ', 'i', 'r', 'a']\n",
            "Support:  0.8\n",
            "Candidate Set:  ['n', ' ', 'r', 'a']\n",
            "Support:  0.8\n",
            "Candidate Set:  [' ', 'r', 'o', 'a']\n",
            "Support:  0.84\n",
            "Candidate Set:  ['e', ' ', 'i', 'r']\n",
            "Support:  0.8\n",
            "Candidate Set:  ['e', 'n', ' ', 'r']\n",
            "Support:  0.8\n",
            "Candidate Set:  ['e', ' ', 'r', 'o']\n",
            "Support:  0.8\n",
            "Candidate Set:  ['t', ' ', 'i', 'r']\n",
            "Support:  0.8\n",
            "Candidate Set:  [' ', 'r', 'o', 'l']\n",
            "Support:  0.8\n",
            "Candidate Set:  ['t', 'n', ' ', 'r']\n",
            "Support:  0.8\n",
            "Candidate Set:  ['t', ' ', 'r', 'o']\n",
            "Support:  0.84\n",
            "Candidate Set:  [',', 'e', 'a', ' ', 'r']\n",
            "Support:  0.84\n",
            "Candidate Set:  [',', 'a', ' ', 'r', 'i']\n",
            "Support:  0.8\n",
            "Candidate Set:  ['n', ',', 'a', ' ', 'r']\n",
            "Support:  0.8\n",
            "Candidate Set:  [',', 'o', 'a', ' ', 'r']\n",
            "Support:  0.8\n",
            "Candidate Set:  [',', 'e', ' ', 'r', 'i']\n",
            "Support:  0.8\n",
            "Candidate Set:  ['n', ',', 'e', ' ', 'r']\n",
            "Support:  0.8\n",
            "Candidate Set:  [',', 'o', 'e', ' ', 'r']\n",
            "Support:  0.8\n",
            "Candidate Set:  [',', 'e', 't', ' ', 'r']\n",
            "Support:  0.84\n",
            "Candidate Set:  [',', 't', ' ', 'r', 'i']\n",
            "Support:  0.8\n",
            "Candidate Set:  ['n', ',', 't', ' ', 'r']\n",
            "Support:  0.8\n",
            "Candidate Set:  [',', 'o', 't', ' ', 'r']\n",
            "Support:  0.8\n",
            "Candidate Set:  ['e', 'a', ' ', 'r', 'i']\n",
            "Support:  0.8\n",
            "Candidate Set:  ['n', 'e', 'a', ' ', 'r']\n",
            "Support:  0.8\n",
            "Candidate Set:  ['o', 'e', 'a', ' ', 'r']\n",
            "Support:  0.8\n",
            "Candidate Set:  ['t', 'a', ' ', 'r', 'i']\n",
            "Support:  0.8\n",
            "Candidate Set:  ['o', 'a', ' ', 'r', 'l']\n",
            "Support:  0.8\n",
            "Candidate Set:  ['n', 't', 'a', ' ', 'r']\n",
            "Support:  0.8\n",
            "Candidate Set:  ['o', 't', 'a', ' ', 'r']\n",
            "Support:  0.84\n",
            "Candidate Set:  ['e', 't', ' ', 'r', 'i']\n",
            "Support:  0.8\n",
            "Candidate Set:  ['n', 'e', 't', ' ', 'r']\n",
            "Support:  0.8\n",
            "Candidate Set:  ['o', 'e', 't', ' ', 'r']\n",
            "Support:  0.8\n",
            "Candidate Set:  ['o', 't', ' ', 'r', 'l']\n",
            "Support:  0.8\n",
            "Candidate Set:  [',', 'e', 'a', ' ', 'r', 'i']\n",
            "Support:  0.8\n",
            "Candidate Set:  ['n', ',', 'e', 'a', ' ', 'r']\n",
            "Support:  0.8\n",
            "Candidate Set:  [',', 'o', 'e', 'a', ' ', 'r']\n",
            "Support:  0.8\n",
            "Candidate Set:  [',', 'e', 'a', 't', ' ', 'r']\n",
            "Support:  0.84\n",
            "Candidate Set:  [',', 'a', 't', ' ', 'r', 'i']\n",
            "Support:  0.8\n",
            "Candidate Set:  ['n', ',', 'a', 't', ' ', 'r']\n",
            "Support:  0.8\n",
            "Candidate Set:  [',', 'o', 'a', 't', ' ', 'r']\n",
            "Support:  0.8\n",
            "Candidate Set:  [',', 'e', 't', ' ', 'r', 'i']\n",
            "Support:  0.8\n",
            "Candidate Set:  ['n', ',', 'e', 't', ' ', 'r']\n",
            "Support:  0.8\n",
            "Candidate Set:  [',', 'o', 'e', 't', ' ', 'r']\n",
            "Support:  0.8\n",
            "Candidate Set:  ['e', 'a', 't', ' ', 'r', 'i']\n",
            "Support:  0.8\n",
            "Candidate Set:  ['n', 'e', 'a', 't', ' ', 'r']\n",
            "Support:  0.8\n",
            "Candidate Set:  ['o', 'e', 'a', 't', ' ', 'r']\n",
            "Support:  0.8\n",
            "Candidate Set:  ['o', 'a', 't', ' ', 'r', 'l']\n",
            "Support:  0.8\n",
            "Candidate Set:  [',', 'e', 'a', 't', ' ', 'r', 'i']\n",
            "Support:  0.8\n",
            "Candidate Set:  ['n', ',', 'e', 'a', 't', ' ', 'r']\n",
            "Support:  0.8\n",
            "Candidate Set:  [',', 'o', 'e', 'a', 't', ' ', 'r']\n",
            "Support:  0.8\n"
          ]
        }
      ],
      "source": [
        "from apyori import apriori\n",
        "import pandas as pd\n",
        "\n",
        "items = df['Item'].values\n",
        "data_list = items.tolist()\n",
        "# data_list = [x.split(',') for x in items.tolist() ]\n",
        "# data_list = reduce(lambda acc, sublist: acc + sublist, data_list)\n",
        "\n",
        "rules = apriori(data_list, min_support=0.8, \\\n",
        "                min_confidence=0.8, \\\n",
        "                min_lift=1.1, \\\n",
        "                min_length=2)\n",
        "\n",
        "for rule in rules:\n",
        "    print(\"Candidate Set: \", list(rule.items))\n",
        "    print(\"Support: \", rule.support)\n",
        "\n"
      ]
    },
    {
      "cell_type": "markdown",
      "id": "350674a5",
      "metadata": {
        "id": "350674a5"
      },
      "source": [
        "## 3) Display the association rules"
      ]
    },
    {
      "cell_type": "code",
      "execution_count": null,
      "id": "24936632",
      "metadata": {
        "colab": {
          "base_uri": "https://localhost:8080/"
        },
        "id": "24936632",
        "outputId": "ac3423ac-db89-4876-ff04-686c1f68de29",
        "scrolled": true
      },
      "outputs": [
        {
          "name": "stdout",
          "output_type": "stream",
          "text": [
            "RelationRecord(items=frozenset({' ', 'r', 'o'}), support=0.84, ordered_statistics=[OrderedStatistic(items_base=frozenset({' '}), items_add=frozenset({'r', 'o'}), confidence=0.9545454545454545, lift=1.1363636363636362), OrderedStatistic(items_base=frozenset({'r', 'o'}), items_add=frozenset({' '}), confidence=1.0, lift=1.1363636363636365)])\n",
            "RelationRecord(items=frozenset({'e', ' ', 'r', ','}), support=0.84, ordered_statistics=[OrderedStatistic(items_base=frozenset({' ', ','}), items_add=frozenset({'e', 'r'}), confidence=1.0, lift=1.1363636363636365), OrderedStatistic(items_base=frozenset({'e', ' '}), items_add=frozenset({',', 'r'}), confidence=1.0, lift=1.1363636363636365), OrderedStatistic(items_base=frozenset({',', 'r'}), items_add=frozenset({'e', ' '}), confidence=0.9545454545454545, lift=1.1363636363636362), OrderedStatistic(items_base=frozenset({'e', 'r'}), items_add=frozenset({' ', ','}), confidence=0.9545454545454545, lift=1.1363636363636362)])\n",
            "RelationRecord(items=frozenset({' ', 'r', 'o', 'a'}), support=0.84, ordered_statistics=[OrderedStatistic(items_base=frozenset({' '}), items_add=frozenset({'a', 'r', 'o'}), confidence=0.9545454545454545, lift=1.1363636363636362), OrderedStatistic(items_base=frozenset({' ', 'a'}), items_add=frozenset({'r', 'o'}), confidence=0.9545454545454545, lift=1.1363636363636362), OrderedStatistic(items_base=frozenset({'r', 'o'}), items_add=frozenset({' ', 'a'}), confidence=1.0, lift=1.1363636363636365), OrderedStatistic(items_base=frozenset({'a', 'r', 'o'}), items_add=frozenset({' '}), confidence=1.0, lift=1.1363636363636365)])\n",
            "RelationRecord(items=frozenset({'t', ' ', 'r', 'o'}), support=0.84, ordered_statistics=[OrderedStatistic(items_base=frozenset({' '}), items_add=frozenset({'t', 'r', 'o'}), confidence=0.9545454545454545, lift=1.1363636363636362), OrderedStatistic(items_base=frozenset({'t', ' '}), items_add=frozenset({'r', 'o'}), confidence=0.9545454545454545, lift=1.1363636363636362), OrderedStatistic(items_base=frozenset({'r', 'o'}), items_add=frozenset({'t', ' '}), confidence=1.0, lift=1.1363636363636365), OrderedStatistic(items_base=frozenset({'t', 'r', 'o'}), items_add=frozenset({' '}), confidence=1.0, lift=1.1363636363636365)])\n",
            "RelationRecord(items=frozenset({',', 'e', 'a', ' ', 'r'}), support=0.84, ordered_statistics=[OrderedStatistic(items_base=frozenset({' ', ','}), items_add=frozenset({'e', 'a', 'r'}), confidence=1.0, lift=1.1363636363636365), OrderedStatistic(items_base=frozenset({'e', ' '}), items_add=frozenset({',', 'r', 'a'}), confidence=1.0, lift=1.1363636363636365), OrderedStatistic(items_base=frozenset({',', 'r'}), items_add=frozenset({'e', 'a', ' '}), confidence=0.9545454545454545, lift=1.1363636363636362), OrderedStatistic(items_base=frozenset({'e', 'r'}), items_add=frozenset({',', ' ', 'a'}), confidence=0.9545454545454545, lift=1.1363636363636362), OrderedStatistic(items_base=frozenset({' ', ',', 'a'}), items_add=frozenset({'e', 'r'}), confidence=1.0, lift=1.1363636363636365), OrderedStatistic(items_base=frozenset({'e', ' ', 'a'}), items_add=frozenset({',', 'r'}), confidence=1.0, lift=1.1363636363636365), OrderedStatistic(items_base=frozenset({',', 'r', 'a'}), items_add=frozenset({'e', ' '}), confidence=0.9545454545454545, lift=1.1363636363636362), OrderedStatistic(items_base=frozenset({'e', 'a', 'r'}), items_add=frozenset({',', ' '}), confidence=0.9545454545454545, lift=1.1363636363636362)])\n",
            "RelationRecord(items=frozenset({',', 'e', 't', ' ', 'r'}), support=0.84, ordered_statistics=[OrderedStatistic(items_base=frozenset({' ', ','}), items_add=frozenset({'e', 't', 'r'}), confidence=1.0, lift=1.1363636363636365), OrderedStatistic(items_base=frozenset({'e', ' '}), items_add=frozenset({'t', ',', 'r'}), confidence=1.0, lift=1.1363636363636365), OrderedStatistic(items_base=frozenset({',', 'r'}), items_add=frozenset({'e', 't', ' '}), confidence=0.9545454545454545, lift=1.1363636363636362), OrderedStatistic(items_base=frozenset({'e', 'r'}), items_add=frozenset({'t', ',', ' '}), confidence=0.9545454545454545, lift=1.1363636363636362), OrderedStatistic(items_base=frozenset({'t', ' ', ','}), items_add=frozenset({'e', 'r'}), confidence=1.0, lift=1.1363636363636365), OrderedStatistic(items_base=frozenset({'e', 't', ' '}), items_add=frozenset({',', 'r'}), confidence=1.0, lift=1.1363636363636365), OrderedStatistic(items_base=frozenset({'t', ',', 'r'}), items_add=frozenset({'e', ' '}), confidence=0.9545454545454545, lift=1.1363636363636362), OrderedStatistic(items_base=frozenset({'e', 't', 'r'}), items_add=frozenset({',', ' '}), confidence=0.9545454545454545, lift=1.1363636363636362)])\n",
            "RelationRecord(items=frozenset({'o', 't', 'a', ' ', 'r'}), support=0.84, ordered_statistics=[OrderedStatistic(items_base=frozenset({' '}), items_add=frozenset({'t', 'r', 'o', 'a'}), confidence=0.9545454545454545, lift=1.1363636363636362), OrderedStatistic(items_base=frozenset({' ', 'a'}), items_add=frozenset({'t', 'r', 'o'}), confidence=0.9545454545454545, lift=1.1363636363636362), OrderedStatistic(items_base=frozenset({'t', ' '}), items_add=frozenset({'a', 'r', 'o'}), confidence=0.9545454545454545, lift=1.1363636363636362), OrderedStatistic(items_base=frozenset({'r', 'o'}), items_add=frozenset({'t', ' ', 'a'}), confidence=1.0, lift=1.1363636363636365), OrderedStatistic(items_base=frozenset({'t', ' ', 'a'}), items_add=frozenset({'r', 'o'}), confidence=0.9545454545454545, lift=1.1363636363636362), OrderedStatistic(items_base=frozenset({'a', 'r', 'o'}), items_add=frozenset({'t', ' '}), confidence=1.0, lift=1.1363636363636365), OrderedStatistic(items_base=frozenset({'t', 'r', 'o'}), items_add=frozenset({'a', ' '}), confidence=1.0, lift=1.1363636363636365), OrderedStatistic(items_base=frozenset({'t', 'a', 'r', 'o'}), items_add=frozenset({' '}), confidence=1.0, lift=1.1363636363636365)])\n",
            "RelationRecord(items=frozenset({',', 'e', 'a', 't', ' ', 'r'}), support=0.84, ordered_statistics=[OrderedStatistic(items_base=frozenset({' ', ','}), items_add=frozenset({'e', 't', 'a', 'r'}), confidence=1.0, lift=1.1363636363636365), OrderedStatistic(items_base=frozenset({'e', ' '}), items_add=frozenset({'t', ',', 'r', 'a'}), confidence=1.0, lift=1.1363636363636365), OrderedStatistic(items_base=frozenset({',', 'r'}), items_add=frozenset({'e', 't', 'a', ' '}), confidence=0.9545454545454545, lift=1.1363636363636362), OrderedStatistic(items_base=frozenset({'e', 'r'}), items_add=frozenset({'t', ',', ' ', 'a'}), confidence=0.9545454545454545, lift=1.1363636363636362), OrderedStatistic(items_base=frozenset({' ', ',', 'a'}), items_add=frozenset({'e', 't', 'r'}), confidence=1.0, lift=1.1363636363636365), OrderedStatistic(items_base=frozenset({'t', ' ', ','}), items_add=frozenset({'e', 'a', 'r'}), confidence=1.0, lift=1.1363636363636365), OrderedStatistic(items_base=frozenset({'e', ' ', 'a'}), items_add=frozenset({'t', ',', 'r'}), confidence=1.0, lift=1.1363636363636365), OrderedStatistic(items_base=frozenset({'e', 't', ' '}), items_add=frozenset({',', 'r', 'a'}), confidence=1.0, lift=1.1363636363636365), OrderedStatistic(items_base=frozenset({',', 'r', 'a'}), items_add=frozenset({'e', 't', ' '}), confidence=0.9545454545454545, lift=1.1363636363636362), OrderedStatistic(items_base=frozenset({'t', ',', 'r'}), items_add=frozenset({'e', 'a', ' '}), confidence=0.9545454545454545, lift=1.1363636363636362), OrderedStatistic(items_base=frozenset({'e', 'a', 'r'}), items_add=frozenset({'t', ',', ' '}), confidence=0.9545454545454545, lift=1.1363636363636362), OrderedStatistic(items_base=frozenset({'e', 't', 'r'}), items_add=frozenset({',', ' ', 'a'}), confidence=0.9545454545454545, lift=1.1363636363636362), OrderedStatistic(items_base=frozenset({'t', ' ', ',', 'a'}), items_add=frozenset({'e', 'r'}), confidence=1.0, lift=1.1363636363636365), OrderedStatistic(items_base=frozenset({'e', 't', ' ', 'a'}), items_add=frozenset({',', 'r'}), confidence=1.0, lift=1.1363636363636365), OrderedStatistic(items_base=frozenset({'t', ',', 'r', 'a'}), items_add=frozenset({'e', ' '}), confidence=0.9545454545454545, lift=1.1363636363636362), OrderedStatistic(items_base=frozenset({'e', 't', 'a', 'r'}), items_add=frozenset({',', ' '}), confidence=0.9545454545454545, lift=1.1363636363636362)])\n"
          ]
        }
      ],
      "source": [
        "from apyori import apriori\n",
        "import pandas as pd\n",
        "\n",
        "items = df['Item'].values\n",
        "data_list = items.tolist()\n",
        "\n",
        "rules = apriori(data_list, min_support=0.83, \\\n",
        "                min_confidence=0.9, \\\n",
        "                min_lift=1.1, \\\n",
        "                min_length=2, verbose=True)\n",
        "\n",
        "for rule in rules :\n",
        "    print(rule)\n"
      ]
    },
    {
      "cell_type": "markdown",
      "id": "1ccf625f",
      "metadata": {
        "id": "1ccf625f"
      },
      "source": [
        "## 4) Find all the rules of these subsets that have higher confidence value"
      ]
    },
    {
      "cell_type": "code",
      "execution_count": null,
      "id": "a8a35c0f",
      "metadata": {
        "colab": {
          "base_uri": "https://localhost:8080/"
        },
        "id": "a8a35c0f",
        "outputId": "2f7b18b9-0788-4758-9142-3aa06d39e4be",
        "scrolled": true
      },
      "outputs": [
        {
          "name": "stdout",
          "output_type": "stream",
          "text": [
            "OrderedStatistic(items_base=frozenset({' '}), items_add=frozenset({'r', 'o'}), confidence=0.9545454545454545, lift=1.1363636363636362)\n",
            "OrderedStatistic(items_base=frozenset({'r', 'o'}), items_add=frozenset({' '}), confidence=1.0, lift=1.1363636363636365)\n",
            "OrderedStatistic(items_base=frozenset({' ', ','}), items_add=frozenset({'e', 'r'}), confidence=1.0, lift=1.1363636363636365)\n",
            "OrderedStatistic(items_base=frozenset({'e', ' '}), items_add=frozenset({',', 'r'}), confidence=1.0, lift=1.1363636363636365)\n",
            "OrderedStatistic(items_base=frozenset({',', 'r'}), items_add=frozenset({'e', ' '}), confidence=0.9545454545454545, lift=1.1363636363636362)\n",
            "OrderedStatistic(items_base=frozenset({'e', 'r'}), items_add=frozenset({' ', ','}), confidence=0.9545454545454545, lift=1.1363636363636362)\n",
            "OrderedStatistic(items_base=frozenset({' '}), items_add=frozenset({'a', 'r', 'o'}), confidence=0.9545454545454545, lift=1.1363636363636362)\n",
            "OrderedStatistic(items_base=frozenset({' ', 'a'}), items_add=frozenset({'r', 'o'}), confidence=0.9545454545454545, lift=1.1363636363636362)\n",
            "OrderedStatistic(items_base=frozenset({'r', 'o'}), items_add=frozenset({' ', 'a'}), confidence=1.0, lift=1.1363636363636365)\n",
            "OrderedStatistic(items_base=frozenset({'a', 'r', 'o'}), items_add=frozenset({' '}), confidence=1.0, lift=1.1363636363636365)\n",
            "OrderedStatistic(items_base=frozenset({' '}), items_add=frozenset({'t', 'r', 'o'}), confidence=0.9545454545454545, lift=1.1363636363636362)\n",
            "OrderedStatistic(items_base=frozenset({'t', ' '}), items_add=frozenset({'r', 'o'}), confidence=0.9545454545454545, lift=1.1363636363636362)\n",
            "OrderedStatistic(items_base=frozenset({'r', 'o'}), items_add=frozenset({'t', ' '}), confidence=1.0, lift=1.1363636363636365)\n",
            "OrderedStatistic(items_base=frozenset({'t', 'r', 'o'}), items_add=frozenset({' '}), confidence=1.0, lift=1.1363636363636365)\n",
            "OrderedStatistic(items_base=frozenset({' ', ','}), items_add=frozenset({'e', 'a', 'r'}), confidence=1.0, lift=1.1363636363636365)\n",
            "OrderedStatistic(items_base=frozenset({'e', ' '}), items_add=frozenset({',', 'r', 'a'}), confidence=1.0, lift=1.1363636363636365)\n",
            "OrderedStatistic(items_base=frozenset({',', 'r'}), items_add=frozenset({'e', 'a', ' '}), confidence=0.9545454545454545, lift=1.1363636363636362)\n",
            "OrderedStatistic(items_base=frozenset({'e', 'r'}), items_add=frozenset({',', ' ', 'a'}), confidence=0.9545454545454545, lift=1.1363636363636362)\n",
            "OrderedStatistic(items_base=frozenset({' ', ',', 'a'}), items_add=frozenset({'e', 'r'}), confidence=1.0, lift=1.1363636363636365)\n",
            "OrderedStatistic(items_base=frozenset({'e', ' ', 'a'}), items_add=frozenset({',', 'r'}), confidence=1.0, lift=1.1363636363636365)\n",
            "OrderedStatistic(items_base=frozenset({',', 'r', 'a'}), items_add=frozenset({'e', ' '}), confidence=0.9545454545454545, lift=1.1363636363636362)\n",
            "OrderedStatistic(items_base=frozenset({'e', 'a', 'r'}), items_add=frozenset({',', ' '}), confidence=0.9545454545454545, lift=1.1363636363636362)\n",
            "OrderedStatistic(items_base=frozenset({' ', ','}), items_add=frozenset({'e', 't', 'r'}), confidence=1.0, lift=1.1363636363636365)\n",
            "OrderedStatistic(items_base=frozenset({'e', ' '}), items_add=frozenset({'t', ',', 'r'}), confidence=1.0, lift=1.1363636363636365)\n",
            "OrderedStatistic(items_base=frozenset({',', 'r'}), items_add=frozenset({'e', 't', ' '}), confidence=0.9545454545454545, lift=1.1363636363636362)\n",
            "OrderedStatistic(items_base=frozenset({'e', 'r'}), items_add=frozenset({'t', ',', ' '}), confidence=0.9545454545454545, lift=1.1363636363636362)\n",
            "OrderedStatistic(items_base=frozenset({'t', ' ', ','}), items_add=frozenset({'e', 'r'}), confidence=1.0, lift=1.1363636363636365)\n",
            "OrderedStatistic(items_base=frozenset({'e', 't', ' '}), items_add=frozenset({',', 'r'}), confidence=1.0, lift=1.1363636363636365)\n",
            "OrderedStatistic(items_base=frozenset({'t', ',', 'r'}), items_add=frozenset({'e', ' '}), confidence=0.9545454545454545, lift=1.1363636363636362)\n",
            "OrderedStatistic(items_base=frozenset({'e', 't', 'r'}), items_add=frozenset({',', ' '}), confidence=0.9545454545454545, lift=1.1363636363636362)\n",
            "OrderedStatistic(items_base=frozenset({' '}), items_add=frozenset({'t', 'r', 'o', 'a'}), confidence=0.9545454545454545, lift=1.1363636363636362)\n",
            "OrderedStatistic(items_base=frozenset({' ', 'a'}), items_add=frozenset({'t', 'r', 'o'}), confidence=0.9545454545454545, lift=1.1363636363636362)\n",
            "OrderedStatistic(items_base=frozenset({'t', ' '}), items_add=frozenset({'a', 'r', 'o'}), confidence=0.9545454545454545, lift=1.1363636363636362)\n",
            "OrderedStatistic(items_base=frozenset({'r', 'o'}), items_add=frozenset({'t', ' ', 'a'}), confidence=1.0, lift=1.1363636363636365)\n",
            "OrderedStatistic(items_base=frozenset({'t', ' ', 'a'}), items_add=frozenset({'r', 'o'}), confidence=0.9545454545454545, lift=1.1363636363636362)\n",
            "OrderedStatistic(items_base=frozenset({'a', 'r', 'o'}), items_add=frozenset({'t', ' '}), confidence=1.0, lift=1.1363636363636365)\n",
            "OrderedStatistic(items_base=frozenset({'t', 'r', 'o'}), items_add=frozenset({'a', ' '}), confidence=1.0, lift=1.1363636363636365)\n",
            "OrderedStatistic(items_base=frozenset({'t', 'a', 'r', 'o'}), items_add=frozenset({' '}), confidence=1.0, lift=1.1363636363636365)\n",
            "OrderedStatistic(items_base=frozenset({' ', ','}), items_add=frozenset({'e', 't', 'a', 'r'}), confidence=1.0, lift=1.1363636363636365)\n",
            "OrderedStatistic(items_base=frozenset({'e', ' '}), items_add=frozenset({'t', ',', 'r', 'a'}), confidence=1.0, lift=1.1363636363636365)\n",
            "OrderedStatistic(items_base=frozenset({',', 'r'}), items_add=frozenset({'e', 't', 'a', ' '}), confidence=0.9545454545454545, lift=1.1363636363636362)\n",
            "OrderedStatistic(items_base=frozenset({'e', 'r'}), items_add=frozenset({'t', ',', ' ', 'a'}), confidence=0.9545454545454545, lift=1.1363636363636362)\n",
            "OrderedStatistic(items_base=frozenset({' ', ',', 'a'}), items_add=frozenset({'e', 't', 'r'}), confidence=1.0, lift=1.1363636363636365)\n",
            "OrderedStatistic(items_base=frozenset({'t', ' ', ','}), items_add=frozenset({'e', 'a', 'r'}), confidence=1.0, lift=1.1363636363636365)\n",
            "OrderedStatistic(items_base=frozenset({'e', ' ', 'a'}), items_add=frozenset({'t', ',', 'r'}), confidence=1.0, lift=1.1363636363636365)\n",
            "OrderedStatistic(items_base=frozenset({'e', 't', ' '}), items_add=frozenset({',', 'r', 'a'}), confidence=1.0, lift=1.1363636363636365)\n",
            "OrderedStatistic(items_base=frozenset({',', 'r', 'a'}), items_add=frozenset({'e', 't', ' '}), confidence=0.9545454545454545, lift=1.1363636363636362)\n",
            "OrderedStatistic(items_base=frozenset({'t', ',', 'r'}), items_add=frozenset({'e', 'a', ' '}), confidence=0.9545454545454545, lift=1.1363636363636362)\n",
            "OrderedStatistic(items_base=frozenset({'e', 'a', 'r'}), items_add=frozenset({'t', ',', ' '}), confidence=0.9545454545454545, lift=1.1363636363636362)\n",
            "OrderedStatistic(items_base=frozenset({'e', 't', 'r'}), items_add=frozenset({',', ' ', 'a'}), confidence=0.9545454545454545, lift=1.1363636363636362)\n",
            "OrderedStatistic(items_base=frozenset({'t', ' ', ',', 'a'}), items_add=frozenset({'e', 'r'}), confidence=1.0, lift=1.1363636363636365)\n",
            "OrderedStatistic(items_base=frozenset({'e', 't', ' ', 'a'}), items_add=frozenset({',', 'r'}), confidence=1.0, lift=1.1363636363636365)\n",
            "OrderedStatistic(items_base=frozenset({'t', ',', 'r', 'a'}), items_add=frozenset({'e', ' '}), confidence=0.9545454545454545, lift=1.1363636363636362)\n",
            "OrderedStatistic(items_base=frozenset({'e', 't', 'a', 'r'}), items_add=frozenset({',', ' '}), confidence=0.9545454545454545, lift=1.1363636363636362)\n"
          ]
        }
      ],
      "source": [
        "items = df['Item'].values\n",
        "data_list = items.tolist()\n",
        "\n",
        "rules = apriori(data_list, min_support=0.83, \\\n",
        "                min_confidence=0.9, \\\n",
        "                min_lift=1.1, \\\n",
        "                min_length=2)\n",
        "\n",
        "for rule in rules :\n",
        "    for ordered_statistic in rule.ordered_statistics:\n",
        "        if ordered_statistic.confidence > 0.9:\n",
        "            print(ordered_statistic)"
      ]
    },
    {
      "cell_type": "code",
      "execution_count": null,
      "id": "NISYb7_d2Xqi",
      "metadata": {
        "id": "NISYb7_d2Xqi"
      },
      "outputs": [],
      "source": []
    }
  ],
  "metadata": {
    "colab": {
      "provenance": []
    },
    "kernelspec": {
      "display_name": "Python 3 (ipykernel)",
      "language": "python",
      "name": "python3"
    },
    "language_info": {
      "codemirror_mode": {
        "name": "ipython",
        "version": 3
      },
      "file_extension": ".py",
      "mimetype": "text/x-python",
      "name": "python",
      "nbconvert_exporter": "python",
      "pygments_lexer": "ipython3",
      "version": "3.7.13"
    }
  },
  "nbformat": 4,
  "nbformat_minor": 5
}
