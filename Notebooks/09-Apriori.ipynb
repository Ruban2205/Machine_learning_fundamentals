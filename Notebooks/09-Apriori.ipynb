{
 "cells": [
  {
   "cell_type": "markdown",
   "id": "370a0dd2",
   "metadata": {},
   "source": [
    "## <span style=\"color : green\"> Association Rule Mining </span>\n",
    "\n",
    "# <center> Table of Contents </center>\n",
    "\n",
    "1. Encode the data into Transcript\n",
    "1. Train the apriori algorithm and compute t"
   ]
  }
 ],
 "metadata": {
  "kernelspec": {
   "display_name": "Python 3 (ipykernel)",
   "language": "python",
   "name": "python3"
  },
  "language_info": {
   "codemirror_mode": {
    "name": "ipython",
    "version": 3
   },
   "file_extension": ".py",
   "mimetype": "text/x-python",
   "name": "python",
   "nbconvert_exporter": "python",
   "pygments_lexer": "ipython3",
   "version": "3.7.13"
  }
 },
 "nbformat": 4,
 "nbformat_minor": 5
}
