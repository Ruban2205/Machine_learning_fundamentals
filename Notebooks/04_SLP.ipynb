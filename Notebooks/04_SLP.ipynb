{
 "cells": [
  {
   "cell_type": "markdown",
   "id": "c7c0a93f",
   "metadata": {},
   "source": [
    "## <span style=\"color : green\"> Single Layer Perceptron </span>\n",
    "\n",
    "# <center> Table of Contents </center>\n",
    "\n",
    "1. Train a single layer perceptron model and determine the minimum error below 0.2\n",
    "2. To compute the final weight of each attribute\n",
    "1. To plot the epooch vs error plot"
   ]
  },
  {
   "cell_type": "code",
   "execution_count": 16,
   "id": "12bd5ee1",
   "metadata": {},
   "outputs": [],
   "source": [
    "import matplotlib.pyplot as plt\n",
    "from tensorflow import keras\n",
    "import pandas as pd\n",
    "import numpy as np\n",
    "import seaborn as sns\n",
    "import tensorflow as tf\n",
    "from sklearn.preprocessing import MinMaxScaler, LabelEncoder\n",
    "from sklearn.model_selection import train_test_split\n",
    "from tensorflow.keras.models import Sequential\n",
    "from tensorflow.keras.layers import Dense\n",
    "from tensorflow.keras.optimizers import Adam\n",
    "from warnings import filterwarnings \n",
    "\n",
    "filterwarnings('ignore')"
   ]
  },
  {
   "cell_type": "code",
   "execution_count": 3,
   "id": "6f3b4714",
   "metadata": {
    "scrolled": true
   },
   "outputs": [
    {
     "data": {
      "text/html": [
       "<div>\n",
       "<style scoped>\n",
       "    .dataframe tbody tr th:only-of-type {\n",
       "        vertical-align: middle;\n",
       "    }\n",
       "\n",
       "    .dataframe tbody tr th {\n",
       "        vertical-align: top;\n",
       "    }\n",
       "\n",
       "    .dataframe thead th {\n",
       "        text-align: right;\n",
       "    }\n",
       "</style>\n",
       "<table border=\"1\" class=\"dataframe\">\n",
       "  <thead>\n",
       "    <tr style=\"text-align: right;\">\n",
       "      <th></th>\n",
       "      <th>island</th>\n",
       "      <th>bill_length_mm</th>\n",
       "      <th>bill_depth_mm</th>\n",
       "      <th>flipper_length_mm</th>\n",
       "      <th>body_mass_g</th>\n",
       "      <th>sex</th>\n",
       "      <th>year</th>\n",
       "      <th>species</th>\n",
       "    </tr>\n",
       "    <tr>\n",
       "      <th>rowid</th>\n",
       "      <th></th>\n",
       "      <th></th>\n",
       "      <th></th>\n",
       "      <th></th>\n",
       "      <th></th>\n",
       "      <th></th>\n",
       "      <th></th>\n",
       "      <th></th>\n",
       "    </tr>\n",
       "  </thead>\n",
       "  <tbody>\n",
       "    <tr>\n",
       "      <th>1</th>\n",
       "      <td>Torgersen</td>\n",
       "      <td>39.1</td>\n",
       "      <td>18.7</td>\n",
       "      <td>181.0</td>\n",
       "      <td>3750.0</td>\n",
       "      <td>male</td>\n",
       "      <td>2007</td>\n",
       "      <td>Adelie</td>\n",
       "    </tr>\n",
       "    <tr>\n",
       "      <th>2</th>\n",
       "      <td>Torgersen</td>\n",
       "      <td>39.5</td>\n",
       "      <td>17.4</td>\n",
       "      <td>186.0</td>\n",
       "      <td>3800.0</td>\n",
       "      <td>female</td>\n",
       "      <td>2007</td>\n",
       "      <td>Adelie</td>\n",
       "    </tr>\n",
       "    <tr>\n",
       "      <th>3</th>\n",
       "      <td>Torgersen</td>\n",
       "      <td>40.3</td>\n",
       "      <td>18.0</td>\n",
       "      <td>195.0</td>\n",
       "      <td>3250.0</td>\n",
       "      <td>female</td>\n",
       "      <td>2007</td>\n",
       "      <td>Adelie</td>\n",
       "    </tr>\n",
       "    <tr>\n",
       "      <th>4</th>\n",
       "      <td>Torgersen</td>\n",
       "      <td>NaN</td>\n",
       "      <td>NaN</td>\n",
       "      <td>NaN</td>\n",
       "      <td>NaN</td>\n",
       "      <td>NaN</td>\n",
       "      <td>2007</td>\n",
       "      <td>Adelie</td>\n",
       "    </tr>\n",
       "    <tr>\n",
       "      <th>5</th>\n",
       "      <td>Torgersen</td>\n",
       "      <td>36.7</td>\n",
       "      <td>19.3</td>\n",
       "      <td>193.0</td>\n",
       "      <td>3450.0</td>\n",
       "      <td>female</td>\n",
       "      <td>2007</td>\n",
       "      <td>Adelie</td>\n",
       "    </tr>\n",
       "  </tbody>\n",
       "</table>\n",
       "</div>"
      ],
      "text/plain": [
       "          island  bill_length_mm  bill_depth_mm  flipper_length_mm  \\\n",
       "rowid                                                                \n",
       "1      Torgersen            39.1           18.7              181.0   \n",
       "2      Torgersen            39.5           17.4              186.0   \n",
       "3      Torgersen            40.3           18.0              195.0   \n",
       "4      Torgersen             NaN            NaN                NaN   \n",
       "5      Torgersen            36.7           19.3              193.0   \n",
       "\n",
       "       body_mass_g     sex  year species  \n",
       "rowid                                     \n",
       "1           3750.0    male  2007  Adelie  \n",
       "2           3800.0  female  2007  Adelie  \n",
       "3           3250.0  female  2007  Adelie  \n",
       "4              NaN     NaN  2007  Adelie  \n",
       "5           3450.0  female  2007  Adelie  "
      ]
     },
     "execution_count": 3,
     "metadata": {},
     "output_type": "execute_result"
    }
   ],
   "source": [
    "df = pd.read_csv('../Datasets/penguins.csv', index_col=0)\n",
    "df.head()"
   ]
  },
  {
   "cell_type": "code",
   "execution_count": 77,
   "id": "9e103bf1",
   "metadata": {},
   "outputs": [],
   "source": [
    "df.dropna(inplace=True)"
   ]
  },
  {
   "cell_type": "code",
   "execution_count": 78,
   "id": "fd4fb4ab",
   "metadata": {},
   "outputs": [],
   "source": [
    "features = df.loc[:,['bill_length_mm','flipper_length_mm','body_mass_g']]\n",
    "features = features.values\n",
    "label = df.iloc[:,-1:].values\n",
    "encoder = LabelEncoder()\n",
    "label = encoder.fit_transform(label)\n",
    "\n",
    "xtrain, xtest, ytrain, ytest = train_test_split(features,\n",
    "                                                    label,\n",
    "                                                    test_size=0.30,\n",
    "                                                    random_state=0)"
   ]
  },
  {
   "cell_type": "markdown",
   "id": "3279dcd3",
   "metadata": {},
   "source": [
    "### Train a single layer perceptron model and determine the minimum error below 0.2"
   ]
  },
  {
   "cell_type": "code",
   "execution_count": 79,
   "id": "3a723ad5",
   "metadata": {},
   "outputs": [],
   "source": [
    "model = Sequential()\n",
    "model.add(Dense(1, activation='sigmoid', input_shape=(3,)))"
   ]
  },
  {
   "cell_type": "code",
   "execution_count": 80,
   "id": "4a6dc549",
   "metadata": {
    "scrolled": false
   },
   "outputs": [
    {
     "name": "stdout",
     "output_type": "stream",
     "text": [
      "Model: \"sequential_8\"\n",
      "_________________________________________________________________\n",
      "Layer (type)                 Output Shape              Param #   \n",
      "=================================================================\n",
      "dense_8 (Dense)              (None, 1)                 4         \n",
      "=================================================================\n",
      "Total params: 4\n",
      "Trainable params: 4\n",
      "Non-trainable params: 0\n",
      "_________________________________________________________________\n"
     ]
    }
   ],
   "source": [
    "model.summary()"
   ]
  },
  {
   "cell_type": "code",
   "execution_count": 81,
   "id": "a9c7c82e",
   "metadata": {},
   "outputs": [],
   "source": [
    "model.compile(optimizer=Adam(learning_rate=0.4), \\\n",
    "              loss='binary_crossentropy', metrics=['accuracy'])"
   ]
  },
  {
   "cell_type": "code",
   "execution_count": 88,
   "id": "2ae83e56",
   "metadata": {},
   "outputs": [
    {
     "name": "stdout",
     "output_type": "stream",
     "text": [
      "Train on 63 samples\n",
      "Epoch 1/100\n",
      "63/63 [==============================] - 0s 455us/sample - loss: 13.6814 - accuracy: 0.7619\n",
      "Epoch 2/100\n",
      "63/63 [==============================] - 0s 71us/sample - loss: 12.5720 - accuracy: 0.7619\n",
      "Epoch 3/100\n",
      "63/63 [==============================] - 0s 71us/sample - loss: 16.6654 - accuracy: 0.6667\n",
      "Epoch 4/100\n",
      "63/63 [==============================] - 0s 65us/sample - loss: 14.7126 - accuracy: 0.7619\n",
      "Epoch 5/100\n",
      "63/63 [==============================] - 0s 78us/sample - loss: 25.4146 - accuracy: 0.6349\n",
      "Epoch 6/100\n",
      "63/63 [==============================] - 0s 60us/sample - loss: 15.9394 - accuracy: 0.7619\n",
      "Epoch 7/100\n",
      "63/63 [==============================] - 0s 63us/sample - loss: 9.7335 - accuracy: 0.7937\n",
      "Epoch 8/100\n",
      "63/63 [==============================] - 0s 61us/sample - loss: 9.1156 - accuracy: 0.7937\n",
      "Epoch 9/100\n",
      "63/63 [==============================] - 0s 92us/sample - loss: 9.7424 - accuracy: 0.8095\n",
      "Epoch 10/100\n",
      "63/63 [==============================] - 0s 57us/sample - loss: 10.7336 - accuracy: 0.7619\n",
      "Epoch 11/100\n",
      "63/63 [==============================] - 0s 59us/sample - loss: 10.5196 - accuracy: 0.7778\n",
      "Epoch 12/100\n",
      "63/63 [==============================] - 0s 58us/sample - loss: 29.7729 - accuracy: 0.6667\n",
      "Epoch 13/100\n",
      "63/63 [==============================] - 0s 89us/sample - loss: 18.1306 - accuracy: 0.6825\n",
      "Epoch 14/100\n",
      "63/63 [==============================] - 0s 91us/sample - loss: 21.2234 - accuracy: 0.7302\n",
      "Epoch 15/100\n",
      "63/63 [==============================] - 0s 67us/sample - loss: 17.4282 - accuracy: 0.6508\n",
      "Epoch 16/100\n",
      "63/63 [==============================] - 0s 94us/sample - loss: 72.3874 - accuracy: 0.5397\n",
      "Epoch 17/100\n",
      "63/63 [==============================] - 0s 102us/sample - loss: 34.3401 - accuracy: 0.7460\n",
      "Epoch 18/100\n",
      "63/63 [==============================] - 0s 83us/sample - loss: 60.7388 - accuracy: 0.6032\n",
      "Epoch 19/100\n",
      "63/63 [==============================] - 0s 78us/sample - loss: 63.1940 - accuracy: 0.5397\n",
      "Epoch 20/100\n",
      "63/63 [==============================] - 0s 82us/sample - loss: 33.6840 - accuracy: 0.5714\n",
      "Epoch 21/100\n",
      "63/63 [==============================] - 0s 68us/sample - loss: 49.4446 - accuracy: 0.5873\n",
      "Epoch 22/100\n",
      "63/63 [==============================] - 0s 88us/sample - loss: 34.7672 - accuracy: 0.6825\n",
      "Epoch 23/100\n",
      "63/63 [==============================] - 0s 78us/sample - loss: 31.3867 - accuracy: 0.6667\n",
      "Epoch 24/100\n",
      "63/63 [==============================] - 0s 76us/sample - loss: 19.8753 - accuracy: 0.7778\n",
      "Epoch 25/100\n",
      "63/63 [==============================] - 0s 109us/sample - loss: 32.6204 - accuracy: 0.6190\n",
      "Epoch 26/100\n",
      "63/63 [==============================] - 0s 58us/sample - loss: 29.7681 - accuracy: 0.7302\n",
      "Epoch 27/100\n",
      "63/63 [==============================] - 0s 90us/sample - loss: 26.1171 - accuracy: 0.6825\n",
      "Epoch 28/100\n",
      "63/63 [==============================] - 0s 71us/sample - loss: 24.1677 - accuracy: 0.7302\n",
      "Epoch 29/100\n",
      "63/63 [==============================] - 0s 81us/sample - loss: 19.9371 - accuracy: 0.6825\n",
      "Epoch 30/100\n",
      "63/63 [==============================] - 0s 75us/sample - loss: 26.3754 - accuracy: 0.7143\n",
      "Epoch 31/100\n",
      "63/63 [==============================] - 0s 68us/sample - loss: 13.9192 - accuracy: 0.7460\n",
      "Epoch 32/100\n",
      "63/63 [==============================] - 0s 74us/sample - loss: 14.3150 - accuracy: 0.7302\n",
      "Epoch 33/100\n",
      "63/63 [==============================] - 0s 74us/sample - loss: 7.4930 - accuracy: 0.7619\n",
      "Epoch 34/100\n",
      "63/63 [==============================] - 0s 93us/sample - loss: 16.9926 - accuracy: 0.7778\n",
      "Epoch 35/100\n",
      "63/63 [==============================] - 0s 91us/sample - loss: 16.1084 - accuracy: 0.7460\n",
      "Epoch 36/100\n",
      "63/63 [==============================] - 0s 93us/sample - loss: 15.3941 - accuracy: 0.7460\n",
      "Epoch 37/100\n",
      "63/63 [==============================] - 0s 61us/sample - loss: 11.2238 - accuracy: 0.7937\n",
      "Epoch 38/100\n",
      "63/63 [==============================] - 0s 74us/sample - loss: 10.4237 - accuracy: 0.7778\n",
      "Epoch 39/100\n",
      "63/63 [==============================] - 0s 91us/sample - loss: 11.5960 - accuracy: 0.7460\n",
      "Epoch 40/100\n",
      "63/63 [==============================] - 0s 64us/sample - loss: 11.8496 - accuracy: 0.7778\n",
      "Epoch 41/100\n",
      "63/63 [==============================] - 0s 94us/sample - loss: 8.2977 - accuracy: 0.8571\n",
      "Epoch 42/100\n",
      "63/63 [==============================] - 0s 65us/sample - loss: 11.9161 - accuracy: 0.8254\n",
      "Epoch 43/100\n",
      "63/63 [==============================] - 0s 50us/sample - loss: 9.9178 - accuracy: 0.7937\n",
      "Epoch 44/100\n",
      "63/63 [==============================] - 0s 59us/sample - loss: 10.2292 - accuracy: 0.8095\n",
      "Epoch 45/100\n",
      "63/63 [==============================] - 0s 77us/sample - loss: 8.1335 - accuracy: 0.8254\n",
      "Epoch 46/100\n",
      "63/63 [==============================] - 0s 80us/sample - loss: 8.3830 - accuracy: 0.7937\n",
      "Epoch 47/100\n",
      "63/63 [==============================] - 0s 57us/sample - loss: 14.1788 - accuracy: 0.7778\n",
      "Epoch 48/100\n",
      "63/63 [==============================] - 0s 74us/sample - loss: 9.9173 - accuracy: 0.7619\n",
      "Epoch 49/100\n",
      "63/63 [==============================] - 0s 61us/sample - loss: 12.6059 - accuracy: 0.7460\n",
      "Epoch 50/100\n",
      "63/63 [==============================] - 0s 74us/sample - loss: 9.2994 - accuracy: 0.8095\n",
      "Epoch 51/100\n",
      "63/63 [==============================] - 0s 81us/sample - loss: 10.6496 - accuracy: 0.7619\n",
      "Epoch 52/100\n",
      "63/63 [==============================] - 0s 81us/sample - loss: 8.5535 - accuracy: 0.8095\n",
      "Epoch 53/100\n",
      "63/63 [==============================] - 0s 70us/sample - loss: 8.8595 - accuracy: 0.7937\n",
      "Epoch 54/100\n",
      "63/63 [==============================] - 0s 71us/sample - loss: 12.5553 - accuracy: 0.7937\n",
      "Epoch 55/100\n",
      "63/63 [==============================] - 0s 57us/sample - loss: 9.1274 - accuracy: 0.8254\n",
      "Epoch 56/100\n",
      "63/63 [==============================] - 0s 54us/sample - loss: 10.3936 - accuracy: 0.7619\n",
      "Epoch 57/100\n",
      "63/63 [==============================] - 0s 80us/sample - loss: 12.9181 - accuracy: 0.7778\n",
      "Epoch 58/100\n",
      "63/63 [==============================] - 0s 75us/sample - loss: 9.4187 - accuracy: 0.7937\n",
      "Epoch 59/100\n",
      "63/63 [==============================] - 0s 64us/sample - loss: 8.3266 - accuracy: 0.7937\n",
      "Epoch 60/100\n",
      "63/63 [==============================] - 0s 64us/sample - loss: 9.2216 - accuracy: 0.7937\n",
      "Epoch 61/100\n",
      "63/63 [==============================] - 0s 53us/sample - loss: 8.8174 - accuracy: 0.8095\n",
      "Epoch 62/100\n",
      "63/63 [==============================] - 0s 73us/sample - loss: 8.4217 - accuracy: 0.8254\n",
      "Epoch 63/100\n",
      "63/63 [==============================] - 0s 61us/sample - loss: 13.8495 - accuracy: 0.8095\n",
      "Epoch 64/100\n",
      "63/63 [==============================] - 0s 68us/sample - loss: 7.7079 - accuracy: 0.8254\n",
      "Epoch 65/100\n",
      "63/63 [==============================] - 0s 76us/sample - loss: 7.7148 - accuracy: 0.8254\n",
      "Epoch 66/100\n",
      "63/63 [==============================] - 0s 66us/sample - loss: 10.8513 - accuracy: 0.7619\n",
      "Epoch 67/100\n",
      "63/63 [==============================] - 0s 58us/sample - loss: 9.4752 - accuracy: 0.7460\n",
      "Epoch 68/100\n",
      "63/63 [==============================] - 0s 55us/sample - loss: 7.8689 - accuracy: 0.8095\n",
      "Epoch 69/100\n",
      "63/63 [==============================] - 0s 57us/sample - loss: 11.1713 - accuracy: 0.8095\n",
      "Epoch 70/100\n",
      "63/63 [==============================] - 0s 82us/sample - loss: 49.5217 - accuracy: 0.5079\n",
      "Epoch 71/100\n",
      "63/63 [==============================] - 0s 67us/sample - loss: 26.5380 - accuracy: 0.6984\n",
      "Epoch 72/100\n",
      "63/63 [==============================] - 0s 76us/sample - loss: 66.6131 - accuracy: 0.4286\n",
      "Epoch 73/100\n",
      "63/63 [==============================] - 0s 71us/sample - loss: 49.1741 - accuracy: 0.5714\n",
      "Epoch 74/100\n",
      "63/63 [==============================] - 0s 61us/sample - loss: 35.6421 - accuracy: 0.6349\n",
      "Epoch 75/100\n",
      "63/63 [==============================] - 0s 57us/sample - loss: 36.4312 - accuracy: 0.6032\n",
      "Epoch 76/100\n",
      "63/63 [==============================] - 0s 83us/sample - loss: 97.4111 - accuracy: 0.4921\n",
      "Epoch 77/100\n",
      "63/63 [==============================] - 0s 61us/sample - loss: 96.8895 - accuracy: 0.5397\n",
      "Epoch 78/100\n",
      "63/63 [==============================] - 0s 54us/sample - loss: 36.9256 - accuracy: 0.6984\n",
      "Epoch 79/100\n"
     ]
    },
    {
     "name": "stdout",
     "output_type": "stream",
     "text": [
      "63/63 [==============================] - 0s 49us/sample - loss: 70.8585 - accuracy: 0.6349\n",
      "Epoch 80/100\n",
      "63/63 [==============================] - 0s 59us/sample - loss: 47.4620 - accuracy: 0.6190\n",
      "Epoch 81/100\n",
      "63/63 [==============================] - 0s 60us/sample - loss: 44.0646 - accuracy: 0.6667\n",
      "Epoch 82/100\n",
      "63/63 [==============================] - 0s 77us/sample - loss: 22.9720 - accuracy: 0.7143\n",
      "Epoch 83/100\n",
      "63/63 [==============================] - 0s 71us/sample - loss: 17.7974 - accuracy: 0.8254\n",
      "Epoch 84/100\n",
      "63/63 [==============================] - 0s 75us/sample - loss: 42.8863 - accuracy: 0.5397\n",
      "Epoch 85/100\n",
      "63/63 [==============================] - 0s 50us/sample - loss: 32.9654 - accuracy: 0.6984\n",
      "Epoch 86/100\n",
      "63/63 [==============================] - 0s 78us/sample - loss: 22.7783 - accuracy: 0.7619\n",
      "Epoch 87/100\n",
      "63/63 [==============================] - 0s 74us/sample - loss: 24.7782 - accuracy: 0.7302\n",
      "Epoch 88/100\n",
      "63/63 [==============================] - 0s 71us/sample - loss: 11.8858 - accuracy: 0.7619\n",
      "Epoch 89/100\n",
      "63/63 [==============================] - 0s 71us/sample - loss: 9.1682 - accuracy: 0.7778\n",
      "Epoch 90/100\n",
      "63/63 [==============================] - 0s 78us/sample - loss: 9.3264 - accuracy: 0.8095\n",
      "Epoch 91/100\n",
      "63/63 [==============================] - 0s 77us/sample - loss: 12.1154 - accuracy: 0.8095\n",
      "Epoch 92/100\n",
      "63/63 [==============================] - 0s 64us/sample - loss: 11.7218 - accuracy: 0.7619\n",
      "Epoch 93/100\n",
      "63/63 [==============================] - 0s 67us/sample - loss: 12.5729 - accuracy: 0.7778\n",
      "Epoch 94/100\n",
      "63/63 [==============================] - 0s 82us/sample - loss: 12.5825 - accuracy: 0.7619\n",
      "Epoch 95/100\n",
      "63/63 [==============================] - 0s 70us/sample - loss: 12.2950 - accuracy: 0.7937\n",
      "Epoch 96/100\n",
      "63/63 [==============================] - 0s 68us/sample - loss: 14.9263 - accuracy: 0.7460\n",
      "Epoch 97/100\n",
      "63/63 [==============================] - 0s 74us/sample - loss: 11.7456 - accuracy: 0.7937\n",
      "Epoch 98/100\n",
      "63/63 [==============================] - 0s 58us/sample - loss: 8.8374 - accuracy: 0.8413\n",
      "Epoch 99/100\n",
      "63/63 [==============================] - 0s 73us/sample - loss: 9.1457 - accuracy: 0.7937\n",
      "Epoch 100/100\n",
      "63/63 [==============================] - 0s 60us/sample - loss: 8.4557 - accuracy: 0.8413\n"
     ]
    }
   ],
   "source": [
    "history = model.fit(xtrain, ytrain, epochs=100, verbose=1, )"
   ]
  },
  {
   "cell_type": "code",
   "execution_count": 83,
   "id": "1e3e1e2e",
   "metadata": {
    "scrolled": true
   },
   "outputs": [
    {
     "name": "stdout",
     "output_type": "stream",
     "text": [
      "\n",
      "\n",
      "Loss: 24.991989135742188, Accuracy: 0.6666666865348816\n"
     ]
    }
   ],
   "source": [
    "loss, accuracy = model.evaluate(xtest, ytest, verbose = 0)\n",
    "print(f'\\n\\nLoss: {loss}, Accuracy: {accuracy}')"
   ]
  },
  {
   "cell_type": "code",
   "execution_count": 86,
   "id": "929aac0c",
   "metadata": {},
   "outputs": [],
   "source": [
    "ypred = model.predict(xtest)"
   ]
  },
  {
   "cell_type": "markdown",
   "id": "09b95c5f",
   "metadata": {},
   "source": [
    "### To compute the final weight of each attribute"
   ]
  },
  {
   "cell_type": "code",
   "execution_count": 87,
   "id": "bc205e45",
   "metadata": {},
   "outputs": [
    {
     "name": "stdout",
     "output_type": "stream",
     "text": [
      "[array([[-2.1627753 ],\n",
      "       [-3.3834507 ],\n",
      "       [ 0.16183503]], dtype=float32), array([-6.940952], dtype=float32)]\n"
     ]
    }
   ],
   "source": [
    "print(model.get_weights())"
   ]
  },
  {
   "cell_type": "markdown",
   "id": "985150bc",
   "metadata": {},
   "source": [
    "### To plot the epooch vs error plot"
   ]
  },
  {
   "cell_type": "code",
   "execution_count": 98,
   "id": "0ed3bd1d",
   "metadata": {},
   "outputs": [
    {
     "data": {
      "image/png": "[encoded data removed]",
      "text/plain": [
       "<Figure size 432x288 with 1 Axes>"
      ]
     },
     "metadata": {
      "needs_background": "light"
     },
     "output_type": "display_data"
    }
   ],
   "source": [
    "# Loss or Error\n",
    "\n",
    "plt.plot(history.history['loss'])\n",
    "plt.title('Model Loss')\n",
    "plt.xlabel('Epoch')\n",
    "plt.ylabel('Loss')\n",
    "plt.legend(['Training'])\n",
    "plt.show()"
   ]
  },
  {
   "cell_type": "code",
   "execution_count": 97,
   "id": "62ca6189",
   "metadata": {},
   "outputs": [
    {
     "data": {
      "image/png": "[encoded data removed]",
      "text/plain": [
       "<Figure size 432x288 with 1 Axes>"
      ]
     },
     "metadata": {
      "needs_background": "light"
     },
     "output_type": "display_data"
    }
   ],
   "source": [
    "plt.plot(history.history['accuracy'])\n",
    "plt.title('Model Accuracy')\n",
    "plt.xlabel('Epoch')\n",
    "plt.ylabel('Accuracy')\n",
    "plt.legend(['Training'])\n",
    "plt.show()"
   ]
  }
 ],
 "metadata": {
  "kernelspec": {
   "display_name": "Python 3 (ipykernel)",
   "language": "python",
   "name": "python3"
  },
  "language_info": {
   "codemirror_mode": {
    "name": "ipython",
    "version": 3
   },
   "file_extension": ".py",
   "mimetype": "text/x-python",
   "name": "python",
   "nbconvert_exporter": "python",
   "pygments_lexer": "ipython3",
   "version": "3.7.13"
  }
 },
 "nbformat": 4,
 "nbformat_minor": 5
}
