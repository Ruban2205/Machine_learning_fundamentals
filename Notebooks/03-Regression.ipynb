{
 "cells": [
  {
   "cell_type": "markdown",
   "id": "3ddef724",
   "metadata": {},
   "source": [
    "## <span style=\"color : green\"> Implementing Regression Models </span>\n",
    "\n",
    "# <center> Table of Contents </center>\n",
    "\n",
    "1. Computing $b0$ and $b1$ in the simple linear equation and predict the $Ypred$\n",
    "1. Compute the intercepts and coefficients of independent variable in MLP and predict the $Ypred$\n",
    "2. Plot the regression line \n",
    "1. Evaluate the model using Mean Squared Error, R-Squared score\n",
    "1. Train a logistic model and evaluate using recall, precision, accuracy and confusion matrix"
   ]
  },
  {
   "cell_type": "code",
   "execution_count": null,
   "id": "f873ddc0",
   "metadata": {},
   "outputs": [],
   "source": []
  }
 ],
 "metadata": {
  "kernelspec": {
   "display_name": "Python 3 (ipykernel)",
   "language": "python",
   "name": "python3"
  },
  "language_info": {
   "codemirror_mode": {
    "name": "ipython",
    "version": 3
   },
   "file_extension": ".py",
   "mimetype": "text/x-python",
   "name": "python",
   "nbconvert_exporter": "python",
   "pygments_lexer": "ipython3",
   "version": "3.7.13"
  }
 },
 "nbformat": 4,
 "nbformat_minor": 5
}
